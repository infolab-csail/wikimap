{
 "metadata": {
  "name": ""
 },
 "nbformat": 3,
 "nbformat_minor": 0,
 "worksheets": [
  {
   "cells": [
    {
     "cell_type": "code",
     "collapsed": false,
     "input": [
      "%matplotlib inline"
     ],
     "language": "python",
     "metadata": {},
     "outputs": [],
     "prompt_number": 1
    },
    {
     "cell_type": "heading",
     "level": 1,
     "metadata": {},
     "source": [
      "Wikimap Status"
     ]
    },
    {
     "cell_type": "markdown",
     "metadata": {},
     "source": [
      "Ran the `wikimap status` command in `/wikimap/wikimap` like this: \n",
      "\n",
      "```\n",
      "wikimap status ./data-folder/clean_attribute_synonyms_redone.gpickle ./data-folder/infoboxes.xlsx ./data-folder/empty_report.json ./data-folder/explosion_report.json\n",
      "```\n",
      "\n",
      "with the following excerpted results:"
     ]
    },
    {
     "cell_type": "heading",
     "level": 2,
     "metadata": {},
     "source": [
      "Empty"
     ]
    },
    {
     "cell_type": "markdown",
     "metadata": {},
     "source": [
      "This includes statistics about infoboxes for which Python WikipediaBase does not provide mappings.\n",
      "\n",
      "```\n",
      "Statistics:\n",
      "Missing 2658 Infobox templates out of 3595 total, or 73.94%\n",
      "Missing 569913 Wikipedia pages out of 2607241 total, or 21.86%\n",
      "Missed template with most pages: [Template:Infobox french commune] with 36791 pages\n",
      "```"
     ]
    },
    {
     "cell_type": "heading",
     "level": 2,
     "metadata": {},
     "source": [
      "Explosion"
     ]
    },
    {
     "cell_type": "markdown",
     "metadata": {},
     "source": [
      "This includes statistics about the largest subgraph (see breakdown of subgraphs by size in \"Sample Subgraphs\" below).\n",
      "\n",
      "```\n",
      "Statistics:\n",
      "There are 1992469 Wikipedia pages in the explosion out of 2607241 total, or 76.42%\n",
      "In order, missed infoboxes with the most pages:\n",
      "('Template:Infobox settlement', 354090.0)\n",
      "('Template:Infobox person', 146915.0)\n",
      "('Template:Infobox album', 122492.0)\n",
      "('Template:Infobox football biography', 118713.0)\n",
      "('Template:Infobox film', 92138.0)\n",
      "('Template:Infobox musical artist', 75975.0)\n",
      "('Template:Infobox nrhp', 51425.0)\n",
      "('Template:Infobox company', 50172.0)\n",
      "('Template:Infobox single', 47227.0)\n",
      "('Template:Infobox officeholder', 37139.0)\n",
      "('Template:Infobox book', 30794.0)\n",
      "('Template:Infobox television', 29280.0)\n",
      "('Template:Infobox military person', 27662.0)\n",
      "('Template:Infobox school', 22192.0)\n",
      "('Template:Infobox sportsperson', 19344.0)\n",
      "('Template:Infobox writer', 19319.0)\n",
      "('Template:Infobox scientist', 19272.0)\n",
      "('Template:Infobox radio station', 18663.0)\n",
      "('Template:Infobox road', 18055.0)\n",
      "('Template:Infobox university', 17891.0)\n",
      "('Template:Infobox football club', 17065.0)\n",
      "('Template:Infobox mountain', 16137.0)\n",
      "('Template:Infobox station', 16026.0)\n",
      "('Template:Infobox military unit', 15748.0)\n",
      "('Template:Infobox ice hockey player', 14392.0)\n",
      "('Template:Infobox airport', 14094.0)\n",
      "('Template:Infobox cricketer', 13781.0)\n",
      "('Template:Infobox river', 12909.0)\n",
      "('Template:Infobox organization', 12855.0)\n",
      "('Template:Infobox military conflict', 12804.0)\n",
      "('Template:Infobox video game', 12534.0)\n",
      "('Template:Infobox planet', 11055.0)\n",
      "('Template:Infobox artist', 10836.0)\n",
      "('Template:Infobox lake', 10244.0)\n",
      "('Template:Infobox building', 9962.0)\n",
      "('Template:Infobox software', 9822.0)\n",
      "('Template:Infobox royalty', 8840.0)\n",
      "('Template:Infobox language', 8021.0)\n",
      "('Template:Infobox football club season', 7850.0)\n",
      "('Template:Infobox cyclist', 7407.0)\n",
      "('Template:Infobox television episode', 7237.0)\n",
      "('Template:Infobox basketball biography', 6972.0)\n",
      "('Template:Infobox church', 6836.0)\n",
      "('Template:Infobox college coach', 6630.0)\n",
      "('Template:Infobox protected area', 6418.0)\n",
      "('Template:Infobox newspaper', 6244.0)\n",
      "('Template:Infobox journal', 5939.0)\n",
      "('Template:Infobox rugby league biography', 5891.0)\n",
      "('Template:Infobox gridiron football person', 5845.0)\n",
      "('Template:Infobox rugby biography', 5690.0)\n",
      "('Template:Infobox rockunit', 5383.0)\n",
      "('Template:Infobox political party', 5315.0)\n",
      "('Template:Infobox japan station', 5215.0)\n",
      "('Template:Infobox weapon', 5184.0)\n",
      "('Template:Infobox song', 4960.0)\n",
      "('Template:Infobox automobile', 4903.0)\n",
      "('Template:Infobox military structure', 4794.0)\n",
      "('Template:Infobox government agency', 4760.0)\n",
      "('Template:Infobox magazine', 4641.0)\n",
      "('Template:Infobox museum', 4571.0)\n",
      "('Template:Infobox tennis biography', 4288.0)\n",
      "('Template:Infobox islands', 4224.0)\n",
      "('Template:Infobox prepared food', 4221.0)\n",
      "('Template:Infobox swimmer', 4052.0)\n",
      "('Template:Infobox award', 3833.0)\n",
      "('Template:Infobox bridge', 3764.0)\n",
      "('Template:Infobox artwork', 3675.0)\n",
      "('Template:Infobox airline', 3650.0)\n",
      "('Template:Infobox boxer', 3629.0)\n",
      "('Template:Infobox character', 3624.0)\n",
      "('Template:Infobox historic site', 3384.0)\n",
      "('Template:Infobox broadcast', 3367.0)\n",
      "('Template:Infobox website', 3332.0)\n",
      "('Template:Infobox religious building', 3292.0)\n",
      "('Template:Infobox locomotive', 3225.0)\n",
      "('Template:Infobox diocese', 3153.0)\n",
      "('Template:Infobox martial artist', 3146.0)\n",
      "('Template:Infobox rail line', 3139.0)\n",
      "('Template:Infobox saint', 3059.0)\n",
      "('Template:Infobox dam', 3005.0)\n",
      "('Template:Infobox figure skater', 2913.0)\n",
      "('Template:Infobox television season', 2891.0)\n",
      "('Template:Infobox hospital', 2834.0)\n",
      "('Template:Infobox professional wrestler', 2818.0)\n",
      "('Template:Infobox golfer', 2800.0)\n",
      "('Template:Infobox record label', 2757.0)\n",
      "('Template:Infobox former country', 2640.0)\n",
      "('Template:Infobox comics creator', 2628.0)\n",
      "('Template:Infobox international football competition', 2605.0)\n",
      "('Template:Infobox monarch', 2598.0)\n",
      "('Template:Infobox shopping mall', 2502.0)\n",
      "('Template:Infobox given name', 2493.0)\n",
      "('Template:Infobox football match', 2481.0)\n",
      "('Template:Infobox pageant titleholder', 2380.0)\n",
      "('Template:Infobox football tournament season', 2344.0)\n",
      "('Template:Infobox mountain range', 2311.0)\n",
      "('Template:Infobox television film', 2256.0)\n",
      "('Template:Infobox concert tour', 2217.0)\n",
      "('Template:Infobox rugby team', 2098.0)\n",
      "('Template:Infobox sports league', 2086.0)\n",
      "('Template:Infobox spaceflight', 2014.0)\n",
      "('Template:Infobox power station', 2004.0)\n",
      "('Template:Infobox nobility', 1956.0)\n",
      "('Template:Infobox sports season', 1932.0)\n",
      "('Template:Infobox military award', 1841.0)\n",
      "('Template:Infobox horseraces', 1836.0)\n",
      "('Template:Infobox racing driver', 1824.0)\n",
      "('Template:Infobox comic book title', 1819.0)\n",
      "('Template:Infobox play', 1772.0)\n",
      "('Template:Infobox secondary school', 1718.0)\n",
      "('Template:Infobox handball biography', 1686.0)\n",
      "('Template:Infobox criminal', 1646.0)\n",
      "('Template:Infobox constituency', 1641.0)\n",
      "('Template:Infobox cultivar', 1627.0)\n",
      "('Template:Infobox mine', 1612.0)\n",
      "('Template:Infobox lighthouse', 1612.0)\n",
      "('Template:Infobox architect', 1611.0)\n",
      "('Template:Infobox philosopher', 1598.0)\n",
      "('Template:Infobox model', 1591.0)\n",
      "('Template:Infobox union', 1568.0)\n",
      "('Template:Infobox gymnast', 1544.0)\n",
      "('Template:Infobox adult biography', 1515.0)\n",
      "('Template:Infobox legislature', 1498.0)\n",
      "('Template:Infobox ancient site', 1498.0)\n",
      "('Template:Infobox school district', 1487.0)\n",
      "('Template:Infobox soap character 2', 1480.0)\n",
      "('Template:Infobox civilian attack', 1462.0)\n",
      "('Template:Infobox short story', 1447.0)\n",
      "('Template:Infobox theatre', 1432.0)\n",
      "('Template:Infobox football league', 1414.0)\n",
      "('Template:Infobox bus transit', 1394.0)\n",
      "('Template:Infobox former subdivision', 1383.0)\n",
      "('Template:Infobox comedian', 1303.0)\n",
      "('Template:Infobox law enforcement agency', 1300.0)\n",
      "('Template:Infobox publisher', 1281.0)\n",
      "('Template:Infobox cycling race report', 1272.0)\n",
      "('Template:Infobox basketball club', 1269.0)\n",
      "('Template:Infobox musical', 1258.0)\n",
      "('Template:Infobox chess player', 1252.0)\n",
      "('Template:Infobox mineral', 1227.0)\n",
      "('Template:Infobox hurricane', 1219.0)\n",
      "('Template:Infobox road small', 1204.0)\n",
      "('Template:Infobox rail service', 1166.0)\n",
      "('Template:Infobox skier', 1160.0)\n",
      "('Template:Infobox music festival', 1152.0)\n",
      "('Template:Infobox figure skating competition', 1143.0)\n",
      "('Template:Infobox street', 1135.0)\n",
      "('Template:Infobox radio show', 1118.0)\n",
      "('Template:Infobox national football team', 1102.0)\n",
      "('Template:Infobox soap character', 1087.0)\n",
      "('Template:Infobox train', 1087.0)\n",
      "('Template:Infobox mobile phone', 1081.0)\n",
      "('Template:Infobox recurring event', 1080.0)\n",
      "('Template:Infobox motorcycle rider', 1079.0)\n",
      "('Template:Infobox protein family', 1078.0)\n",
      "('Template:Infobox comics character', 1075.0)\n",
      "('Template:Infobox language family', 1063.0)\n",
      "('Template:Infobox venue', 1053.0)\n",
      "('Template:Infobox mountain pass', 1028.0)\n",
      "('Template:Infobox hockey team', 1020.0)\n",
      "('Template:Infobox holiday', 1019.0)\n",
      "('Template:Infobox motorcycle', 988.0)\n",
      "('Template:Infobox game', 961.0)\n",
      "('Template:Infobox rfam', 946.0)\n",
      "('Template:Infobox film awards', 936.0)\n",
      "('Template:Infobox family name', 934.0)\n",
      "('Template:Infobox prison', 915.0)\n",
      "('Template:Infobox zoo', 889.0)\n",
      "('Template:Infobox film festival', 850.0)\n",
      "('Template:Infobox religious biography', 846.0)\n",
      "('Template:Infobox public transit', 838.0)\n",
      "('Template:Infobox restaurant', 820.0)\n",
      "('Template:Infobox library', 814.0)\n",
      "('Template:Infobox racehorse', 811.0)\n",
      "('Template:Infobox body of water', 799.0)\n",
      "('Template:Infobox sports team', 792.0)\n",
      "('Template:Infobox standard', 777.0)\n",
      "('Template:Infobox engineer', 768.0)\n",
      "('Template:Infobox hiking trail', 766.0)\n",
      "('Template:Infobox beverage', 757.0)\n",
      "('Template:Infobox sport governing body', 740.0)\n",
      "('Template:Infobox cricket ground', 719.0)\n",
      "('Template:Infobox aircraft occurrence', 706.0)\n",
      "('Template:Infobox cemetery', 703.0)\n",
      "('Template:Infobox roller coaster', 703.0)\n",
      "('Template:Infobox individual golf tournament', 698.0)\n",
      "('Template:Infobox rail', 689.0)\n",
      "('Template:Infobox television channel', 676.0)\n",
      "('Template:Infobox cycling race', 662.0)\n",
      "('Template:Infobox glacier', 661.0)\n",
      "('Template:Infobox poker player', 657.0)\n",
      "('Template:Infobox convention', 655.0)\n",
      "('Template:Infobox historic subdivision', 647.0)\n",
      "('Template:Infobox cricket tournament', 645.0)\n",
      "('Template:Infobox football tournament', 631.0)\n",
      "('Template:Infobox ski area', 629.0)\n",
      "('Template:Infobox camera', 627.0)\n",
      "('Template:Infobox galaxy', 626.0)\n",
      "('Template:Infobox instrument', 625.0)\n",
      "('Template:Infobox badminton player', 622.0)\n",
      "('Template:Infobox curler', 620.0)\n",
      "('Template:Infobox curling', 617.0)\n",
      "('Template:Infobox diplomatic mission', 610.0)\n",
      "('Template:Infobox coat of arms', 608.0)\n",
      "('Template:Infobox information appliance', 594.0)\n",
      "('Template:Infobox broadcasting network', 594.0)\n",
      "('Template:Infobox college', 593.0)\n",
      "('Template:Infobox official post', 582.0)\n",
      "('Template:Infobox pro wrestling championship', 566.0)\n",
      "('Template:Infobox flag', 557.0)\n",
      "('Template:Infobox treaty', 557.0)\n",
      "('Template:Infobox golf facility', 551.0)\n",
      "('Template:Infobox programming language', 544.0)\n",
      "('Template:Infobox brand', 542.0)\n",
      "('Template:Infobox monastery', 540.0)\n",
      "('Template:Infobox amusement park', 531.0)\n",
      "('Template:Infobox football official', 530.0)\n",
      "('Template:Infobox darts player', 529.0)\n",
      "('Template:Infobox oil field', 527.0)\n",
      "('Template:Infobox baseball team', 525.0)\n",
      "('Template:Infobox country at games', 525.0)\n",
      "('Template:Infobox pro football player', 516.0)\n",
      "('Template:Infobox chef', 508.0)\n",
      "('Template:Infobox golf tournament', 502.0)\n",
      "('Template:Infobox historical event', 494.0)\n",
      "('Template:Infobox firearm cartridge', 489.0)\n",
      "('Template:Infobox file format', 488.0)\n",
      "('Template:Infobox law firm', 486.0)\n",
      "('Template:Infobox rugby union season', 481.0)\n",
      "('Template:Infobox table tennis player', 479.0)\n",
      "('Template:Infobox monument', 479.0)\n",
      "('Template:Infobox amateur wrestler', 474.0)\n",
      "('Template:Infobox sailor', 474.0)\n",
      "('Template:Infobox port', 467.0)\n",
      "('Template:Infobox tunnel', 467.0)\n",
      "('Template:Infobox fashion designer', 465.0)\n",
      "('Template:Infobox sumo wrestler', 464.0)\n",
      "('Template:Infobox institute', 459.0)\n",
      "('Template:Infobox civil conflict', 458.0)\n",
      "('Template:Infobox anthem', 458.0)\n",
      "('Template:Infobox country', 457.0)\n",
      "('Template:Infobox observatory', 455.0)\n",
      "('Template:Infobox military installation', 451.0)\n",
      "('Template:Infobox cave', 445.0)\n",
      "('Template:Infobox automobile engine', 437.0)\n",
      "('Template:Infobox war faction', 436.0)\n",
      "('Template:Infobox alpine ski racer', 433.0)\n",
      "('Template:Infobox wrestling team', 431.0)\n",
      "('Template:Infobox noble', 426.0)\n",
      "('Template:Infobox kommune', 422.0)\n",
      "('Template:Infobox graphic novel', 420.0)\n",
      "('Template:Infobox handball club', 419.0)\n",
      "('Template:Infobox rail accident', 418.0)\n",
      "('Template:Infobox reality music competition', 413.0)\n",
      "('Template:Infobox australian football club', 413.0)\n",
      "('Template:Infobox casino', 410.0)\n",
      "('Template:Infobox fraternity', 410.0)\n",
      "('Template:Infobox squash player', 409.0)\n",
      "('Template:Infobox bus line', 407.0)\n",
      "('Template:Infobox criminal organization', 404.0)\n",
      "('Template:Infobox motorsport championship', 397.0)\n",
      "('Template:Infobox deity', 396.0)\n",
      "('Template:Infobox earthquake', 396.0)\n",
      "('Template:Infobox canal', 391.0)\n",
      "('Template:Infobox individual snooker tournament', 390.0)\n",
      "('Template:Infobox cricket tour', 389.0)\n",
      "('Template:Infobox windmill', 389.0)\n",
      "('Template:Infobox writing system', 384.0)\n",
      "('Template:Infobox racing car', 381.0)\n",
      "('Template:Infobox state highway system', 380.0)\n",
      "('Template:Infobox games', 378.0)\n",
      "('Template:Infobox temple', 377.0)\n",
      "('Template:Infobox grape variety', 377.0)\n",
      "('Template:Infobox wine region', 375.0)\n",
      "('Template:Infobox snooker player', 373.0)\n",
      "('Template:Infobox speed skater', 370.0)\n",
      "('Template:Infobox clergy', 367.0)\n",
      "('Template:Infobox rugby football league season', 362.0)\n",
      "('Template:Infobox currency', 362.0)\n",
      "('Template:Infobox lacrosse player', 361.0)\n",
      "('Template:Infobox artery', 358.0)\n",
      "('Template:Infobox given name2', 354.0)\n",
      "('Template:Infobox biodatabase', 353.0)\n",
      "('Template:Infobox order', 349.0)\n",
      "('Template:Infobox top level domain', 345.0)\n",
      "('Template:Infobox fencer', 342.0)\n",
      "('Template:Infobox national basketball team', 340.0)\n",
      "('Template:Infobox comic strip', 340.0)\n",
      "('Template:Infobox cycling team', 339.0)\n",
      "('Template:Infobox pharaoh', 336.0)\n",
      "('Template:Infobox orchestra', 333.0)\n",
      "('Template:Infobox tram network', 333.0)\n",
      "('Template:Infobox nerve', 328.0)\n",
      "('Template:Infobox roller derby league', 328.0)\n",
      "('Template:Infobox winery', 324.0)\n",
      "('Template:Infobox peer', 320.0)\n",
      "('Template:Infobox cheese', 313.0)\n",
      "('Template:Infobox scholar', 312.0)\n",
      "('Template:Infobox animal', 311.0)\n",
      "('Template:Infobox horse', 310.0)\n",
      "('Template:Infobox musical composition', 306.0)\n",
      "('Template:Infobox horse race', 300.0)\n",
      "('Template:Infobox book series', 297.0)\n",
      "('Template:Infobox font', 297.0)\n",
      "('Template:Infobox protein', 294.0)\n",
      "('Template:Infobox sports rivalry', 285.0)\n",
      "('Template:Infobox guitar model', 284.0)\n",
      "('Template:Infobox high court', 284.0)\n",
      "('Template:Infobox military memorial', 284.0)\n",
      "('Template:Infobox muscle', 280.0)\n",
      "('Template:Infobox comics organization', 279.0)\n",
      "('Template:Infobox identity document', 274.0)\n",
      "('Template:Infobox comics story arc', 269.0)\n",
      "('Template:Infobox rocket', 259.0)\n",
      "('Template:Infobox rugby league club', 256.0)\n",
      "('Template:Infobox surname', 254.0)\n",
      "('Template:Infobox netball biography', 253.0)\n",
      "('Template:Infobox castrum', 252.0)\n",
      "('Template:Infobox political youth organization', 252.0)\n",
      "('Template:Infobox fire department', 251.0)\n",
      "('Template:Infobox coin', 248.0)\n",
      "('Template:Infobox event', 248.0)\n",
      "('Template:Infobox badminton event', 244.0)\n",
      "('Template:Infobox volleyball biography', 244.0)\n",
      "('Template:Infobox rowing club', 244.0)\n",
      "('Template:Infobox martial art', 240.0)\n",
      "('Template:Infobox beauty pageant', 238.0)\n",
      "('Template:Infobox bodybuilder', 237.0)\n",
      "('Template:Infobox sport', 230.0)\n",
      "('Template:Infobox national military', 229.0)\n",
      "('Template:Infobox dancer', 228.0)\n",
      "('Template:Infobox comet', 228.0)\n",
      "('Template:Infobox color', 228.0)\n",
      "('Template:Infobox go player', 226.0)\n",
      "('Template:Infobox podcast', 225.0)\n",
      "('Template:Infobox animanga character', 222.0)\n",
      "('Template:Infobox mythical creature', 222.0)\n",
      "('Template:Infobox college baseball team', 217.0)\n",
      "('Template:Infobox economy', 217.0)\n",
      "('Template:Infobox tennis tournament', 214.0)\n",
      "('Template:Infobox cycling championship', 212.0)\n",
      "('Template:Infobox clan', 211.0)\n",
      "('Template:Infobox individual darts tournament', 211.0)\n",
      "('Template:Infobox law school', 210.0)\n",
      "('Template:Infobox frazione', 207.0)\n",
      "('Template:Infobox rally', 205.0)\n",
      "('Template:Infobox family', 201.0)\n",
      "('Template:Infobox field hockey player', 200.0)\n",
      "('Template:Infobox hockey', 199.0)\n",
      "('Template:Infobox document', 198.0)\n",
      "('Template:Infobox brewery', 195.0)\n",
      "('Template:Infobox defunct tennis tournament', 194.0)\n",
      "('Template:Infobox ligament', 190.0)\n",
      "('Template:Infobox racecourse', 182.0)\n",
      "('Template:Infobox squash tournament', 178.0)\n",
      "('Template:Infobox pipeline', 176.0)\n",
      "('Template:Infobox tornado outbreak', 173.0)\n",
      "('Template:Infobox synthesizer', 173.0)\n",
      "('Template:Infobox card game', 172.0)\n",
      "('Template:Infobox comics location', 171.0)\n",
      "('Template:Infobox named horse', 169.0)\n",
      "('Template:Infobox rugby tournament', 168.0)\n",
      "('Template:Infobox video game series', 168.0)\n",
      "('Template:Infobox motor race', 165.0)\n",
      "('Template:Infobox cricket tournament main', 164.0)\n",
      "('Template:Infobox flood', 164.0)\n",
      "('Template:Infobox artifact', 163.0)\n",
      "('Template:Infobox volleyball club', 162.0)\n",
      "('Template:Infobox sport club', 159.0)\n",
      "('Template:Infobox laboratory', 158.0)\n",
      "('Template:Infobox meteorite', 157.0)\n",
      "('Template:Infobox patriarch', 157.0)\n",
      "('Template:Infobox road junction', 157.0)\n",
      "('Template:Infobox occupation', 157.0)\n",
      "('Template:Infobox dava', 156.0)\n",
      "('Template:Infobox summit', 156.0)\n",
      "('Template:Infobox central bank', 155.0)\n",
      "('Template:Infobox sport wrestler', 154.0)\n",
      "('Template:Infobox rugby league football competition', 153.0)\n",
      "('Template:Infobox nuclear weapons test', 152.0)\n",
      "('Template:Infobox national volleyball team', 152.0)\n",
      "('Template:Infobox toy', 150.0)\n",
      "('Template:Infobox squash championship', 150.0)\n",
      "('Template:Infobox sport tournament', 148.0)\n",
      "('Template:Infobox spacecraft', 147.0)\n",
      "('Template:Infobox tennis cup team', 143.0)\n",
      "('Template:Infobox aviator', 143.0)\n",
      "('Template:Infobox chess opening', 142.0)\n",
      "('Template:Infobox residential college', 140.0)\n",
      "('Template:Infobox poultry breed', 139.0)\n",
      "('Template:Infobox ice hockey award', 138.0)\n",
      "('Template:Infobox winter storm', 138.0)\n",
      "('Template:Infobox drug', 137.0)\n",
      "('Template:Infobox cricket club season', 137.0)\n",
      "('Template:Infobox rocket stage', 136.0)\n",
      "('Template:Infobox wildfire', 135.0)\n",
      "('Template:Infobox country telephone plan', 135.0)\n",
      "('Template:Infobox national handball team', 135.0)\n",
      "('Template:Infobox convention center', 134.0)\n",
      "('Template:Infobox theologian', 134.0)\n",
      "('Template:Infobox mosque', 134.0)\n",
      "('Template:Infobox spy', 132.0)\n",
      "('Template:Infobox nebula', 132.0)\n",
      "('Template:Infobox pirate', 130.0)\n",
      "('Template:Infobox college marching band', 130.0)\n",
      "('Template:Infobox cricket series', 130.0)\n",
      "('Template:Infobox surfer', 129.0)\n",
      "('Template:Infobox waterlock', 128.0)\n",
      "('Template:Infobox sport event', 127.0)\n",
      "('Template:Infobox actor', 127.0)\n",
      "('Template:Infobox academic division', 127.0)\n",
      "('Template:Infobox dog breed', 125.0)\n",
      "('Template:Infobox telescope', 125.0)\n",
      "('Template:Infobox polyhedron', 124.0)\n",
      "('Template:Infobox college ice hockey team', 124.0)\n",
      "('Template:Infobox fictional location', 122.0)\n",
      "('Template:Infobox pinball', 122.0)\n",
      "('Template:Infobox radar', 121.0)\n",
      "('Template:Infobox militant organization', 121.0)\n",
      "('Template:Infobox architectural practice', 120.0)\n",
      "('Template:Infobox bus company', 118.0)\n",
      "('Template:Infobox students union', 117.0)\n",
      "('Template:Infobox college soccer team', 117.0)\n",
      "('Template:Infobox college basketball team', 116.0)\n",
      "('Template:Infobox theatre group', 115.0)\n",
      "('Template:Infobox ice hockey game', 114.0)\n",
      "('Template:Infobox motorcycle speedway team', 112.0)\n",
      "('Template:Infobox caste', 111.0)\n",
      "('Template:Infobox national baseball team', 107.0)\n",
      "('Template:Infobox comics meta series', 107.0)\n",
      "('Template:Infobox international baseball tournament', 107.0)\n",
      "('Template:Infobox media franchise', 105.0)\n",
      "('Template:Infobox heritage railway', 105.0)\n",
      "('Template:Infobox motorsport venue', 104.0)\n",
      "('Template:Infobox water park', 104.0)\n",
      "('Template:Infobox league season', 104.0)\n",
      "('Template:Infobox national political convention', 104.0)\n",
      "('Template:Infobox former monarchy', 103.0)\n",
      "('Template:Infobox college basketball tournament', 103.0)\n",
      "('Template:Infobox opera', 103.0)\n",
      "('Template:Infobox sheep breed', 102.0)\n",
      "('Template:Infobox referendum', 102.0)\n",
      "('Template:Infobox mill building', 99.0)\n",
      "('Template:Infobox climber', 96.0)\n",
      "('Template:Infobox gold mine', 96.0)\n",
      "('Template:Infobox rebbe', 96.0)\n",
      "('Template:Infobox athletics race', 95.0)\n",
      "('Template:Infobox leadership election', 95.0)\n",
      "('Template:Infobox pig breed', 95.0)\n",
      "('Template:Infobox sporting event organization', 95.0)\n",
      "('Template:Infobox murderer', 93.0)\n",
      "('Template:Infobox medieval text', 92.0)\n",
      "('Template:Infobox media', 92.0)\n",
      "('Template:Infobox nonhuman protein', 92.0)\n",
      "('Template:Infobox surah', 91.0)\n",
      "('Template:Infobox web browser', 91.0)\n",
      "('Template:Infobox noble house', 90.0)\n",
      "('Template:Infobox mass murderer', 89.0)\n",
      "('Template:Infobox constellation', 88.0)\n",
      "('Template:Infobox launch pad', 87.0)\n",
      "('Template:Infobox biathlete', 86.0)\n",
      "('Template:Infobox spacecraft class', 86.0)\n",
      "('Template:Infobox motorway services', 86.0)\n",
      "('Template:Infobox comics species', 85.0)\n",
      "('Template:Infobox government budget', 85.0)\n",
      "('Template:Infobox manhwa', 84.0)\n",
      "('Template:Infobox power transmission line', 84.0)\n",
      "('Template:Infobox national field hockey team', 83.0)\n",
      "('Template:Infobox fragrance', 82.0)\n",
      "('Template:Infobox bus accident', 82.0)\n",
      "('Template:Infobox rugby league representative team', 82.0)\n",
      "('Template:Infobox floorball club', 82.0)\n",
      "('Template:Infobox ballet company', 82.0)\n",
      "('Template:Infobox rugby league international tournament', 82.0)\n",
      "('Template:Infobox national hockey team', 80.0)\n",
      "('Template:Infobox pigeonbreed', 79.0)\n",
      "('Template:Infobox automobile platform', 79.0)\n",
      "('Template:Infobox lymph', 79.0)\n",
      "('Template:Infobox rocket engine', 79.0)\n",
      "('Template:Infobox rugby league football match', 79.0)\n",
      "('Template:Infobox comics character and title', 76.0)\n",
      "('Template:Infobox product', 76.0)\n",
      "('Template:Infobox subdivision type', 76.0)\n",
      "('Template:Infobox computer virus', 75.0)\n",
      "('Template:Infobox field hockey club', 75.0)\n",
      "('Template:Infobox stage production', 75.0)\n",
      "('Template:Infobox ballet', 74.0)\n",
      "('Template:Infobox poem', 74.0)\n",
      "('Template:Infobox connector', 73.0)\n",
      "('Template:Infobox summit meeting', 72.0)\n",
      "('Template:Infobox monarchy', 71.0)\n",
      "('Template:Infobox chess biography', 71.0)\n",
      "('Template:Infobox snooker tournament', 70.0)\n",
      "('Template:Infobox landform', 69.0)\n",
      "('Template:Infobox tram', 68.0)\n",
      "('Template:Infobox legislative session', 67.0)\n",
      "('Template:Infobox aircraft', 67.0)\n",
      "('Template:Infobox reality talent competition', 66.0)\n",
      "('Template:Infobox townlands', 66.0)\n",
      "('Template:Infobox college softball team', 66.0)\n",
      "('Template:Infobox motorcycle club', 65.0)\n",
      "('Template:Infobox rugby league team season', 64.0)\n",
      "('Template:Infobox cycling team season', 63.0)\n",
      "('Template:Infobox themed area', 63.0)\n",
      "('Template:Infobox ski jumping hill', 62.0)\n",
      "('Template:Infobox comics elements', 62.0)\n",
      "('Template:Infobox tea', 62.0)\n",
      "('Template:Infobox classical composer', 62.0)\n",
      "('Template:Infobox comics team and title', 61.0)\n",
      "('Template:Infobox year in spaceflight', 61.0)\n",
      "('Template:Infobox laboratory equipment', 61.0)\n",
      "('Template:Infobox concentration camp', 61.0)\n",
      "('Template:Infobox handball league', 60.0)\n",
      "('Template:Infobox nhsc', 59.0)\n",
      "('Template:Infobox globular cluster', 59.0)\n",
      "('Template:Infobox cluster', 58.0)\n",
      "('Template:Infobox lunar mare', 58.0)\n",
      "('Template:Infobox comics set index', 58.0)\n",
      "('Template:Infobox disputed islands', 57.0)\n",
      "('Template:Infobox filesystem', 57.0)\n",
      "('Template:Infobox software license', 56.0)\n",
      "('Template:Infobox factory', 56.0)\n",
      "('Template:Infobox electronic payment', 56.0)\n",
      "('Template:Infobox superhero', 56.0)\n",
      "('Template:Infobox oil refinery', 55.0)\n",
      "('Template:Infobox aqueduct navigable', 54.0)\n",
      "('Template:Infobox national sports federations', 54.0)\n",
      "('Template:Infobox cycling season', 54.0)\n",
      "('Template:Infobox railway depot', 53.0)\n",
      "('Template:Infobox knot', 53.0)\n",
      "('Template:Infobox space telescope', 51.0)\n",
      "('Template:Infobox sports announcer', 51.0)\n",
      "('Template:Infobox accounting body', 51.0)\n",
      "('Template:Infobox online music service', 51.0)\n",
      "('Template:Infobox hurling championship', 49.0)\n",
      "('Template:Infobox pier', 49.0)\n",
      "('Template:Infobox country demographics', 49.0)\n",
      "('Template:Infobox tennis player season', 49.0)\n",
      "('Template:Infobox manuscript', 49.0)\n",
      "('Template:Infobox hut', 48.0)\n",
      "('Template:Infobox sports conference', 48.0)\n",
      "('Template:Infobox college lacrosse championship', 48.0)\n",
      "('Template:Infobox rugby league', 47.0)\n",
      "('Template:Infobox swimming venue', 47.0)\n",
      "('Template:Infobox college lacrosse team', 47.0)\n",
      "('Template:Infobox ferry route', 47.0)\n",
      "('Template:Infobox future infrastructure project', 47.0)\n",
      "('Template:Infobox religion', 47.0)\n",
      "('Template:Infobox goat breed', 47.0)\n",
      "('Template:Infobox interbank network', 45.0)\n",
      "('Template:Infobox particle', 45.0)\n",
      "('Template:Infobox koryu', 45.0)\n",
      "('Template:Infobox cricket series begin', 45.0)\n",
      "('Template:Infobox choir', 45.0)\n",
      "('Template:Infobox unit', 45.0)\n",
      "('Template:Infobox programming block', 44.0)\n",
      "('Template:Infobox international hockey competition', 44.0)\n",
      "('Template:Infobox project', 44.0)\n",
      "('Template:Infobox cattle breed', 44.0)\n",
      "('Template:Infobox cloud', 44.0)\n",
      "('Template:Infobox space agency', 44.0)\n",
      "('Template:Infobox folk tale', 44.0)\n",
      "('Template:Infobox national water polo team', 44.0)\n",
      "('Template:Infobox fictional country', 43.0)\n",
      "('Template:Infobox cross country championships', 43.0)\n",
      "('Template:Infobox operational plan', 42.0)\n",
      "('Template:Infobox fictional race', 42.0)\n",
      "('Template:Infobox swimming meet', 42.0)\n",
      "('Template:Infobox water transit', 41.0)\n",
      "('Template:Infobox rail company', 41.0)\n",
      "('Template:Infobox isotope', 41.0)\n",
      "('Template:Infobox meteorite subdivision', 40.0)\n",
      "('Template:Infobox snooker season', 40.0)\n",
      "('Template:Infobox neuron', 40.0)\n",
      "('Template:Infobox industrial process', 39.0)\n",
      "('Template:Infobox ambulance company', 39.0)\n",
      "('Template:Infobox martial art school', 39.0)\n",
      "('Template:Infobox video game character', 37.0)\n",
      "('Template:Infobox comics in other media', 37.0)\n",
      "('Template:Infobox superfund', 36.0)\n",
      "('Template:Infobox darts tournament', 35.0)\n",
      "('Template:Infobox martial art group', 35.0)\n",
      "('Template:Infobox curling club', 35.0)\n",
      "('Template:Infobox model rail scale', 35.0)\n",
      "('Template:Infobox fictional planet', 35.0)\n",
      "('Template:Infobox housing project', 35.0)\n",
      "('Template:Infobox martyrs', 34.0)\n",
      "('Template:Infobox rock', 34.0)\n",
      "('Template:Infobox fictional artifact', 34.0)\n",
      "('Template:Infobox concert', 33.0)\n",
      "('Template:Infobox computer hardware', 33.0)\n",
      "('Template:Infobox dance', 33.0)\n",
      "('Template:Infobox college volleyball team', 33.0)\n",
      "('Template:Infobox swimming pool', 33.0)\n",
      "('Template:Infobox sport supporter group', 31.0)\n",
      "('Template:Infobox whisky distillery', 31.0)\n",
      "('Template:Infobox military attack', 31.0)\n",
      "('Template:Infobox curling event', 31.0)\n",
      "('Template:Infobox national roller hockey team', 30.0)\n",
      "('Template:Infobox royal house', 30.0)\n",
      "('Template:Infobox bibliographic database', 30.0)\n",
      "('Template:Infobox custom computer', 30.0)\n",
      "('Template:Infobox hockey league', 30.0)\n",
      "('Template:Infobox international softball tournament', 30.0)\n",
      "('Template:Infobox oil spill', 30.0)\n",
      "('Template:Infobox school athletics', 29.0)\n",
      "('Template:Infobox limited overs final', 29.0)\n",
      "('Template:Infobox drums corps', 29.0)\n",
      "('Template:Infobox manhua', 29.0)\n",
      "('Template:Infobox national netball team', 29.0)\n",
      "('Template:Infobox clothing item', 29.0)\n",
      "('Template:Infobox aerial lift line', 28.0)\n",
      "('Template:Infobox historian', 28.0)\n",
      "('Template:Infobox urban feature', 28.0)\n",
      "('Template:Infobox tractor', 28.0)\n",
      "('Template:Infobox drug class', 28.0)\n",
      "('Template:Infobox television family', 27.0)\n",
      "('Template:Infobox short track speed skater', 27.0)\n",
      "('Template:Infobox football association', 27.0)\n",
      "('Template:Infobox tennis circuit season', 27.0)\n",
      "('Template:Infobox typeface', 27.0)\n",
      "('Template:Infobox computer hardware bus', 26.0)\n",
      "('Template:Infobox sports award', 26.0)\n",
      "('Template:Infobox tool', 26.0)\n",
      "('Template:Infobox examination', 25.0)\n",
      "('Template:Infobox machinima', 25.0)\n",
      "('Template:Infobox census', 25.0)\n",
      "('Template:Infobox military test site', 25.0)\n",
      "('Template:Infobox mountaineer', 25.0)\n",
      "('Template:Infobox storm', 25.0)\n",
      "('Template:Infobox cat breed', 25.0)\n",
      "('Template:Infobox comics nationality', 25.0)\n",
      "('Template:Infobox gaming group', 25.0)\n",
      "('Template:Infobox netball team', 24.0)\n",
      "('Template:Infobox astronomical survey', 24.0)\n",
      "('Template:Infobox basketball tournament at games', 24.0)\n",
      "('Template:Infobox calculator', 24.0)\n",
      "('Template:Infobox skyscraper', 24.0)\n",
      "('Template:Infobox eruption', 23.0)\n",
      "('Template:Infobox electronic component', 23.0)\n",
      "('Template:Infobox basketball game', 23.0)\n",
      "('Template:Infobox livery company', 23.0)\n",
      "('Template:Infobox machine', 23.0)\n",
      "('Template:Infobox horse breed', 23.0)\n",
      "('Template:Infobox field hockey league season', 23.0)\n",
      "('Template:Infobox dual roller coaster', 23.0)\n",
      "('Template:Infobox olive cultivar', 22.0)\n",
      "('Template:Infobox college wrestling team', 22.0)\n",
      "('Template:Infobox circus', 22.0)\n",
      "('Template:Infobox photographic film', 22.0)\n",
      "('Template:Infobox archaeological culture', 22.0)\n",
      "('Template:Infobox certification mark', 21.0)\n",
      "('Template:Infobox wuxia fiction character', 21.0)\n",
      "('Template:Infobox presidential library', 21.0)\n",
      "('Template:Infobox aqueduct', 21.0)\n",
      "('Template:Infobox storage medium', 21.0)\n",
      "('Template:Infobox cricketer tour biography', 21.0)\n",
      "('Template:Infobox data structure', 20.0)\n",
      "('Template:Infobox retail market', 20.0)\n",
      "('Template:Infobox terrestrial impact site', 20.0)\n",
      "('Template:Infobox paranormal term', 20.0)\n",
      "('Template:Infobox advertising', 20.0)\n",
      "('Template:Infobox campground', 20.0)\n",
      "('Template:Infobox genome', 19.0)\n",
      "('Template:Infobox holiday camp', 19.0)\n",
      "('Template:Infobox hopman cup', 19.0)\n",
      "('Template:Infobox electricity sector', 19.0)\n",
      "('Template:Infobox pretender', 18.0)\n",
      "('Template:Infobox pictish stone', 18.0)\n",
      "('Template:Infobox cycling championships', 18.0)\n",
      "('Template:Infobox watch', 18.0)\n",
      "('Template:Infobox country geography', 18.0)\n",
      "('Template:Infobox space shuttle', 18.0)\n",
      "('Template:Infobox standardref', 18.0)\n",
      "('Template:Infobox fictional organisation', 18.0)\n",
      "('Template:Infobox continent', 17.0)\n",
      "('Template:Infobox photographic lens', 17.0)\n",
      "('Template:Infobox polygon', 17.0)\n",
      "('Template:Infobox tennis player season 2', 17.0)\n",
      "('Template:Infobox hillclimb venue', 17.0)\n",
      "('Template:Infobox computer hardware generic', 16.0)\n",
      "('Template:Infobox medical specialty', 16.0)\n",
      "('Template:Infobox fictional vehicle', 16.0)\n",
      "('Template:Infobox whitewater course', 16.0)\n",
      "('Template:Infobox comics set and title', 16.0)\n",
      "('Template:Infobox distributed computing project', 16.0)\n",
      "('Template:Infobox shipping job', 15.0)\n",
      "('Template:Infobox robot', 15.0)\n",
      "('Template:Infobox property development', 15.0)\n",
      "('Template:Infobox chipset', 15.0)\n",
      "('Template:Infobox tennis match', 14.0)\n",
      "('Template:Infobox multichoice referendum', 14.0)\n",
      "('Template:Infobox spring', 14.0)\n",
      "('Template:Infobox college football bowl game', 13.0)\n",
      "('Template:Infobox vacuum tube', 13.0)\n",
      "('Template:Infobox reactor', 13.0)\n",
      "('Template:Infobox baseball game', 13.0)\n",
      "('Template:Infobox pope', 12.0)\n",
      "('Template:Infobox gunpowder plot', 12.0)\n",
      "('Template:Infobox camera mount', 12.0)\n",
      "('Template:Infobox zodiac', 12.0)\n",
      "('Template:Infobox meteor shower', 12.0)\n",
      "('Template:Infobox soap opera family', 12.0)\n",
      "('Template:Infobox pelotari', 11.0)\n",
      "('Template:Infobox code', 11.0)\n",
      "('Template:Infobox professional bowler', 11.0)\n",
      "('Template:Infobox climbing area', 11.0)\n",
      "('Template:Infobox college tennis team', 11.0)\n",
      "('Template:Infobox cable', 11.0)\n",
      "('Template:Infobox college track and field team', 11.0)\n",
      "('Template:Infobox basketball official', 11.0)\n",
      "('Template:Infobox fictional creature', 11.0)\n",
      "('Template:Infobox supernova', 11.0)\n",
      "('Template:Infobox martial arts tournament', 11.0)\n",
      "('Template:Infobox intangible heritage', 11.0)\n",
      "('Template:Infobox speedway grand prix event', 10.0)\n",
      "('Template:Infobox bridge type', 10.0)\n",
      "('Template:Infobox pulps character', 10.0)\n",
      "('Template:Infobox highway system', 10.0)\n",
      "('Template:Infobox famine', 10.0)\n",
      "('Template:Infobox college field hockey team', 10.0)\n",
      "('Template:Infobox business park', 10.0)\n",
      "('Template:Infobox field hockey league', 10.0)\n",
      "('Template:Infobox cricketer biography', 10.0)\n",
      "('Template:Infobox desalination plant', 10.0)\n",
      "('Template:Infobox clothing type', 10.0)\n",
      "('Template:Infobox college golf team', 10.0)\n",
      "('Template:Infobox space station module', 9.0)\n",
      "('Template:Infobox computing standard', 9.0)\n",
      "('Template:Infobox dog crossbreed', 9.0)\n",
      "('Template:Infobox college gymnastics team', 9.0)\n",
      "('Template:Infobox martial art form', 9.0)\n",
      "('Template:Infobox school marching band', 9.0)\n",
      "('Template:Infobox video game online service', 9.0)\n",
      "('Template:Infobox performing art', 9.0)\n",
      "('Template:Infobox docks', 9.0)\n",
      "('Template:Infobox animal breed', 9.0)\n",
      "('Template:Infobox tram depot', 9.0)\n",
      "('Template:Infobox motor racing team', 8.0)\n",
      "('Template:Infobox water buffalo breed', 8.0)\n",
      "('Template:Infobox sport overview', 8.0)\n",
      "('Template:Infobox protocol', 8.0)\n",
      "('Template:Infobox diving equipment', 8.0)\n",
      "('Template:Infobox furniture', 8.0)\n",
      "('Template:Infobox donkey', 7.0)\n",
      "('Template:Infobox mining', 7.0)\n",
      "('Template:Infobox night vision device', 7.0)\n",
      "('Template:Infobox tree', 7.0)\n",
      "('Template:Infobox television advert', 7.0)\n",
      "('Template:Infobox fictional business', 7.0)\n",
      "('Template:Infobox literary genre', 7.0)\n",
      "('Template:Infobox encounter', 7.0)\n",
      "('Template:Infobox botanical product', 7.0)\n",
      "('Template:Infobox wifi network', 6.0)\n",
      "('Template:Infobox combat robot', 6.0)\n",
      "('Template:Infobox waterway', 6.0)\n",
      "('Template:Infobox polychoron', 6.0)\n",
      "('Template:Infobox motorsport round', 6.0)\n",
      "('Template:Infobox telecommunications network', 6.0)\n",
      "('Template:Infobox movie camera', 6.0)\n",
      "('Template:Infobox spacecraft instrument', 5.0)\n",
      "('Template:Infobox mobile suit', 5.0)\n",
      "('Template:Infobox quality tool', 5.0)\n",
      "('Template:Infobox attraction model', 5.0)\n",
      "('Template:Infobox gem', 5.0)\n",
      "('Template:Infobox bowl series', 5.0)\n",
      "('Template:Infobox fieldbus protocol', 5.0)\n",
      "('Template:Infobox national football team season', 5.0)\n",
      "('Template:Infobox national wheelchair rugby team', 4.0)\n",
      "('Template:Infobox sports series', 4.0)\n",
      "('Template:Infobox comics artificial species', 4.0)\n",
      "('Template:Infobox equestrian championships', 4.0)\n",
      "('Template:Infobox hotspot custom', 4.0)\n",
      "('Template:Infobox art movement', 4.0)\n",
      "('Template:Infobox identifier', 4.0)\n",
      "('Template:Infobox hunt', 4.0)\n",
      "('Template:Infobox halftime show', 4.0)\n",
      "('Template:Infobox crown', 4.0)\n",
      "('Template:Infobox room', 4.0)\n",
      "('Template:Infobox feature on celestial object', 3.0)\n",
      "('Template:Infobox college track and field', 3.0)\n",
      "('Template:Infobox rugby tour', 3.0)\n",
      "('Template:Infobox comics object and title', 3.0)\n",
      "('Template:Infobox college rowing team', 3.0)\n",
      "('Template:Infobox fictional ship', 3.0)\n",
      "('Template:Infobox file system', 3.0)\n",
      "('Template:Infobox comics species and title', 3.0)\n",
      "('Template:Infobox character encoding', 3.0)\n",
      "('Template:Infobox mobile network', 3.0)\n",
      "('Template:Infobox flash series', 3.0)\n",
      "('Template:Infobox crater data', 2.0)\n",
      "('Template:Infobox film director', 2.0)\n",
      "('Template:Infobox water supply and sanitation', 2.0)\n",
      "('Template:Infobox county fire service', 2.0)\n",
      "('Template:Infobox body process', 2.0)\n",
      "('Template:Infobox country deforestation', 2.0)\n",
      "('Template:Infobox knot details', 2.0)\n",
      "('Template:Infobox urban development project', 2.0)\n",
      "('Template:Infobox drug mechanism', 2.0)\n",
      "('Template:Infobox college inline hockey team', 1.0)\n",
      "('Template:Infobox faunal age', 1.0)\n",
      "('Template:Infobox independent baseball team', 1.0)\n",
      "('Template:Infobox primeval creature', 1.0)\n",
      "('Template:Infobox badminton team', 1.0)\n",
      "('Template:Infobox gunpowder plotter', 1.0)\n",
      "('Template:Infobox film actor', 1.0)\n",
      "('Template:Infobox archaeological site', 1.0)\n",
      "('Template:Infobox college ski team', 1.0)\n",
      "('Template:Infobox computer peripheral', 1.0)\n",
      "('Template:Infobox planetary system', 1.0)\n",
      "('Template:Infobox country languages', 1.0)\n",
      "('Template:Infobox radio show2', 1.0)\n",
      "('Template:Infobox graphics processing unit', 1.0)\n",
      "('Template:Infobox paranormal creature', 1.0)\n",
      "('Template:Infobox space program', 1.0)\n",
      "('Template:Infobox space mission', 1.0)\n",
      "('Template:Infobox tabletennis player', 1.0)\n",
      "('Template:Infobox reservoir', 1.0)\n",
      "('Template:Infobox mathematics function', 1.0)\n",
      "('Template:Infobox pyramid', 1.0)\n",
      "('Template:Infobox horse color', 1.0)\n",
      "('Template:Infobox genetically modified organism', 1.0)\n",
      "```"
     ]
    },
    {
     "cell_type": "heading",
     "level": 1,
     "metadata": {},
     "source": [
      "Sample Subgraphs"
     ]
    },
    {
     "cell_type": "markdown",
     "metadata": {},
     "source": [
      "Import libraries and cleaned up graph as `G`, show the distribution of subgraphs."
     ]
    },
    {
     "cell_type": "code",
     "collapsed": false,
     "input": [
      "from wikimap import data, stats, graph"
     ],
     "language": "python",
     "metadata": {},
     "outputs": [],
     "prompt_number": 3
    },
    {
     "cell_type": "code",
     "collapsed": false,
     "input": [
      "import networkx as nx"
     ],
     "language": "python",
     "metadata": {},
     "outputs": [],
     "prompt_number": 4
    },
    {
     "cell_type": "code",
     "collapsed": false,
     "input": [
      "import matplotlib.pyplot as plt"
     ],
     "language": "python",
     "metadata": {},
     "outputs": [],
     "prompt_number": 5
    },
    {
     "cell_type": "code",
     "collapsed": false,
     "input": [
      "G = data.read_graph(\"./data-folder/clean_attribute_synonyms_redone.gpickle\")"
     ],
     "language": "python",
     "metadata": {},
     "outputs": [],
     "prompt_number": 6
    },
    {
     "cell_type": "code",
     "collapsed": false,
     "input": [
      "G.connected_component_statistics(printStats=True)"
     ],
     "language": "python",
     "metadata": {},
     "outputs": [
      {
       "output_type": "stream",
       "stream": "stdout",
       "text": [
        "1 nodes: 1658 (35.92%) groups\n",
        "2 nodes: 2327 (50.41%) groups\n",
        "3 nodes: 351 (7.6%) groups\n",
        "4 nodes: 134 (2.9%) groups\n",
        "5 nodes: 57 (1.23%) groups\n",
        "6 nodes: 19 (0.41%) groups\n",
        "7 nodes: 22 (0.48%) groups\n",
        "8 nodes: 10 (0.22%) groups\n",
        "9 nodes: 8 (0.17%) groups\n",
        "10 nodes: 7 (0.15%) groups\n",
        "11 nodes: 1 (0.02%) groups\n",
        "12 nodes: 2 (0.04%) groups\n",
        "13 nodes: 2 (0.04%) groups\n",
        "14 nodes: 2 (0.04%) groups\n",
        "15 nodes: 2 (0.04%) groups\n",
        "16 nodes: 1 (0.02%) groups\n",
        "17 nodes: 1 (0.02%) groups\n",
        "21 nodes: 1 (0.02%) groups\n",
        "23 nodes: 2 (0.04%) groups\n",
        "24 nodes: 1 (0.02%) groups\n",
        "27 nodes: 1 (0.02%) groups\n",
        "29 nodes: 1 (0.02%) groups\n",
        "30 nodes: 1 (0.02%) groups\n",
        "31 nodes: 1 (0.02%) groups\n",
        "44 nodes: 1 (0.02%) groups\n",
        "55 nodes: 1 (0.02%) groups\n",
        "85 nodes: 1 (0.02%) groups\n",
        "961 nodes: 1 (0.02%) groups\n",
        "-----------------------------------------\n",
        "TOTAL: 10181 nodes in network, 4616 distinct groups\n"
       ]
      }
     ],
     "prompt_number": 7
    },
    {
     "cell_type": "markdown",
     "metadata": {},
     "source": [
      "One node groups are basically useless to us, so let's take a look first at a few two node groups."
     ]
    },
    {
     "cell_type": "heading",
     "level": 2,
     "metadata": {},
     "source": [
      "Two node groups"
     ]
    },
    {
     "cell_type": "code",
     "collapsed": false,
     "input": [
      "two_node_subgraphs = G.connected_components_with_size(2)"
     ],
     "language": "python",
     "metadata": {},
     "outputs": [],
     "prompt_number": 8
    },
    {
     "cell_type": "markdown",
     "metadata": {},
     "source": [
      "These graphs have a simple structure: just two nodes connected by an edge. Unfortunately, directionality is lost in the above command, but that is okay for our purposes. Let's just see what nodes there are in a few groups."
     ]
    },
    {
     "cell_type": "code",
     "collapsed": false,
     "input": [
      "two_node_subgraphs[0].nodes()"
     ],
     "language": "python",
     "metadata": {},
     "outputs": [
      {
       "metadata": {},
       "output_type": "pyout",
       "prompt_number": 9,
       "text": [
        "['wusopen', \"us women's open\"]"
       ]
      }
     ],
     "prompt_number": 9
    },
    {
     "cell_type": "code",
     "collapsed": false,
     "input": [
      "two_node_subgraphs[1].nodes()"
     ],
     "language": "python",
     "metadata": {},
     "outputs": [
      {
       "metadata": {},
       "output_type": "pyout",
       "prompt_number": 10,
       "text": [
        "['cartridge weight', 'shell weight']"
       ]
      }
     ],
     "prompt_number": 10
    },
    {
     "cell_type": "markdown",
     "metadata": {},
     "source": [
      "Hm... let's see what is the rendering state for these nodes."
     ]
    },
    {
     "cell_type": "code",
     "collapsed": false,
     "input": [
      "G.rendering_of_graph_node('wusopen')"
     ],
     "language": "python",
     "metadata": {},
     "outputs": [
      {
       "metadata": {},
       "output_type": "pyout",
       "prompt_number": 11,
       "text": [
        "'unrend'"
       ]
      }
     ],
     "prompt_number": 11
    },
    {
     "cell_type": "code",
     "collapsed": false,
     "input": [
      "G.rendering_of_graph_node(\"us women's open\")"
     ],
     "language": "python",
     "metadata": {},
     "outputs": [
      {
       "metadata": {},
       "output_type": "pyout",
       "prompt_number": 12,
       "text": [
        "'rend'"
       ]
      }
     ],
     "prompt_number": 12
    },
    {
     "cell_type": "code",
     "collapsed": false,
     "input": [
      "G.infoboxes_of_pair('wusopen', \"us women's open\")"
     ],
     "language": "python",
     "metadata": {},
     "outputs": [
      {
       "metadata": {},
       "output_type": "pyout",
       "prompt_number": 13,
       "text": [
        "['Template:Infobox golfer']"
       ]
      }
     ],
     "prompt_number": 13
    },
    {
     "cell_type": "code",
     "collapsed": false,
     "input": [
      "G.rendering_of_graph_node('cartridge weight')"
     ],
     "language": "python",
     "metadata": {},
     "outputs": [
      {
       "metadata": {},
       "output_type": "pyout",
       "prompt_number": 14,
       "text": [
        "'unrend'"
       ]
      }
     ],
     "prompt_number": 14
    },
    {
     "cell_type": "code",
     "collapsed": false,
     "input": [
      "G.rendering_of_graph_node('shell weight')"
     ],
     "language": "python",
     "metadata": {},
     "outputs": [
      {
       "metadata": {},
       "output_type": "pyout",
       "prompt_number": 15,
       "text": [
        "'rend'"
       ]
      }
     ],
     "prompt_number": 15
    },
    {
     "cell_type": "code",
     "collapsed": false,
     "input": [
      "G.infoboxes_of_pair('cartridge weight', \"shell weight\")"
     ],
     "language": "python",
     "metadata": {},
     "outputs": [
      {
       "metadata": {},
       "output_type": "pyout",
       "prompt_number": 16,
       "text": [
        "['Template:Infobox weapon']"
       ]
      }
     ],
     "prompt_number": 16
    },
    {
     "cell_type": "markdown",
     "metadata": {},
     "source": [
      "Looks like two node subgraphs are just simple unrend ==> rend mappings. Some are valuable such as the above \"cartridge weight\" and \"shell weight\"."
     ]
    },
    {
     "cell_type": "heading",
     "level": 2,
     "metadata": {},
     "source": [
      "Three node subgraphs"
     ]
    },
    {
     "cell_type": "code",
     "collapsed": false,
     "input": [
      "three_node_subgraphs = G.connected_components_with_size(3)"
     ],
     "language": "python",
     "metadata": {},
     "outputs": [],
     "prompt_number": 17
    },
    {
     "cell_type": "code",
     "collapsed": false,
     "input": [
      "three_node_subgraphs[0].nodes()"
     ],
     "language": "python",
     "metadata": {},
     "outputs": [
      {
       "metadata": {},
       "output_type": "pyout",
       "prompt_number": 18,
       "text": [
        "['metering', 'exposure metering', 'share of household metering']"
       ]
      }
     ],
     "prompt_number": 18
    },
    {
     "cell_type": "code",
     "collapsed": false,
     "input": [
      "nx.draw(three_node_subgraphs[0], with_labels=True)"
     ],
     "language": "python",
     "metadata": {},
     "outputs": [
      {
       "metadata": {},
       "output_type": "display_data",
       "png": "[encoded data removed]",
       "text": [
        "<matplotlib.figure.Figure at 0x7fb64107c410>"
       ]
      }
     ],
     "prompt_number": 19
    },
    {
     "cell_type": "markdown",
     "metadata": {},
     "source": [
      "So \"metering\" is the hub between \"exposure metering\" and \"share of household metering\". BTW, edges are bi-directional directionality is eliminated when selecting a subgraph."
     ]
    },
    {
     "cell_type": "code",
     "collapsed": false,
     "input": [
      "three_node_subgraphs[1].nodes()"
     ],
     "language": "python",
     "metadata": {},
     "outputs": [
      {
       "metadata": {},
       "output_type": "pyout",
       "prompt_number": 20,
       "text": [
        "['distributor', 'distributed by', 'distributeda by']"
       ]
      }
     ],
     "prompt_number": 20
    },
    {
     "cell_type": "code",
     "collapsed": false,
     "input": [
      "three_node_subgraphs[2].nodes()"
     ],
     "language": "python",
     "metadata": {},
     "outputs": [
      {
       "metadata": {},
       "output_type": "pyout",
       "prompt_number": 21,
       "text": [
        "['team principal', 'type fauna', 'principal']"
       ]
      }
     ],
     "prompt_number": 21
    },
    {
     "cell_type": "code",
     "collapsed": false,
     "input": [
      "nx.draw(three_node_subgraphs[2], with_labels=True)"
     ],
     "language": "python",
     "metadata": {},
     "outputs": [
      {
       "metadata": {},
       "output_type": "display_data",
       "png": "[encoded data removed]",
       "text": [
        "<matplotlib.figure.Figure at 0x7fb641e4eb50>"
       ]
      }
     ],
     "prompt_number": 22
    },
    {
     "cell_type": "code",
     "collapsed": false,
     "input": [
      "G.infoboxes_of_pair(\"type fauna\", \"principal\")"
     ],
     "language": "python",
     "metadata": {},
     "outputs": [
      {
       "metadata": {},
       "output_type": "pyout",
       "prompt_number": 23,
       "text": [
        "['Template:Infobox faunal age']"
       ]
      }
     ],
     "prompt_number": 23
    },
    {
     "cell_type": "code",
     "collapsed": false,
     "input": [
      "G.infoboxes_of_pair(\"principal\", \"team principal\")"
     ],
     "language": "python",
     "metadata": {},
     "outputs": [
      {
       "metadata": {},
       "output_type": "pyout",
       "prompt_number": 24,
       "text": [
        "['Template:Infobox motor racing team']"
       ]
      }
     ],
     "prompt_number": 24
    },
    {
     "cell_type": "code",
     "collapsed": false,
     "input": [
      "three_node_subgraphs[3].nodes()"
     ],
     "language": "python",
     "metadata": {},
     "outputs": [
      {
       "metadata": {},
       "output_type": "pyout",
       "prompt_number": 25,
       "text": [
        "['country ms', \"men's singles\", 'ms']"
       ]
      }
     ],
     "prompt_number": 25
    },
    {
     "cell_type": "code",
     "collapsed": false,
     "input": [
      "nx.draw(three_node_subgraphs[3], with_labels=True)"
     ],
     "language": "python",
     "metadata": {},
     "outputs": [
      {
       "metadata": {},
       "output_type": "display_data",
       "png": "[encoded data removed]",
       "text": [
        "<matplotlib.figure.Figure at 0x7fb642573490>"
       ]
      }
     ],
     "prompt_number": 26
    },
    {
     "cell_type": "code",
     "collapsed": false,
     "input": [
      "G.infoboxes_of_pair(\"ms\", \"men's singles\")"
     ],
     "language": "python",
     "metadata": {},
     "outputs": [
      {
       "metadata": {},
       "output_type": "pyout",
       "prompt_number": 27,
       "text": [
        "['Template:Infobox badminton event']"
       ]
      }
     ],
     "prompt_number": 27
    },
    {
     "cell_type": "code",
     "collapsed": false,
     "input": [
      "G.infoboxes_of_pair(\"country ms\", \"men's singles\")"
     ],
     "language": "python",
     "metadata": {},
     "outputs": [
      {
       "metadata": {},
       "output_type": "pyout",
       "prompt_number": 28,
       "text": [
        "['Template:Infobox badminton event']"
       ]
      }
     ],
     "prompt_number": 28
    },
    {
     "cell_type": "code",
     "collapsed": false,
     "input": [
      "G.rendering_of_graph_node(\"country ms\")"
     ],
     "language": "python",
     "metadata": {},
     "outputs": [
      {
       "metadata": {},
       "output_type": "pyout",
       "prompt_number": 29,
       "text": [
        "'unrend'"
       ]
      }
     ],
     "prompt_number": 29
    },
    {
     "cell_type": "code",
     "collapsed": false,
     "input": [
      "G.rendering_of_graph_node(\"men's singles\")"
     ],
     "language": "python",
     "metadata": {},
     "outputs": [
      {
       "metadata": {},
       "output_type": "pyout",
       "prompt_number": 30,
       "text": [
        "'rend'"
       ]
      }
     ],
     "prompt_number": 30
    },
    {
     "cell_type": "code",
     "collapsed": false,
     "input": [
      "G.rendering_of_graph_node(\"ms\")"
     ],
     "language": "python",
     "metadata": {},
     "outputs": [
      {
       "metadata": {},
       "output_type": "pyout",
       "prompt_number": 31,
       "text": [
        "'unrend'"
       ]
      }
     ],
     "prompt_number": 31
    },
    {
     "cell_type": "code",
     "collapsed": false,
     "input": [
      "three_node_subgraphs[4].nodes()"
     ],
     "language": "python",
     "metadata": {},
     "outputs": [
      {
       "metadata": {},
       "output_type": "pyout",
       "prompt_number": 32,
       "text": [
        "['town or city', 'town', 'location town']"
       ]
      }
     ],
     "prompt_number": 32
    },
    {
     "cell_type": "code",
     "collapsed": false,
     "input": [
      "three_node_subgraphs[5].nodes()"
     ],
     "language": "python",
     "metadata": {},
     "outputs": [
      {
       "metadata": {},
       "output_type": "pyout",
       "prompt_number": 33,
       "text": [
        "['current commander', '!!!!!commander_title!!!!!', 'commander']"
       ]
      }
     ],
     "prompt_number": 33
    },
    {
     "cell_type": "code",
     "collapsed": false,
     "input": [
      "three_node_subgraphs[6].nodes()"
     ],
     "language": "python",
     "metadata": {},
     "outputs": [
      {
       "metadata": {},
       "output_type": "pyout",
       "prompt_number": 34,
       "text": [
        "['towers', 'weak struct towers', 'robust struct towers']"
       ]
      }
     ],
     "prompt_number": 34
    },
    {
     "cell_type": "code",
     "collapsed": false,
     "input": [
      "three_node_subgraphs[7].nodes()"
     ],
     "language": "python",
     "metadata": {},
     "outputs": [
      {
       "metadata": {},
       "output_type": "pyout",
       "prompt_number": 35,
       "text": [
        "['fujitascale', 'maximum rated tornado2', 'maximum rated tornado1']"
       ]
      }
     ],
     "prompt_number": 35
    },
    {
     "cell_type": "code",
     "collapsed": false,
     "input": [
      "nx.draw(three_node_subgraphs[7], with_labels=True)"
     ],
     "language": "python",
     "metadata": {},
     "outputs": [
      {
       "metadata": {},
       "output_type": "display_data",
       "png": "[encoded data removed]",
       "text": [
        "<matplotlib.figure.Figure at 0x7fb6420f5ad0>"
       ]
      }
     ],
     "prompt_number": 36
    },
    {
     "cell_type": "code",
     "collapsed": false,
     "input": [
      "G.infoboxes_of_pair(\"fujitascale\", \"maximum rated tornado2\")"
     ],
     "language": "python",
     "metadata": {},
     "outputs": [
      {
       "metadata": {},
       "output_type": "pyout",
       "prompt_number": 37,
       "text": [
        "['Template:Infobox tornado outbreak']"
       ]
      }
     ],
     "prompt_number": 37
    },
    {
     "cell_type": "code",
     "collapsed": false,
     "input": [
      "G.infoboxes_of_pair(\"fujitascale\", \"maximum rated tornado1\")"
     ],
     "language": "python",
     "metadata": {},
     "outputs": [
      {
       "metadata": {},
       "output_type": "pyout",
       "prompt_number": 38,
       "text": [
        "['Template:Infobox storm']"
       ]
      }
     ],
     "prompt_number": 38
    },
    {
     "cell_type": "code",
     "collapsed": false,
     "input": [
      "three_node_subgraphs[8].nodes()"
     ],
     "language": "python",
     "metadata": {},
     "outputs": [
      {
       "metadata": {},
       "output_type": "pyout",
       "prompt_number": 39,
       "text": [
        "['num users', 'users', 'active users']"
       ]
      }
     ],
     "prompt_number": 39
    },
    {
     "cell_type": "code",
     "collapsed": false,
     "input": [
      "three_node_subgraphs[9].nodes()"
     ],
     "language": "python",
     "metadata": {},
     "outputs": [
      {
       "metadata": {},
       "output_type": "pyout",
       "prompt_number": 40,
       "text": [
        "['routenumber', 'timetable number', 'route number']"
       ]
      }
     ],
     "prompt_number": 40
    },
    {
     "cell_type": "code",
     "collapsed": false,
     "input": [
      "three_node_subgraphs[10].nodes()"
     ],
     "language": "python",
     "metadata": {},
     "outputs": [
      {
       "metadata": {},
       "output_type": "pyout",
       "prompt_number": 41,
       "text": [
        "['filename extension', 'file ext', 'extension']"
       ]
      }
     ],
     "prompt_number": 41
    },
    {
     "cell_type": "code",
     "collapsed": false,
     "input": [
      "nx.draw(three_node_subgraphs[10], with_labels=True)"
     ],
     "language": "python",
     "metadata": {},
     "outputs": [
      {
       "metadata": {},
       "output_type": "display_data",
       "png": "[encoded data removed]",
       "text": [
        "<matplotlib.figure.Figure at 0x7fb642855510>"
       ]
      }
     ],
     "prompt_number": 43
    },
    {
     "cell_type": "code",
     "collapsed": false,
     "input": [
      "three_node_subgraphs[11].nodes()"
     ],
     "language": "python",
     "metadata": {},
     "outputs": [
      {
       "metadata": {},
       "output_type": "pyout",
       "prompt_number": 44,
       "text": [
        "['provideragency', 'services provided by', 'provider agency']"
       ]
      }
     ],
     "prompt_number": 44
    },
    {
     "cell_type": "code",
     "collapsed": false,
     "input": [
      "nx.draw(three_node_subgraphs[11], with_labels=True)"
     ],
     "language": "python",
     "metadata": {},
     "outputs": [
      {
       "metadata": {},
       "output_type": "display_data",
       "png": "[encoded data removed]",
       "text": [
        "<matplotlib.figure.Figure at 0x7fb642c38e10>"
       ]
      }
     ],
     "prompt_number": 45
    },
    {
     "cell_type": "code",
     "collapsed": false,
     "input": [
      "G.rendering_of_graph_node(\"provideragency\")"
     ],
     "language": "python",
     "metadata": {},
     "outputs": [
      {
       "metadata": {},
       "output_type": "pyout",
       "prompt_number": 46,
       "text": [
        "'unrend'"
       ]
      }
     ],
     "prompt_number": 46
    },
    {
     "cell_type": "code",
     "collapsed": false,
     "input": [
      "G.rendering_of_graph_node(\"services provided by\")"
     ],
     "language": "python",
     "metadata": {},
     "outputs": [
      {
       "metadata": {},
       "output_type": "pyout",
       "prompt_number": 47,
       "text": [
        "'rend'"
       ]
      }
     ],
     "prompt_number": 47
    },
    {
     "cell_type": "code",
     "collapsed": false,
     "input": [
      "G.rendering_of_graph_node(\"provider agency\")"
     ],
     "language": "python",
     "metadata": {},
     "outputs": [
      {
       "metadata": {},
       "output_type": "pyout",
       "prompt_number": 48,
       "text": [
        "'unrend'"
       ]
      }
     ],
     "prompt_number": 48
    },
    {
     "cell_type": "markdown",
     "metadata": {},
     "source": [
      "So \"services provided by\" is the hub between \"provideragency\" and \"provider agency\". Interesting that \"provider agency\" is unrend -- looks like I actually did a good job of cleaning up nodes!"
     ]
    },
    {
     "cell_type": "heading",
     "level": 2,
     "metadata": {},
     "source": [
      "Four node subgraphs"
     ]
    },
    {
     "cell_type": "code",
     "collapsed": false,
     "input": [
      "four_node_subgraphs = G.connected_components_with_size(4)"
     ],
     "language": "python",
     "metadata": {},
     "outputs": [],
     "prompt_number": 49
    },
    {
     "cell_type": "code",
     "collapsed": false,
     "input": [
      "four_node_subgraphs[0].nodes()"
     ],
     "language": "python",
     "metadata": {},
     "outputs": [
      {
       "metadata": {},
       "output_type": "pyout",
       "prompt_number": 50,
       "text": [
        "['security class', 'classifications', 'main classification', 'classification']"
       ]
      }
     ],
     "prompt_number": 50
    },
    {
     "cell_type": "code",
     "collapsed": false,
     "input": [
      "four_node_subgraphs[1].nodes()"
     ],
     "language": "python",
     "metadata": {},
     "outputs": [
      {
       "metadata": {},
       "output_type": "pyout",
       "prompt_number": 51,
       "text": [
        "['comic yr', 'comic pub', 'comic yrend', '!!!!!comic!!!!!']"
       ]
      }
     ],
     "prompt_number": 51
    },
    {
     "cell_type": "code",
     "collapsed": false,
     "input": [
      "nx.draw(four_node_subgraphs[1], with_labels=True)"
     ],
     "language": "python",
     "metadata": {},
     "outputs": [
      {
       "metadata": {},
       "output_type": "display_data",
       "png": "[encoded data removed]",
       "text": [
        "<matplotlib.figure.Figure at 0x7fb642c48bd0>"
       ]
      }
     ],
     "prompt_number": 52
    },
    {
     "cell_type": "markdown",
     "metadata": {},
     "source": [
      "Aha! The node with `!!!!!` is a hub for everything... maybe I just throw out groups with `!!!!!`?"
     ]
    },
    {
     "cell_type": "code",
     "collapsed": false,
     "input": [
      "four_node_subgraphs[2].nodes()"
     ],
     "language": "python",
     "metadata": {},
     "outputs": [
      {
       "metadata": {},
       "output_type": "pyout",
       "prompt_number": 53,
       "text": [
        "['knowna launches', 'launches', 'tlaunches', 'total launches']"
       ]
      }
     ],
     "prompt_number": 53
    },
    {
     "cell_type": "code",
     "collapsed": false,
     "input": [
      "four_node_subgraphs[3].nodes()"
     ],
     "language": "python",
     "metadata": {},
     "outputs": [
      {
       "metadata": {},
       "output_type": "pyout",
       "prompt_number": 54,
       "text": [
        "['thesis year', 'thesis url', 'thesis title', 'thesis']"
       ]
      }
     ],
     "prompt_number": 54
    },
    {
     "cell_type": "code",
     "collapsed": false,
     "input": [
      "four_node_subgraphs[4].nodes()"
     ],
     "language": "python",
     "metadata": {},
     "outputs": [
      {
       "metadata": {},
       "output_type": "pyout",
       "prompt_number": 55,
       "text": [
        "['currency', 'maximum credit', 'minimum credit', 'currency code']"
       ]
      }
     ],
     "prompt_number": 55
    },
    {
     "cell_type": "code",
     "collapsed": false,
     "input": [
      "four_node_subgraphs[5].nodes()"
     ],
     "language": "python",
     "metadata": {},
     "outputs": [
      {
       "metadata": {},
       "output_type": "pyout",
       "prompt_number": 56,
       "text": [
        "['tv co', '!!!!!tv!!!!!', 'tv yr', 'tv act']"
       ]
      }
     ],
     "prompt_number": 56
    },
    {
     "cell_type": "code",
     "collapsed": false,
     "input": [
      "four_node_subgraphs[6].nodes()"
     ],
     "language": "python",
     "metadata": {},
     "outputs": [
      {
       "metadata": {},
       "output_type": "pyout",
       "prompt_number": 57,
       "text": [
        "['fit for military service', 'manpower age', 'fit f', 'fit']"
       ]
      }
     ],
     "prompt_number": 57
    },
    {
     "cell_type": "code",
     "collapsed": false,
     "input": [
      "four_node_subgraphs[7].nodes()"
     ],
     "language": "python",
     "metadata": {},
     "outputs": [
      {
       "metadata": {},
       "output_type": "pyout",
       "prompt_number": 58,
       "text": [
        "['ina service', 'online services', 'in service', 'service']"
       ]
      }
     ],
     "prompt_number": 58
    },
    {
     "cell_type": "code",
     "collapsed": false,
     "input": [
      "four_node_subgraphs[8].nodes()"
     ],
     "language": "python",
     "metadata": {},
     "outputs": [
      {
       "metadata": {},
       "output_type": "pyout",
       "prompt_number": 59,
       "text": [
        "['growth', 'gdp growth', 'growth form', 'growth rate']"
       ]
      }
     ],
     "prompt_number": 59
    },
    {
     "cell_type": "code",
     "collapsed": false,
     "input": [
      "four_node_subgraphs[9].nodes()"
     ],
     "language": "python",
     "metadata": {},
     "outputs": [
      {
       "metadata": {},
       "output_type": "pyout",
       "prompt_number": 60,
       "text": [
        "['entry', 'entry-level', 'entry mode', 'entrylevelorstep']"
       ]
      }
     ],
     "prompt_number": 60
    },
    {
     "cell_type": "code",
     "collapsed": false,
     "input": [
      "nx.draw(four_node_subgraphs[9], with_labels=True)"
     ],
     "language": "python",
     "metadata": {},
     "outputs": [
      {
       "metadata": {},
       "output_type": "display_data",
       "png": "[encoded data removed]",
       "text": [
        "<matplotlib.figure.Figure at 0x7fb64284cdd0>"
       ]
      }
     ],
     "prompt_number": 62
    },
    {
     "cell_type": "markdown",
     "metadata": {},
     "source": [
      "As I suspected -- there appears to be a pattern where a one-word node is the hub for several other nodes that include that one word with some other words added \"*entry*\", \"*entry*-level\", \"*entry*-mode\", etc."
     ]
    },
    {
     "cell_type": "heading",
     "level": 2,
     "metadata": {},
     "source": [
      "Eight node subgraphs"
     ]
    },
    {
     "cell_type": "code",
     "collapsed": false,
     "input": [
      "eight_node_subgraphs = G.connected_components_with_size(8)"
     ],
     "language": "python",
     "metadata": {},
     "outputs": [],
     "prompt_number": 63
    },
    {
     "cell_type": "code",
     "collapsed": false,
     "input": [
      "eight_node_subgraphs[0].nodes()"
     ],
     "language": "python",
     "metadata": {},
     "outputs": [
      {
       "metadata": {},
       "output_type": "pyout",
       "prompt_number": 64,
       "text": [
        "['native title',\n",
        " 'spaced',\n",
        " 'native name lang',\n",
        " 'nativea name',\n",
        " 'logogram',\n",
        " 'logogramname',\n",
        " 'spacedtype',\n",
        " 'native name']"
       ]
      }
     ],
     "prompt_number": 64
    },
    {
     "cell_type": "code",
     "collapsed": false,
     "input": [
      "nx.draw(eight_node_subgraphs[0], with_labels=True)"
     ],
     "language": "python",
     "metadata": {},
     "outputs": [
      {
       "metadata": {},
       "output_type": "display_data",
       "png": "[encoded data removed]",
       "text": [
        "<matplotlib.figure.Figure at 0x7fb640a13750>"
       ]
      }
     ],
     "prompt_number": 65
    },
    {
     "cell_type": "code",
     "collapsed": false,
     "input": [
      "eight_node_subgraphs[1].nodes()"
     ],
     "language": "python",
     "metadata": {},
     "outputs": [
      {
       "metadata": {},
       "output_type": "pyout",
       "prompt_number": 66,
       "text": [
        "['lid', 'identifiers', 'iata', 'icao', 'wmo', 'faa', 'tc', 'gps']"
       ]
      }
     ],
     "prompt_number": 66
    },
    {
     "cell_type": "code",
     "collapsed": false,
     "input": [
      "nx.draw(eight_node_subgraphs[1], with_labels=True)"
     ],
     "language": "python",
     "metadata": {},
     "outputs": [
      {
       "metadata": {},
       "output_type": "display_data",
       "png": "[encoded data removed]",
       "text": [
        "<matplotlib.figure.Figure at 0x7fb642871cd0>"
       ]
      }
     ],
     "prompt_number": 67
    },
    {
     "cell_type": "code",
     "collapsed": false,
     "input": [
      "G.rendering_of_graph_node(\"identifiers\")"
     ],
     "language": "python",
     "metadata": {},
     "outputs": [
      {
       "metadata": {},
       "output_type": "pyout",
       "prompt_number": 68,
       "text": [
        "'rend'"
       ]
      }
     ],
     "prompt_number": 68
    },
    {
     "cell_type": "code",
     "collapsed": false,
     "input": [
      "G.rendering_of_graph_node(\"lid\")"
     ],
     "language": "python",
     "metadata": {},
     "outputs": [
      {
       "metadata": {},
       "output_type": "pyout",
       "prompt_number": 69,
       "text": [
        "'unrend'"
       ]
      }
     ],
     "prompt_number": 69
    },
    {
     "cell_type": "code",
     "collapsed": false,
     "input": [
      "G.rendering_of_graph_node(\"iata\")"
     ],
     "language": "python",
     "metadata": {},
     "outputs": [
      {
       "metadata": {},
       "output_type": "pyout",
       "prompt_number": 70,
       "text": [
        "'unrend'"
       ]
      }
     ],
     "prompt_number": 70
    },
    {
     "cell_type": "code",
     "collapsed": false,
     "input": [
      "G.rendering_of_graph_node(\"icao\")"
     ],
     "language": "python",
     "metadata": {},
     "outputs": [
      {
       "metadata": {},
       "output_type": "pyout",
       "prompt_number": 71,
       "text": [
        "'unrend'"
       ]
      }
     ],
     "prompt_number": 71
    },
    {
     "cell_type": "code",
     "collapsed": false,
     "input": [
      "G.rendering_of_graph_node(\"wmo\")"
     ],
     "language": "python",
     "metadata": {},
     "outputs": [
      {
       "metadata": {},
       "output_type": "pyout",
       "prompt_number": 72,
       "text": [
        "'unrend'"
       ]
      }
     ],
     "prompt_number": 72
    },
    {
     "cell_type": "code",
     "collapsed": false,
     "input": [
      "G.rendering_of_graph_node(\"faa\")"
     ],
     "language": "python",
     "metadata": {},
     "outputs": [
      {
       "metadata": {},
       "output_type": "pyout",
       "prompt_number": 73,
       "text": [
        "'unrend'"
       ]
      }
     ],
     "prompt_number": 73
    },
    {
     "cell_type": "code",
     "collapsed": false,
     "input": [
      "G.rendering_of_graph_node(\"tc\")"
     ],
     "language": "python",
     "metadata": {},
     "outputs": [
      {
       "metadata": {},
       "output_type": "pyout",
       "prompt_number": 74,
       "text": [
        "'unrend'"
       ]
      }
     ],
     "prompt_number": 74
    },
    {
     "cell_type": "code",
     "collapsed": false,
     "input": [
      "G.rendering_of_graph_node(\"gps\")"
     ],
     "language": "python",
     "metadata": {},
     "outputs": [
      {
       "metadata": {},
       "output_type": "pyout",
       "prompt_number": 75,
       "text": [
        "'unrend'"
       ]
      }
     ],
     "prompt_number": 75
    },
    {
     "cell_type": "markdown",
     "metadata": {},
     "source": [
      "Well at least we know that those non-sense nodes are all unrend! I should probably ignore unrend entirely."
     ]
    },
    {
     "cell_type": "code",
     "collapsed": false,
     "input": [
      "eight_node_subgraphs[2].nodes()"
     ],
     "language": "python",
     "metadata": {},
     "outputs": [
      {
       "metadata": {},
       "output_type": "pyout",
       "prompt_number": 76,
       "text": [
        "['hosted by',\n",
        " 'presented by',\n",
        " 'hosting',\n",
        " 'host railroads',\n",
        " 'presenter',\n",
        " 'host',\n",
        " 'host nation',\n",
        " 'host galaxy']"
       ]
      }
     ],
     "prompt_number": 76
    },
    {
     "cell_type": "code",
     "collapsed": false,
     "input": [
      "nx.draw(eight_node_subgraphs[2], with_labels=True)"
     ],
     "language": "python",
     "metadata": {},
     "outputs": [
      {
       "metadata": {},
       "output_type": "display_data",
       "png": "[encoded data removed]",
       "text": [
        "<matplotlib.figure.Figure at 0x7fb642701910>"
       ]
      }
     ],
     "prompt_number": 79
    },
    {
     "cell_type": "code",
     "collapsed": false,
     "input": [
      "eight_node_subgraphs[3].nodes()"
     ],
     "language": "python",
     "metadata": {},
     "outputs": [
      {
       "metadata": {},
       "output_type": "pyout",
       "prompt_number": 80,
       "text": [
        "['related items',\n",
        " 'related shows',\n",
        " 'related',\n",
        " 'related products',\n",
        " 'related articles',\n",
        " 'related brands',\n",
        " 'relateda programs',\n",
        " 'sibling names']"
       ]
      }
     ],
     "prompt_number": 80
    },
    {
     "cell_type": "code",
     "collapsed": false,
     "input": [
      "nx.draw(eight_node_subgraphs[3], with_labels=True)"
     ],
     "language": "python",
     "metadata": {},
     "outputs": [
      {
       "metadata": {},
       "output_type": "display_data",
       "png": "[encoded data removed]",
       "text": [
        "<matplotlib.figure.Figure at 0x7fb642830050>"
       ]
      }
     ],
     "prompt_number": 81
    },
    {
     "cell_type": "code",
     "collapsed": false,
     "input": [
      "G.infoboxes_of_pair(\"sibling names\", \"related\")"
     ],
     "language": "python",
     "metadata": {},
     "outputs": [
      {
       "metadata": {},
       "output_type": "pyout",
       "prompt_number": 82,
       "text": [
        "['Template:Infobox bridge type']"
       ]
      }
     ],
     "prompt_number": 82
    },
    {
     "cell_type": "code",
     "collapsed": false,
     "input": [
      "eight_node_subgraphs[4].nodes()"
     ],
     "language": "python",
     "metadata": {},
     "outputs": [
      {
       "metadata": {},
       "output_type": "pyout",
       "prompt_number": 83,
       "text": [
        "['matchesa played',\n",
        " 'games played',\n",
        " 'matches',\n",
        " 'no of games officiated',\n",
        " 'matches played',\n",
        " 'board game',\n",
        " 'traditional',\n",
        " 'games']"
       ]
      }
     ],
     "prompt_number": 83
    },
    {
     "cell_type": "code",
     "collapsed": false,
     "input": [
      "nx.draw(eight_node_subgraphs[4], with_labels=True)"
     ],
     "language": "python",
     "metadata": {},
     "outputs": [
      {
       "metadata": {},
       "output_type": "display_data",
       "png": "[encoded data removed]",
       "text": [
        "<matplotlib.figure.Figure at 0x7fb6426515d0>"
       ]
      }
     ],
     "prompt_number": 84
    },
    {
     "cell_type": "markdown",
     "metadata": {},
     "source": [
      "This is a particularly interesting example because notice the repetition of two words \"played\" and \"matches\" -- use this to detect synonyms?"
     ]
    },
    {
     "cell_type": "heading",
     "level": 2,
     "metadata": {},
     "source": [
      "Thirteen node subgraphs"
     ]
    },
    {
     "cell_type": "code",
     "collapsed": false,
     "input": [
      "thirteen_node_subgraphs = G.connected_components_with_size(13)"
     ],
     "language": "python",
     "metadata": {},
     "outputs": [],
     "prompt_number": 85
    },
    {
     "cell_type": "code",
     "collapsed": false,
     "input": [
      "thirteen_node_subgraphs[0].nodes()"
     ],
     "language": "python",
     "metadata": {},
     "outputs": [
      {
       "metadata": {},
       "output_type": "pyout",
       "prompt_number": 86,
       "text": [
        "['other characteristics',\n",
        " 'other info',\n",
        " 'primary alcohol by volume',\n",
        " 'other outcome',\n",
        " 'other-information',\n",
        " 'other students',\n",
        " 'other work',\n",
        " 'other information',\n",
        " 'other type fauna',\n",
        " 'other notes',\n",
        " 'otherlithology',\n",
        " 'other',\n",
        " 'otherwins']"
       ]
      }
     ],
     "prompt_number": 86
    },
    {
     "cell_type": "code",
     "collapsed": false,
     "input": [
      "thirteen_node_subgraphs[1].nodes()"
     ],
     "language": "python",
     "metadata": {},
     "outputs": [
      {
       "metadata": {},
       "output_type": "pyout",
       "prompt_number": 87,
       "text": [
        "['catholics',\n",
        " 'total population',\n",
        " 'sizepopulation',\n",
        " 'citizen voting age',\n",
        " 'population as of',\n",
        " 'populationdate',\n",
        " 'PopulationA (!!!!!population_year!!!!!)A aC/A Voting ageA aC/A Citizen voting age',\n",
        " 'voting age',\n",
        " 'catholics percent',\n",
        " 'size population',\n",
        " 'population -a total -a catholics',\n",
        " 'size of population',\n",
        " 'population']"
       ]
      }
     ],
     "prompt_number": 87
    },
    {
     "cell_type": "code",
     "collapsed": false,
     "input": [
      "nx.draw(thirteen_node_subgraphs[1], with_labels=True)"
     ],
     "language": "python",
     "metadata": {},
     "outputs": [
      {
       "metadata": {},
       "output_type": "display_data",
       "png": "[encoded data removed]",
       "text": [
        "<matplotlib.figure.Figure at 0x7fb641070fd0>"
       ]
      }
     ],
     "prompt_number": 89
    },
    {
     "cell_type": "heading",
     "level": 2,
     "metadata": {},
     "source": [
      "Fourteen node subgraphs"
     ]
    },
    {
     "cell_type": "code",
     "collapsed": false,
     "input": [
      "fourteen_node_subgraphs = G.connected_components_with_size(14)"
     ],
     "language": "python",
     "metadata": {},
     "outputs": [],
     "prompt_number": 90
    },
    {
     "cell_type": "code",
     "collapsed": false,
     "input": [
      "fourteen_node_subgraphs[0].nodes()"
     ],
     "language": "python",
     "metadata": {},
     "outputs": [
      {
       "metadata": {},
       "output_type": "pyout",
       "prompt_number": 91,
       "text": [
        "['runner-up20px',\n",
        " 'runnerup',\n",
        " 'second place',\n",
        " 'gamecount',\n",
        " '20px runners-up',\n",
        " '10px runner-up',\n",
        " 'second other',\n",
        " 'runners-up',\n",
        " 'second',\n",
        " 'runnersup',\n",
        " 'runner up',\n",
        " 'runner-up',\n",
        " 'runner-upa 10px',\n",
        " 'runnerups']"
       ]
      }
     ],
     "prompt_number": 91
    },
    {
     "cell_type": "code",
     "collapsed": false,
     "input": [
      "fourteen_node_subgraphs[1].nodes()"
     ],
     "language": "python",
     "metadata": {},
     "outputs": [
      {
       "metadata": {},
       "output_type": "pyout",
       "prompt_number": 92,
       "text": [
        "['listed weight',\n",
        " 'curba weight',\n",
        " 'wet weight',\n",
        " 'weight',\n",
        " 'billed weight',\n",
        " 'weight gain loss',\n",
        " 'weight footnote',\n",
        " 'maleweight',\n",
        " 'rated at',\n",
        " 'dry weight',\n",
        " 'current weight divisions',\n",
        " 'male weight',\n",
        " 'curb weight',\n",
        " 'weight g']"
       ]
      }
     ],
     "prompt_number": 92
    },
    {
     "cell_type": "heading",
     "level": 2,
     "metadata": {},
     "source": [
      "Fifteen node subgraphs"
     ]
    },
    {
     "cell_type": "code",
     "collapsed": false,
     "input": [
      "fifteen_node_subgraphs = G.connected_components_with_size(15)"
     ],
     "language": "python",
     "metadata": {},
     "outputs": [],
     "prompt_number": 93
    },
    {
     "cell_type": "code",
     "collapsed": false,
     "input": [
      "fifteen_node_subgraphs[0].nodes()"
     ],
     "language": "python",
     "metadata": {},
     "outputs": [
      {
       "metadata": {},
       "output_type": "pyout",
       "prompt_number": 94,
       "text": [
        "['predecessor',\n",
        " 'preceded',\n",
        " 'created from',\n",
        " 'precededby',\n",
        " 'previous-date',\n",
        " 'precededa by',\n",
        " 'originateda as',\n",
        " 'a -a precededa by',\n",
        " 'highest prev',\n",
        " 'previous event',\n",
        " 'previouscomp',\n",
        " 'predecessor line',\n",
        " 'preceded by',\n",
        " 'prev',\n",
        " 'previous']"
       ]
      }
     ],
     "prompt_number": 94
    },
    {
     "cell_type": "code",
     "collapsed": false,
     "input": [
      "nx.draw(fifteen_node_subgraphs[0], with_labels=True)"
     ],
     "language": "python",
     "metadata": {},
     "outputs": [
      {
       "metadata": {},
       "output_type": "display_data",
       "png": "[encoded data removed]",
       "text": [
        "<matplotlib.figure.Figure at 0x7fb642842750>"
       ]
      }
     ],
     "prompt_number": 97
    },
    {
     "cell_type": "code",
     "collapsed": false,
     "input": [
      "fifteen_node_subgraphs[1].nodes()"
     ],
     "language": "python",
     "metadata": {},
     "outputs": [
      {
       "metadata": {},
       "output_type": "pyout",
       "prompt_number": 98,
       "text": [
        "['dipstyle',\n",
        " '!!!!!id_type!!!!!',\n",
        " 'route id',\n",
        " 'reference',\n",
        " 'reference style',\n",
        " 'areferences',\n",
        " 'afootnotes',\n",
        " 'identification',\n",
        " 'ida number',\n",
        " 'primeref',\n",
        " 'references',\n",
        " 'footnotes',\n",
        " 'identifier',\n",
        " 'id',\n",
        " 'link']"
       ]
      }
     ],
     "prompt_number": 98
    },
    {
     "cell_type": "code",
     "collapsed": false,
     "input": [
      "nx.draw(fifteen_node_subgraphs[1], with_labels=True)"
     ],
     "language": "python",
     "metadata": {},
     "outputs": [
      {
       "metadata": {},
       "output_type": "display_data",
       "png": "[encoded data removed]",
       "text": [
        "<matplotlib.figure.Figure at 0x7fb63f928a90>"
       ]
      }
     ],
     "prompt_number": 100
    },
    {
     "cell_type": "heading",
     "level": 2,
     "metadata": {},
     "source": [
      "44 node subgraph"
     ]
    },
    {
     "cell_type": "code",
     "collapsed": false,
     "input": [
      "fourfour_node_subgraphs = G.connected_components_with_size(44)"
     ],
     "language": "python",
     "metadata": {},
     "outputs": [],
     "prompt_number": 101
    },
    {
     "cell_type": "code",
     "collapsed": false,
     "input": [
      "fourfour_node_subgraphs[0].nodes()"
     ],
     "language": "python",
     "metadata": {},
     "outputs": [
      {
       "metadata": {},
       "output_type": "pyout",
       "prompt_number": 102,
       "text": [
        "['!!!!!party_label!!!!!',\n",
        " 'reverse design',\n",
        " 'original author',\n",
        " 'lyrics',\n",
        " 'creator',\n",
        " 'invented by',\n",
        " 'author of publication',\n",
        " 'design',\n",
        " '33px',\n",
        " 'artists',\n",
        " '30px',\n",
        " 'party',\n",
        " 'author',\n",
        " 'writer',\n",
        " 'written by',\n",
        " 'current',\n",
        " 'writers',\n",
        " 'significant design',\n",
        " 'monarch',\n",
        " 'political party',\n",
        " 'inventor',\n",
        " 'inventors',\n",
        " 'current season',\n",
        " 'designer',\n",
        " 'episode creator',\n",
        " 'monarchy',\n",
        " 'legislation begin',\n",
        " 'createda by',\n",
        " 'created by',\n",
        " 'authors',\n",
        " 'designeda by',\n",
        " 'member party',\n",
        " 'invent-name',\n",
        " 'reverse designer',\n",
        " 'designed by',\n",
        " 'creators series',\n",
        " 'artist',\n",
        " 'obverse designer',\n",
        " 'obverse design',\n",
        " 'writtena by',\n",
        " 'lyrics date',\n",
        " 'current affiliation date',\n",
        " 'creators',\n",
        " 'design effort']"
       ]
      }
     ],
     "prompt_number": 102
    },
    {
     "cell_type": "code",
     "collapsed": false,
     "input": [
      "nx.draw(fourfour_node_subgraphs[0], with_labels=True)"
     ],
     "language": "python",
     "metadata": {},
     "outputs": [
      {
       "metadata": {},
       "output_type": "display_data",
       "png": "[encoded data removed]",
       "text": [
        "<matplotlib.figure.Figure at 0x7fb63f90af10>"
       ]
      }
     ],
     "prompt_number": 104
    },
    {
     "cell_type": "heading",
     "level": 2,
     "metadata": {},
     "source": [
      "Largest subgraph"
     ]
    },
    {
     "cell_type": "code",
     "collapsed": false,
     "input": [
      "max_size = max(G.connected_component_lengths())"
     ],
     "language": "python",
     "metadata": {},
     "outputs": [],
     "prompt_number": 105
    },
    {
     "cell_type": "code",
     "collapsed": false,
     "input": [
      "print \"Size of largest subgraph: \" + str(max_size) + \" nodes\""
     ],
     "language": "python",
     "metadata": {},
     "outputs": [
      {
       "output_type": "stream",
       "stream": "stdout",
       "text": [
        "Size of largest subgraph: 961 nodes\n"
       ]
      }
     ],
     "prompt_number": 106
    },
    {
     "cell_type": "code",
     "collapsed": false,
     "input": [
      "max_graph = G.connected_components_with_size(max_size)[0]"
     ],
     "language": "python",
     "metadata": {},
     "outputs": [],
     "prompt_number": 107
    },
    {
     "cell_type": "code",
     "collapsed": false,
     "input": [
      "max_graph.nodes()"
     ],
     "language": "python",
     "metadata": {},
     "outputs": [
      {
       "metadata": {},
       "output_type": "pyout",
       "prompt_number": 108,
       "text": [
        "['coach',\n",
        " 'founder',\n",
        " 'serviceyears',\n",
        " 'first played',\n",
        " 'last tournament',\n",
        " 'date const',\n",
        " 'founded',\n",
        " 'long minutes',\n",
        " 'manager',\n",
        " 'firsta built',\n",
        " 'a -a origin',\n",
        " 'track no',\n",
        " 'gm',\n",
        " 'children',\n",
        " 'aliases',\n",
        " 'shtype',\n",
        " 'birthplace',\n",
        " 'solar type',\n",
        " 'const',\n",
        " 'womens-tenure',\n",
        " 'population note',\n",
        " 'plant lat ns',\n",
        " 'date taken',\n",
        " 'father',\n",
        " 'num branches',\n",
        " 'year established',\n",
        " 'update frequency',\n",
        " 'construct start',\n",
        " 'power rating',\n",
        " 'homepage',\n",
        " 'coor',\n",
        " 'lat seconds',\n",
        " 'geology',\n",
        " 'burial date',\n",
        " 'external link',\n",
        " 'hostcity',\n",
        " 'pageurl',\n",
        " 'total damage',\n",
        " 'atmosphere composition',\n",
        " 'first published in',\n",
        " 'full name',\n",
        " 'categories',\n",
        " 'dim',\n",
        " 'type of format',\n",
        " 'range coordinates',\n",
        " 'enddate',\n",
        " 'birth rate',\n",
        " 'transmission',\n",
        " 'cause',\n",
        " 'venue',\n",
        " 'current owner',\n",
        " 'start point',\n",
        " 'wc appearances',\n",
        " 'founder name',\n",
        " 'causea of death',\n",
        " 'tea time',\n",
        " 'architectural styles',\n",
        " 'coordinates type',\n",
        " 'datea ofa birth',\n",
        " 'name, symbol',\n",
        " 'first built',\n",
        " 'licensee',\n",
        " 'fulla name',\n",
        " 'regulateda by',\n",
        " 'construction dates',\n",
        " 'type of incident',\n",
        " 'Installed capacityA (!!!!!capacityyear!!!!!)',\n",
        " 'main stadium',\n",
        " 'current-owner',\n",
        " 'ac hut',\n",
        " 'established',\n",
        " 'spouses',\n",
        " 'cultivar group members',\n",
        " 'nearest settlement',\n",
        " 'formedmonthday',\n",
        " 'pastnames',\n",
        " 'school type',\n",
        " 'coach end',\n",
        " 'stormtype',\n",
        " 'femaleheight',\n",
        " 'runs alongside',\n",
        " 'capital',\n",
        " 'international',\n",
        " 'effective since',\n",
        " 'transponder capacity',\n",
        " 'area footnotes',\n",
        " 'location of document',\n",
        " 'body',\n",
        " 'full',\n",
        " 'national water and sanitation company',\n",
        " 'stance',\n",
        " 'restinga place',\n",
        " 'commissioning date',\n",
        " 'formats',\n",
        " 'power therm elec',\n",
        " 'supernova type',\n",
        " 'class ab power output',\n",
        " 'to date',\n",
        " 'region or state',\n",
        " 'datea ofa death',\n",
        " 'web',\n",
        " 'groups',\n",
        " 'first tournament',\n",
        " 'active',\n",
        " 'stadiuma capacity',\n",
        " 'english name',\n",
        " 'arena',\n",
        " 'publisher',\n",
        " 'host city',\n",
        " 'firstflight',\n",
        " 'en alt title',\n",
        " 'notable locations',\n",
        " 'premiere location',\n",
        " 'lat sec',\n",
        " 'wave technology',\n",
        " 'orgtype',\n",
        " 'sizeland',\n",
        " 'power output',\n",
        " '!!!!!languages_type!!!!!',\n",
        " 'published',\n",
        " 'o end',\n",
        " 'aka',\n",
        " 'produced by',\n",
        " 'administrativea centre',\n",
        " 'placea ofa death',\n",
        " 'winning coach',\n",
        " 'family',\n",
        " 'app',\n",
        " 'location country',\n",
        " 'south website',\n",
        " 'most recent meeting',\n",
        " 'festival date',\n",
        " 'fiscal year',\n",
        " 'names',\n",
        " 'read online',\n",
        " 'time of meet',\n",
        " 'tea names',\n",
        " 'grounda coordinates',\n",
        " 'othera relatives',\n",
        " 'languages',\n",
        " 'fiction genres',\n",
        " 'from',\n",
        " 'regional affiliation',\n",
        " 'to',\n",
        " 'pref',\n",
        " 'release dates',\n",
        " 'current headquarters',\n",
        " 'territorial changes',\n",
        " 'head coach',\n",
        " 'creationdate',\n",
        " 'location-dir',\n",
        " 'launch date',\n",
        " 'company',\n",
        " 'finala winner',\n",
        " 'data format',\n",
        " 'flag',\n",
        " 'coords ref',\n",
        " 'commissioned',\n",
        " '!!!!!games!!!!! appearances',\n",
        " 'osgraw',\n",
        " 'n or s',\n",
        " 'type of harbor',\n",
        " 'coined by',\n",
        " 'lat min',\n",
        " 'year of formation',\n",
        " 'final award',\n",
        " 'launch',\n",
        " 'first holder',\n",
        " 'longitude',\n",
        " 'firstapp',\n",
        " 'constructiona began',\n",
        " 'official website',\n",
        " 'planet coords',\n",
        " 'inscription',\n",
        " 'alternate names',\n",
        " 'additional names',\n",
        " 'show type',\n",
        " 'Average electricity useA (!!!!!useyear!!!!!)',\n",
        " 'zone appearances',\n",
        " 'discovery',\n",
        " 'states',\n",
        " 'owned by',\n",
        " 'consortto',\n",
        " 'firstappearance',\n",
        " 'commissiona date',\n",
        " 'offspring',\n",
        " 'generala manager',\n",
        " 'birtha name',\n",
        " 'location city',\n",
        " 'end',\n",
        " 'nearest town',\n",
        " 'purpose',\n",
        " 'monuments',\n",
        " 'damage',\n",
        " 'playoffs start',\n",
        " 'damagespre',\n",
        " 'currentowner',\n",
        " 'managing agency',\n",
        " 'developed by',\n",
        " 'notable aliases',\n",
        " 'construction completed',\n",
        " 'burn time',\n",
        " 'establishment',\n",
        " 'orig lang',\n",
        " 'wsa year',\n",
        " 'ac category',\n",
        " 'gov body',\n",
        " 'blank emblem type',\n",
        " 'menscoach',\n",
        " 'date ofa tornado outbreak',\n",
        " 'location place',\n",
        " 'officiala languagea form',\n",
        " 'regiona',\n",
        " 'lat minutes',\n",
        " 'date of premiere',\n",
        " 'g8',\n",
        " 'document name',\n",
        " 'years of service',\n",
        " 'generalmanager',\n",
        " 'branches',\n",
        " 'symbol type',\n",
        " 'first event',\n",
        " 'start note',\n",
        " 'headquarters',\n",
        " 'coordinates footnotes',\n",
        " 'alias',\n",
        " 'subdivisions',\n",
        " 'alternative designations',\n",
        " 'fromdate',\n",
        " 'tenure',\n",
        " 'publishing country',\n",
        " 'alsoa called',\n",
        " 'updates',\n",
        " 'executed',\n",
        " 'season end',\n",
        " 'producer',\n",
        " 'webpage',\n",
        " 'pena name',\n",
        " 'residence',\n",
        " 'year active',\n",
        " 'officiala website',\n",
        " 'language of origin',\n",
        " 'coord dim',\n",
        " 'course',\n",
        " 'responsibility for transmission',\n",
        " 'damagespost',\n",
        " 'program duration',\n",
        " 'hot spring type',\n",
        " 'flight origin',\n",
        " 'place of death',\n",
        " 'developer',\n",
        " 'originala run',\n",
        " 'style',\n",
        " 'coord type',\n",
        " 'group',\n",
        " 'schooltype',\n",
        " 'lats',\n",
        " 'areas affected',\n",
        " '!!!!!flag_type!!!!!',\n",
        " 'last service',\n",
        " 'coordinates',\n",
        " 'birthname',\n",
        " 'resort',\n",
        " 'telescope style',\n",
        " 'latitude',\n",
        " 'also known as',\n",
        " 'branchfrom',\n",
        " 'service branches',\n",
        " 'placea ofa origin',\n",
        " 'criminal status',\n",
        " 'affected',\n",
        " 'web address',\n",
        " 'areaa of operations',\n",
        " 'location-city',\n",
        " 'disappeared status',\n",
        " 'female weight',\n",
        " 'original state',\n",
        " 'launch contractor',\n",
        " 'ancestor',\n",
        " 'name',\n",
        " 'place premiered',\n",
        " 'debut',\n",
        " 'water source',\n",
        " 'zodiac symbol',\n",
        " 'instrument type',\n",
        " 'date start',\n",
        " 'major actions',\n",
        " 'oscoor',\n",
        " 'discovery date',\n",
        " 'burial',\n",
        " 'operated by',\n",
        " 'placea ofa birth',\n",
        " 'first service',\n",
        " 'alternativea names',\n",
        " 'firsta awarded',\n",
        " 'globe',\n",
        " 'began',\n",
        " 'active ingredients',\n",
        " 'earlier spellings',\n",
        " 'web site',\n",
        " '!!!!!abolished_label!!!!!',\n",
        " 'configuration',\n",
        " 'year',\n",
        " 'education required',\n",
        " 'coat of arms',\n",
        " 'firsta appearance',\n",
        " 'websitetitle',\n",
        " 'possiblea status',\n",
        " 'first released',\n",
        " 'debutyr',\n",
        " 'first flight',\n",
        " 'first edition',\n",
        " 'subtype',\n",
        " 'lon min',\n",
        " 'mens-tenure',\n",
        " 'operating area',\n",
        " 'female height',\n",
        " 'covereda area',\n",
        " 'a -a coordinates',\n",
        " 'home world',\n",
        " 'supports',\n",
        " 'land area',\n",
        " 'foundation',\n",
        " 'country-origin',\n",
        " 'legal uk',\n",
        " '!!!!!resultyears!!!!!',\n",
        " 'champion date',\n",
        " 'launch site',\n",
        " 'prilithology',\n",
        " 'base',\n",
        " 'formation',\n",
        " 'launchdate',\n",
        " 'poweroutput',\n",
        " 'epicenter',\n",
        " 'date closed',\n",
        " 'arena name',\n",
        " 'owners',\n",
        " 'alt title',\n",
        " 'language',\n",
        " 'created',\n",
        " 'construction started',\n",
        " 'official site',\n",
        " 'loctext',\n",
        " 'format coverage',\n",
        " 'active region',\n",
        " 'place',\n",
        " 'coordinates ts',\n",
        " 'founding location',\n",
        " 'therapeutic use',\n",
        " 'typedesc',\n",
        " 'first',\n",
        " 'origin',\n",
        " 'bus operator',\n",
        " 'burial place',\n",
        " 'active personnel',\n",
        " 'primary',\n",
        " 'owned',\n",
        " 'class c power output',\n",
        " 'lat',\n",
        " 'plan type',\n",
        " 'yr ref',\n",
        " 'from date',\n",
        " 'owner',\n",
        " 'event type',\n",
        " '!!!!!country_type!!!!!',\n",
        " 'style tradition',\n",
        " 'common languages',\n",
        " '!!!!!category_label!!!!!',\n",
        " 'base color',\n",
        " 'city',\n",
        " 'management',\n",
        " 'supporting character of',\n",
        " 'maidenname',\n",
        " 'country ofa origin',\n",
        " 'relations',\n",
        " 'long degrees',\n",
        " 'element of stories featuring',\n",
        " 'convention',\n",
        " 'legal us',\n",
        " 'pub series',\n",
        " 'death date',\n",
        " 'utc offset',\n",
        " 'appeared in',\n",
        " 'south operator',\n",
        " 'area note',\n",
        " 'a',\n",
        " 'lat ns',\n",
        " 'transmitter coordinates',\n",
        " 'e or w',\n",
        " 'releases',\n",
        " 'linguistic classification',\n",
        " 'pub date',\n",
        " 'park',\n",
        " 'first series',\n",
        " 'geo type',\n",
        " 'first date',\n",
        " 'released',\n",
        " 'psa year',\n",
        " 'restingplace',\n",
        " 'location signed',\n",
        " 'planet type',\n",
        " 'translation',\n",
        " 'prefecture',\n",
        " 'plant name',\n",
        " 'notable role',\n",
        " 'type of hunt',\n",
        " 'plant type',\n",
        " 'conservation status',\n",
        " 'last appearance',\n",
        " 'general manager',\n",
        " 'heada coach',\n",
        " 'legal ca',\n",
        " 'latm',\n",
        " 'orbital period',\n",
        " 'abolished',\n",
        " 'time period',\n",
        " 'north website',\n",
        " 'date created',\n",
        " 'origlanguage',\n",
        " 'architecture style',\n",
        " 'longs',\n",
        " 'locations',\n",
        " 'current region',\n",
        " 'buried',\n",
        " 'longm',\n",
        " 'alt names',\n",
        " 'femaleweight',\n",
        " 'west os grid reference',\n",
        " 'locationa',\n",
        " '!!!!!coach_title!!!!!',\n",
        " 'date of formation',\n",
        " 'date',\n",
        " 'built',\n",
        " 'yearsa active',\n",
        " 'engine power',\n",
        " 'available in',\n",
        " 'location ts',\n",
        " 'official languages',\n",
        " 'name en',\n",
        " 'canton',\n",
        " 'date-built',\n",
        " 'alternative names',\n",
        " 'winner-genre',\n",
        " 'clan affiliations',\n",
        " 'coachcount',\n",
        " 'release date',\n",
        " 'closing date',\n",
        " 'province',\n",
        " 'region code',\n",
        " 'branchto',\n",
        " 'ring name',\n",
        " 'startdate',\n",
        " 'lat direction',\n",
        " 'mother',\n",
        " 'translated name',\n",
        " 'os grid ref',\n",
        " 'also called',\n",
        " 'process type',\n",
        " 'time zones',\n",
        " 'long direction',\n",
        " 'debutmo',\n",
        " 'final holder',\n",
        " '!!!!!spouse-type!!!!!',\n",
        " 'date end',\n",
        " 'synonym',\n",
        " 'spaceflight',\n",
        " 'url',\n",
        " 'track owner',\n",
        " 'totalarea',\n",
        " 'date released',\n",
        " 'location state',\n",
        " 'first episode',\n",
        " 'closinga date',\n",
        " 'surface area',\n",
        " 'champion site',\n",
        " 'country or region',\n",
        " 'latns',\n",
        " 'country of origin',\n",
        " 'shform',\n",
        " 'lat dir',\n",
        " 'air dates',\n",
        " 'headquarters location',\n",
        " 'first new world',\n",
        " 'possible types',\n",
        " 'home page',\n",
        " '!!!!!mgrtitle!!!!!',\n",
        " 'availability',\n",
        " 'seating-capacity',\n",
        " 'ground',\n",
        " 'transdate',\n",
        " 'based',\n",
        " 'nicknames',\n",
        " 'copyright',\n",
        " 'lat degrees',\n",
        " 'lastflight',\n",
        " 'mens',\n",
        " 'sc operator',\n",
        " 'names list',\n",
        " 'region of origin',\n",
        " 'alternative name',\n",
        " 'mother house',\n",
        " 'production company',\n",
        " 'home venue',\n",
        " 'altname',\n",
        " 'settlements',\n",
        " 'first awarded',\n",
        " 'occupation type',\n",
        " 'ecclesiastical province',\n",
        " 'last new world',\n",
        " 'long ew',\n",
        " 'shline',\n",
        " 'cooking style',\n",
        " 'clans',\n",
        " 'lon sec',\n",
        " 'resting place',\n",
        " 'areas',\n",
        " 'current status',\n",
        " 'most appearances',\n",
        " 'countries',\n",
        " 'differential',\n",
        " 'former type',\n",
        " 'coord',\n",
        " 'Coat of arms ofA !!!!!name!!!!! Coat of arms',\n",
        " 'releasedate',\n",
        " 'place of birth',\n",
        " 'yeara of invention',\n",
        " 'homeworld',\n",
        " 'release',\n",
        " 'propellant capacity',\n",
        " 'legal status',\n",
        " 'comptype',\n",
        " 'attack type',\n",
        " 'wind farm type',\n",
        " 'a year of completion',\n",
        " 'plant long s',\n",
        " 'place of origin',\n",
        " 'locale',\n",
        " 'other title',\n",
        " 'appears in',\n",
        " 'relative',\n",
        " 'plant long d',\n",
        " 'first ep',\n",
        " 'operated',\n",
        " 'close',\n",
        " 'plant long m',\n",
        " 'available f',\n",
        " 'major junctions',\n",
        " 'year founded',\n",
        " 'capacity',\n",
        " 'lat long',\n",
        " 'north operator',\n",
        " 'fullname',\n",
        " 'architecturala style',\n",
        " 'state',\n",
        " 'closed',\n",
        " 'wordname',\n",
        " 'first aired',\n",
        " 'home era',\n",
        " 'available',\n",
        " 'publishers',\n",
        " 'publishing city',\n",
        " 'other namesa',\n",
        " 'last flight',\n",
        " 'range coordinates note',\n",
        " 'monarchy ended',\n",
        " 'synonyms',\n",
        " '!!!!!region_label!!!!!',\n",
        " 'year of invention',\n",
        " 'ranked',\n",
        " 'founded by',\n",
        " 'tea origin',\n",
        " 'formed month day',\n",
        " 'genre',\n",
        " 'geolocate',\n",
        " 'original owner',\n",
        " 'cities',\n",
        " 'type of site',\n",
        " 'built in',\n",
        " 'wsa tier',\n",
        " 'dates',\n",
        " 'last',\n",
        " 'home ground',\n",
        " 'country',\n",
        " 'region',\n",
        " 'ballpark',\n",
        " 'formedyear',\n",
        " 'monarchy began',\n",
        " 'coa',\n",
        " 'home arena',\n",
        " 'power consumption',\n",
        " 'ecclesiastical or organizational status',\n",
        " 'designations',\n",
        " 'main venue',\n",
        " 'area range',\n",
        " 'began operations',\n",
        " 'other names',\n",
        " 'type of network',\n",
        " 'formed year',\n",
        " 'fundingtype',\n",
        " 'telescope area',\n",
        " 'seating capacity',\n",
        " 'date of death',\n",
        " 'date premiered',\n",
        " 'iso region',\n",
        " 'appeared',\n",
        " 'years offered',\n",
        " 'address',\n",
        " 'period',\n",
        " 'venues',\n",
        " 'original source',\n",
        " 'transpublisher',\n",
        " 'dates run',\n",
        " 'telescope name',\n",
        " 'arena location',\n",
        " 'coordinates region',\n",
        " 'alt name',\n",
        " 'webapp',\n",
        " 'certifying agency',\n",
        " '!!!!!state_type!!!!!',\n",
        " 'researcha type',\n",
        " 'introduction os',\n",
        " 'othernames',\n",
        " 'telescope type',\n",
        " 'composition method',\n",
        " 'product family',\n",
        " 'launchsite',\n",
        " 'latd',\n",
        " 'date of birth',\n",
        " 'availability by country',\n",
        " 'engine date',\n",
        " 'instituted',\n",
        " 'grid reference',\n",
        " 'All-time series A (!!!!!league!!!!! only)',\n",
        " 'current operator',\n",
        " 'stadium',\n",
        " 'death place',\n",
        " 'territory',\n",
        " 'time spent in space',\n",
        " 'engine',\n",
        " 'todate',\n",
        " 'longtype',\n",
        " 'formed',\n",
        " 'available for military service',\n",
        " 'collectinga area',\n",
        " 'founders',\n",
        " 'west website',\n",
        " 'date of equipping',\n",
        " 'consort to',\n",
        " 'hut type',\n",
        " 'location founded',\n",
        " '!!!!!coachtitle!!!!!',\n",
        " 'yards',\n",
        " 'active as of',\n",
        " \"men's coach\",\n",
        " 'appearance',\n",
        " 'agency type',\n",
        " 'last air date',\n",
        " 'founded place',\n",
        " 'east os grid reference',\n",
        " 'year of creation',\n",
        " 'areatotal',\n",
        " 'robust struct built',\n",
        " 'launched',\n",
        " 'coord parameters',\n",
        " 'west operator',\n",
        " 'site',\n",
        " 'surface',\n",
        " 'media type',\n",
        " 'team manager',\n",
        " 'debuthead',\n",
        " 'arearank',\n",
        " 'junction',\n",
        " 'plant operator',\n",
        " 'other name',\n",
        " 'publication date',\n",
        " 'east operator',\n",
        " 'memorial',\n",
        " 'linename',\n",
        " 'specialization',\n",
        " 'orbitalperiod',\n",
        " 'original run',\n",
        " 'legislative body',\n",
        " 'building type',\n",
        " 'par',\n",
        " 'damages',\n",
        " 'baseda in',\n",
        " 'a -a abolished',\n",
        " 'long seconds',\n",
        " '!!!!!owntitle!!!!!',\n",
        " 'longd',\n",
        " 'tld type',\n",
        " 'composition',\n",
        " 'status',\n",
        " 'basea diameter',\n",
        " 'hq city',\n",
        " 'premiere',\n",
        " 'appearances',\n",
        " 'gbgridref',\n",
        " 'psa tier',\n",
        " 'last aired',\n",
        " 'producers',\n",
        " 'pen name',\n",
        " 'ownership',\n",
        " 'nickname',\n",
        " 'official names',\n",
        " 'type of standard',\n",
        " 'lat s',\n",
        " 'type of project',\n",
        " 'football stadium',\n",
        " 'country ts',\n",
        " 'agency',\n",
        " 'mostrecent',\n",
        " 'coordinates note',\n",
        " 'introduction date',\n",
        " 'lat d',\n",
        " 'first launch',\n",
        " 'developeda by',\n",
        " 'english',\n",
        " 'organization',\n",
        " 'lat m',\n",
        " 'largest cities',\n",
        " 'based in',\n",
        " 'geographic coordinates',\n",
        " 'introdate',\n",
        " 'end point',\n",
        " 'legal',\n",
        " 'years',\n",
        " 'coach start',\n",
        " 'premiere date',\n",
        " 'woodbody',\n",
        " 'home stadium',\n",
        " 'original work',\n",
        " 'original language',\n",
        " 'number of locations',\n",
        " 'a -a created',\n",
        " 'yearsa of service',\n",
        " 'ignition source',\n",
        " 'common nicknames',\n",
        " 'winning time',\n",
        " 'country represented',\n",
        " 'contractor',\n",
        " 'timea zone',\n",
        " 'source',\n",
        " 'construction began',\n",
        " 'yearsactive',\n",
        " 'location',\n",
        " 'full title',\n",
        " 'usage',\n",
        " 'original text',\n",
        " 'styles',\n",
        " 'station location',\n",
        " 'time zone',\n",
        " 'legala status',\n",
        " 'product type',\n",
        " 'format',\n",
        " '!!!!!city_type!!!!!',\n",
        " 'broadcast from',\n",
        " 'ancestor names',\n",
        " 'years active',\n",
        " 'coached by',\n",
        " 'death cause',\n",
        " 'last date',\n",
        " 'birth',\n",
        " 'mediaa type',\n",
        " 'final edition',\n",
        " 'cause of death',\n",
        " 'trans capacity',\n",
        " 'birth place',\n",
        " 'orbit period',\n",
        " 'coords',\n",
        " 'lon dir',\n",
        " 'notable relative',\n",
        " 'principal venue',\n",
        " 'birth name',\n",
        " 'legal au',\n",
        " 'sso burn',\n",
        " 'responsible organization',\n",
        " 'date established',\n",
        " 'orbit longitude',\n",
        " 'earliest publications',\n",
        " 'development status',\n",
        " 'yearconstruction',\n",
        " 'footage',\n",
        " 'journey time',\n",
        " 'spill date',\n",
        " 'last event',\n",
        " 'bus owner',\n",
        " '!!!!!admin_center_type!!!!!',\n",
        " 'broadcast area',\n",
        " 'launch location',\n",
        " 'duration',\n",
        " 'died',\n",
        " 'parent systems',\n",
        " 'title orig',\n",
        " 'womens',\n",
        " 'est',\n",
        " 'first recorded',\n",
        " 'tide technology',\n",
        " 'national side',\n",
        " 'functional status',\n",
        " 'altnames',\n",
        " '!!!!!firstlabel!!!!!',\n",
        " 'architecture',\n",
        " 'ancestor arts',\n",
        " 'alternate name',\n",
        " 'mass number',\n",
        " 'monarchy abolished',\n",
        " 'geographic origin',\n",
        " 'full title english',\n",
        " 'first award',\n",
        " 'headcoach',\n",
        " 'plant long ew',\n",
        " 'stateabb',\n",
        " 'power',\n",
        " 'deleted',\n",
        " 'first season',\n",
        " 'neighborhood etc',\n",
        " 'use',\n",
        " 'original title',\n",
        " 'feature type',\n",
        " 'grounda capacity',\n",
        " 'arena coord',\n",
        " 'gears',\n",
        " 'osgridref',\n",
        " 'periodculture',\n",
        " 'south os grid reference',\n",
        " 'east website',\n",
        " 'resting place coordinates',\n",
        " 'ended service',\n",
        " 'conviction status',\n",
        " 'exposure latitude',\n",
        " 'region ts',\n",
        " 'introduced',\n",
        " 'birth date',\n",
        " 'coordinates ref',\n",
        " 'other designations',\n",
        " 'winner-origin',\n",
        " 'end date',\n",
        " 'morenicks',\n",
        " 'collecting area',\n",
        " '!!!!!coordinate_title!!!!!',\n",
        " '!!!!!region_type!!!!!',\n",
        " 'first primeval',\n",
        " 'termini',\n",
        " 'operator',\n",
        " 'type of business',\n",
        " 'existed',\n",
        " 'spouse',\n",
        " 'plant commission',\n",
        " 'area',\n",
        " 'museum',\n",
        " 'airport type',\n",
        " 'stateterritory',\n",
        " 'long',\n",
        " 'end note',\n",
        " 'start',\n",
        " 'north os grid reference',\n",
        " 'planet landing',\n",
        " 'restingplacecoordinates',\n",
        " 'series',\n",
        " 'start date',\n",
        " 'last primeval',\n",
        " 'family name',\n",
        " 'geographical range',\n",
        " 'lang',\n",
        " 'only',\n",
        " 'lasta appearance',\n",
        " 'relatives',\n",
        " 'englisha name',\n",
        " 'perioda in office',\n",
        " 'construction',\n",
        " 'ended',\n",
        " 'coord region',\n",
        " 'subdivision',\n",
        " 'competition date',\n",
        " 'os grid reference',\n",
        " 'architectural style',\n",
        " 'first appearance',\n",
        " 'utc',\n",
        " 'geographic distribution',\n",
        " 'initial release',\n",
        " 'born',\n",
        " 'type',\n",
        " 'last launch',\n",
        " 'official',\n",
        " 'city of license',\n",
        " 'long s',\n",
        " 'long m',\n",
        " 'dataa sources',\n",
        " 'season start',\n",
        " 'founded date',\n",
        " 'long d',\n",
        " 'effective region',\n",
        " 'o start',\n",
        " 'host country',\n",
        " 'cultivar group',\n",
        " '!!!!!countrytag!!!!!',\n",
        " 'official residence',\n",
        " 'org type',\n",
        " 'duration1',\n",
        " 'source of milk',\n",
        " 'footnote a',\n",
        " 'location region',\n",
        " 'telescopea style',\n",
        " 'paraly appearances',\n",
        " 'most recent',\n",
        " 'alter ego',\n",
        " 'written in',\n",
        " 'timezone',\n",
        " 'type of rock',\n",
        " 'year closed',\n",
        " 'constructed',\n",
        " 'current status schedule',\n",
        " 'genres',\n",
        " 'hospital type',\n",
        " 'pseudonym',\n",
        " 'current owners',\n",
        " 'website',\n",
        " 'application',\n",
        " 'finish',\n",
        " 'role',\n",
        " 'stage surface',\n",
        " 'tea type',\n",
        " 'legalstatus',\n",
        " 'othera name',\n",
        " 'developers',\n",
        " 'coaching career',\n",
        " 'whytetype',\n",
        " 'othera names',\n",
        " 'category',\n",
        " 'destructiona date',\n",
        " 'elements',\n",
        " 'yesorretiredyear',\n",
        " 'early forms',\n",
        " 'weak struct built',\n",
        " 'notable relatives',\n",
        " 'symbol',\n",
        " 'main producers',\n",
        " 'crew capacity',\n",
        " 'year built',\n",
        " 'scale',\n",
        " 'child systems',\n",
        " 'international affiliation',\n",
        " 'languageorigin',\n",
        " 'organelle-year',\n",
        " 'alternatea name',\n",
        " 'munwebpage',\n",
        " 'present location',\n",
        " 'releasea date',\n",
        " 'longew',\n",
        " 'house type',\n",
        " 'plant lat s',\n",
        " 'point of origin',\n",
        " 'produceda by',\n",
        " 'folk tale name',\n",
        " 'service type',\n",
        " 'plant lat d',\n",
        " 'time',\n",
        " 'plant lat m',\n",
        " 'firsta edition',\n",
        " 'A !!!!!prev!!!!! (!!!!!prev_no!!!!!)']"
       ]
      }
     ],
     "prompt_number": 108
    },
    {
     "cell_type": "code",
     "collapsed": false,
     "input": [
      "nx.draw(max_graph, with_labels=True)"
     ],
     "language": "python",
     "metadata": {},
     "outputs": [
      {
       "metadata": {},
       "output_type": "display_data",
       "png": "[encoded data removed]",
       "text": [
        "<matplotlib.figure.Figure at 0x7fb63f983990>"
       ]
      }
     ],
     "prompt_number": 109
    },
    {
     "cell_type": "markdown",
     "metadata": {},
     "source": [
      "Enough said."
     ]
    }
   ],
   "metadata": {}
  }
 ]
}