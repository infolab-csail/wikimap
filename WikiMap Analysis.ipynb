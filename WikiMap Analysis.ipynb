{
 "cells": [
  {
   "cell_type": "code",
   "execution_count": 18,
   "metadata": {
    "collapsed": false
   },
   "outputs": [],
   "source": [
    "%matplotlib inline"
   ]
  },
  {
   "cell_type": "markdown",
   "metadata": {},
   "source": [
    "# Current WikiMap"
   ]
  },
  {
   "cell_type": "markdown",
   "metadata": {},
   "source": [
    "`wikimap create` exited with these statistics: \n",
    "\n",
    "```\n",
    "Graphed a newtork of 11398 nodes and 9344 edges from 26202 unrendered : rendered attribute pairs, spanning 3595 infoboxes\n",
    "```"
   ]
  },
  {
   "cell_type": "markdown",
   "metadata": {},
   "source": [
    "# Wikimap Status"
   ]
  },
  {
   "cell_type": "markdown",
   "metadata": {},
   "source": [
    "Ran the `wikimap status` command in `wikimap/wikimap/` like this: \n",
    "\n",
    "```\n",
    "$ wikimap status ./data-folder/clean_attribute_synonyms_redone.gpickle ./data-folder/infoboxes.xlsx ./data-folder/empty_report.json ./data-folder/explosion_report.json > status.log\n",
    "```\n",
    "\n",
    "with the following excerpted results:"
   ]
  },
  {
   "cell_type": "markdown",
   "metadata": {},
   "source": [
    "## Empty"
   ]
  },
  {
   "cell_type": "markdown",
   "metadata": {},
   "source": [
    "This includes statistics about infoboxes for which Python WikipediaBase does not provide mappings.\n",
    "\n",
    "```\n",
    "Statistics:\n",
    "Missing 2339 Infobox templates out of 3595 total, or 65.06%\n",
    "Missing 430375 Wikipedia pages out of 2607241 total, or 16.51%\n",
    "Missed template with most pages: [Template:Infobox french commune] with 36791 pages\n",
    "```"
   ]
  },
  {
   "cell_type": "markdown",
   "metadata": {},
   "source": [
    "## Explosion"
   ]
  },
  {
   "cell_type": "markdown",
   "metadata": {},
   "source": [
    "This includes statistics about the largest subgraph (see breakdown of subgraphs by size in \"Sample Subgraphs\" below).\n",
    "\n",
    "```\n",
    "Statistics:\n",
    "There are 2131532 Wikipedia pages in the explosion out of 2607241 total, or 81.75%\n",
    "In order, missed infoboxes with the most pages:\n",
    "('settlement', 354090.0)\n",
    "('person', 146915.0)\n",
    "('album', 122492.0)\n",
    "('football-biography', 118713.0)\n",
    "('film', 92138.0)\n",
    "('musical-artist', 75975.0)\n",
    "('nrhp', 51425.0)\n",
    "('company', 50172.0)\n",
    "('single', 47227.0)\n",
    "('officeholder', 37139.0)\n",
    "('book', 30794.0)\n",
    "('television', 29280.0)\n",
    "('ship-characteristics', 27818.0)\n",
    "('military-person', 27662.0)\n",
    "('ship-career', 25193.0)\n",
    "('school', 22192.0)\n",
    "('sportsperson', 19344.0)\n",
    "('writer', 19319.0)\n",
    "('scientist', 19272.0)\n",
    "('radio-station', 18663.0)\n",
    "('road', 18055.0)\n",
    "('university', 17891.0)\n",
    "('football-club', 17065.0)\n",
    "('mountain', 16137.0)\n",
    "('station', 16026.0)\n",
    "('military-unit', 15748.0)\n",
    "('ice-hockey-player', 14392.0)\n",
    "('airport', 14094.0)\n",
    "('cricketer', 13781.0)\n",
    "('river', 12909.0)\n",
    "('organization', 12855.0)\n",
    "('video-game', 12534.0)\n",
    "('politician', 11483.0)\n",
    "('planet', 11055.0)\n",
    "('artist', 10836.0)\n",
    "('lake', 10244.0)\n",
    "('building', 9962.0)\n",
    "('software', 9822.0)\n",
    "('royalty', 8840.0)\n",
    "('stadium', 8669.0)\n",
    "('language', 8021.0)\n",
    "('football-club-season', 7850.0)\n",
    "('cyclist', 7407.0)\n",
    "('television-episode', 7237.0)\n",
    "('basketball-biography', 6972.0)\n",
    "('church', 6836.0)\n",
    "('college-coach', 6630.0)\n",
    "('protected-area', 6418.0)\n",
    "('newspaper', 6244.0)\n",
    "('state-representative', 6030.0)\n",
    "('journal', 5939.0)\n",
    "('rugby-league-biography', 5891.0)\n",
    "('gridiron-football-person', 5845.0)\n",
    "('rugby-biography', 5690.0)\n",
    "('rockunit', 5383.0)\n",
    "('political-party', 5315.0)\n",
    "('japan-station', 5215.0)\n",
    "('weapon', 5184.0)\n",
    "('song', 4960.0)\n",
    "('automobile', 4903.0)\n",
    "('military-structure', 4794.0)\n",
    "('government-agency', 4760.0)\n",
    "('magazine', 4641.0)\n",
    "('museum', 4571.0)\n",
    "('tennis-biography', 4288.0)\n",
    "('islands', 4224.0)\n",
    "('prepared-food', 4221.0)\n",
    "('swimmer', 4052.0)\n",
    "('congressman', 3929.0)\n",
    "('award', 3833.0)\n",
    "('bridge', 3764.0)\n",
    "('artist-discography', 3732.0)\n",
    "('artwork', 3675.0)\n",
    "('airline', 3650.0)\n",
    "('boxer', 3629.0)\n",
    "('character', 3624.0)\n",
    "('historic-site', 3384.0)\n",
    "('broadcast', 3367.0)\n",
    "('website', 3332.0)\n",
    "('religious-building', 3292.0)\n",
    "('locomotive', 3225.0)\n",
    "('diocese', 3153.0)\n",
    "('martial-artist', 3146.0)\n",
    "('rail-line', 3139.0)\n",
    "('governor', 3094.0)\n",
    "('athlete', 3087.0)\n",
    "('saint', 3059.0)\n",
    "('dam', 3005.0)\n",
    "('figure-skater', 2913.0)\n",
    "('television-season', 2891.0)\n",
    "('state-senator', 2864.0)\n",
    "('hospital', 2834.0)\n",
    "('vg', 2826.0)\n",
    "('professional-wrestler', 2818.0)\n",
    "('golfer', 2800.0)\n",
    "('record-label', 2757.0)\n",
    "('thoroughbred-racehorse', 2729.0)\n",
    "('former-country', 2640.0)\n",
    "('park', 2636.0)\n",
    "('comics-creator', 2628.0)\n",
    "('international-football-competition', 2605.0)\n",
    "('monarch', 2598.0)\n",
    "('district', 2502.0)\n",
    "('shopping-mall', 2502.0)\n",
    "('given-name', 2493.0)\n",
    "('football-match', 2481.0)\n",
    "('pageant-titleholder', 2380.0)\n",
    "('football-tournament-season', 2344.0)\n",
    "('mountain-range', 2311.0)\n",
    "('concert-tour', 2217.0)\n",
    "('president', 2178.0)\n",
    "('rugby-team', 2098.0)\n",
    "('sports-league', 2086.0)\n",
    "('court-case', 2026.0)\n",
    "('spaceflight', 2014.0)\n",
    "('power-station', 2004.0)\n",
    "('nobility', 1956.0)\n",
    "('political-post', 1950.0)\n",
    "('sports-season', 1932.0)\n",
    "('judge', 1928.0)\n",
    "('military-award', 1841.0)\n",
    "('anatomy', 1838.0)\n",
    "('horseraces', 1836.0)\n",
    "('racing-driver', 1824.0)\n",
    "('comic-book-title', 1819.0)\n",
    "('play', 1772.0)\n",
    "('secondary-school', 1718.0)\n",
    "('handball-biography', 1686.0)\n",
    "('prime-minister', 1661.0)\n",
    "('criminal', 1646.0)\n",
    "('constituency', 1641.0)\n",
    "('china-station', 1629.0)\n",
    "('cultivar', 1627.0)\n",
    "('education-in-canada', 1626.0)\n",
    "('mine', 1612.0)\n",
    "('lighthouse', 1612.0)\n",
    "('architect', 1611.0)\n",
    "('philosopher', 1598.0)\n",
    "('model', 1591.0)\n",
    "('union', 1568.0)\n",
    "('mayor', 1560.0)\n",
    "('gymnast', 1544.0)\n",
    "('historic-building', 1530.0)\n",
    "('rugby-union-biography', 1530.0)\n",
    "('adult-biography', 1515.0)\n",
    "('legislature', 1498.0)\n",
    "('ancient-site', 1498.0)\n",
    "('school-district', 1487.0)\n",
    "('soap-character-2', 1480.0)\n",
    "('civilian-attack', 1462.0)\n",
    "('short-story', 1447.0)\n",
    "('theatre', 1432.0)\n",
    "('football-league', 1414.0)\n",
    "('bus-transit', 1394.0)\n",
    "('former-subdivision', 1383.0)\n",
    "('song-contest-entry', 1382.0)\n",
    "('comedian', 1303.0)\n",
    "('law-enforcement-agency', 1300.0)\n",
    "('publisher', 1281.0)\n",
    "('cycling-race-report', 1272.0)\n",
    "('volleyball-player', 1271.0)\n",
    "('basketball-club', 1269.0)\n",
    "('musical', 1258.0)\n",
    "('chess-player', 1252.0)\n",
    "('hurricane', 1219.0)\n",
    "('hotel', 1203.0)\n",
    "('rail-service', 1166.0)\n",
    "('skier', 1160.0)\n",
    "('music-festival', 1152.0)\n",
    "('street', 1135.0)\n",
    "('radio-show', 1118.0)\n",
    "('national-football-team', 1102.0)\n",
    "('soap-character', 1087.0)\n",
    "('train', 1087.0)\n",
    "('mobile-phone', 1081.0)\n",
    "('recurring-event', 1080.0)\n",
    "('motorcycle-rider', 1079.0)\n",
    "('protein-family', 1078.0)\n",
    "('comics-character', 1075.0)\n",
    "('language-family', 1063.0)\n",
    "('venue', 1053.0)\n",
    "('city', 1049.0)\n",
    "('mountain-pass', 1028.0)\n",
    "('hockey-team', 1020.0)\n",
    "('holiday', 1019.0)\n",
    "('motorcycle', 988.0)\n",
    "('economist', 987.0)\n",
    "('wrestling-event', 973.0)\n",
    "('game', 961.0)\n",
    "('rfam', 946.0)\n",
    "('film-awards', 936.0)\n",
    "('family-name', 934.0)\n",
    "('prison', 915.0)\n",
    "('zoo', 889.0)\n",
    "('waterfall', 855.0)\n",
    "('senator', 851.0)\n",
    "('film-festival', 850.0)\n",
    "('religious-biography', 846.0)\n",
    "('public-transit', 838.0)\n",
    "('swimming-event', 828.0)\n",
    "('restaurant', 820.0)\n",
    "('library', 814.0)\n",
    "('racehorse', 811.0)\n",
    "('body-of-water', 799.0)\n",
    "('sports-team', 792.0)\n",
    "('college-football-player', 786.0)\n",
    "('standard', 777.0)\n",
    "('engineer', 768.0)\n",
    "('hiking-trail', 766.0)\n",
    "('beverage', 757.0)\n",
    "('mandir', 751.0)\n",
    "('horseracing-personality', 745.0)\n",
    "('sport-governing-body', 740.0)\n",
    "('minister', 724.0)\n",
    "('cricket-ground', 719.0)\n",
    "('os', 709.0)\n",
    "('aircraft-occurrence', 706.0)\n",
    "('roller-coaster', 703.0)\n",
    "('cemetery', 703.0)\n",
    "('individual-golf-tournament', 698.0)\n",
    "('rail', 689.0)\n",
    "('speedway-rider', 681.0)\n",
    "('television-channel', 676.0)\n",
    "('network', 673.0)\n",
    "('college-athletics', 673.0)\n",
    "('cycling-race', 662.0)\n",
    "('glacier', 661.0)\n",
    "('poker-player', 657.0)\n",
    "('convention', 655.0)\n",
    "('historic-subdivision', 647.0)\n",
    "('cricket-tournament', 645.0)\n",
    "('astronaut', 644.0)\n",
    "('london-station', 631.0)\n",
    "('football-tournament', 631.0)\n",
    "('ski-area', 629.0)\n",
    "('camera', 627.0)\n",
    "('instrument', 625.0)\n",
    "('badminton-player', 622.0)\n",
    "('curler', 620.0)\n",
    "('curling', 617.0)\n",
    "('diplomatic-mission', 610.0)\n",
    "('coat-of-arms', 608.0)\n",
    "('broadcasting-network', 594.0)\n",
    "('information-appliance', 594.0)\n",
    "('college', 593.0)\n",
    "('official-post', 582.0)\n",
    "('pro-wrestling-championship', 566.0)\n",
    "('flag', 557.0)\n",
    "('treaty', 557.0)\n",
    "('golf-facility', 551.0)\n",
    "('terrorist-attack', 551.0)\n",
    "('programming-language', 544.0)\n",
    "('brand', 542.0)\n",
    "('monastery', 540.0)\n",
    "('amusement-park', 531.0)\n",
    "('football-official', 530.0)\n",
    "('darts-player', 529.0)\n",
    "('oil-field', 527.0)\n",
    "('country-at-games', 525.0)\n",
    "('baseball-team', 525.0)\n",
    "('pro-football-player', 516.0)\n",
    "('chef', 508.0)\n",
    "('golf-tournament', 502.0)\n",
    "('international-ice-hockey-competition', 502.0)\n",
    "('kibbutz', 497.0)\n",
    "('historical-event', 494.0)\n",
    "('serial-killer', 491.0)\n",
    "('cricket-team', 488.0)\n",
    "('file-format', 488.0)\n",
    "('rugby-union-season', 481.0)\n",
    "('table-tennis-player', 479.0)\n",
    "('monument', 479.0)\n",
    "('amateur-wrestler', 474.0)\n",
    "('ambassador', 474.0)\n",
    "('sailor', 474.0)\n",
    "('port', 467.0)\n",
    "('tunnel', 467.0)\n",
    "('fashion-designer', 465.0)\n",
    "('sumo-wrestler', 464.0)\n",
    "('presenter', 461.0)\n",
    "('institute', 459.0)\n",
    "('civil-conflict', 458.0)\n",
    "('anthem', 458.0)\n",
    "('country', 457.0)\n",
    "('observatory', 455.0)\n",
    "('military-installation', 451.0)\n",
    "('cave', 445.0)\n",
    "('dogbreed', 442.0)\n",
    "('automobile-engine', 437.0)\n",
    "('war-faction', 436.0)\n",
    "('alpine-ski-racer', 433.0)\n",
    "('wrestling-team', 431.0)\n",
    "('noble', 426.0)\n",
    "('news-event', 423.0)\n",
    "('kommune', 422.0)\n",
    "('graphic-novel', 420.0)\n",
    "('handball-club', 419.0)\n",
    "('rail-accident', 418.0)\n",
    "('government-cabinet', 415.0)\n",
    "('australian-football-club', 413.0)\n",
    "('reality-music-competition', 413.0)\n",
    "('casino', 410.0)\n",
    "('fraternity', 410.0)\n",
    "('squash-player', 409.0)\n",
    "('bus-line', 407.0)\n",
    "('criminal-organization', 404.0)\n",
    "('motorsport-championship', 397.0)\n",
    "('earthquake', 396.0)\n",
    "('deity', 396.0)\n",
    "('canal', 391.0)\n",
    "('windmill', 389.0)\n",
    "('cricket-tour', 389.0)\n",
    "('writing-system', 384.0)\n",
    "('bone', 383.0)\n",
    "('racing-car', 381.0)\n",
    "('bishop', 380.0)\n",
    "('games', 378.0)\n",
    "('grape-variety', 377.0)\n",
    "('temple', 377.0)\n",
    "('wine-region', 375.0)\n",
    "('snooker-player', 373.0)\n",
    "('speed-skater', 370.0)\n",
    "('clergy', 367.0)\n",
    "('currency', 362.0)\n",
    "('rugby-football-league-season', 362.0)\n",
    "('novel-series', 361.0)\n",
    "('lacrosse-player', 361.0)\n",
    "('artery', 358.0)\n",
    "('given-name2', 354.0)\n",
    "('biodatabase', 353.0)\n",
    "('airliner-accident', 347.0)\n",
    "('top-level-domain', 345.0)\n",
    "('fencer', 342.0)\n",
    "('comic-strip', 340.0)\n",
    "('national-basketball-team', 340.0)\n",
    "('cycling-team', 339.0)\n",
    "('pharaoh', 336.0)\n",
    "('orchestra', 333.0)\n",
    "('tram-network', 333.0)\n",
    "('athletic-conference', 333.0)\n",
    "('sailboat-specifications', 331.0)\n",
    "('roller-derby-league', 328.0)\n",
    "('nerve', 328.0)\n",
    "('police-officer', 326.0)\n",
    "('winery', 324.0)\n",
    "('medical-person', 323.0)\n",
    "('peer', 320.0)\n",
    "('cheese', 313.0)\n",
    "('scholar', 312.0)\n",
    "('animal', 311.0)\n",
    "('horse', 310.0)\n",
    "('musical-composition', 306.0)\n",
    "('painting', 300.0)\n",
    "('horse-race', 300.0)\n",
    "('book-series', 297.0)\n",
    "('font', 297.0)\n",
    "('protein', 294.0)\n",
    "('sports-rivalry', 285.0)\n",
    "('guitar-model', 284.0)\n",
    "('military-memorial', 284.0)\n",
    "('high-court', 284.0)\n",
    "('lt-governor', 282.0)\n",
    "('muscle', 280.0)\n",
    "('comics-organization', 279.0)\n",
    "('comics-story-arc', 269.0)\n",
    "('international-handball-competition', 261.0)\n",
    "('rocket', 259.0)\n",
    "('rugby-league-club', 256.0)\n",
    "('surname', 254.0)\n",
    "('netball-biography', 253.0)\n",
    "('political-youth-organization', 252.0)\n",
    "('castrum', 252.0)\n",
    "('fire-department', 251.0)\n",
    "('coin', 248.0)\n",
    "('event', 248.0)\n",
    "('volleyball-biography', 244.0)\n",
    "('rowing-club', 244.0)\n",
    "('badminton-event', 244.0)\n",
    "('martial-art', 240.0)\n",
    "('beauty-pageant', 238.0)\n",
    "('bodybuilder', 237.0)\n",
    "('college-sports-rivalry', 237.0)\n",
    "('sport', 230.0)\n",
    "('national-military', 229.0)\n",
    "('esl-club', 228.0)\n",
    "('color', 228.0)\n",
    "('dancer', 228.0)\n",
    "('comet', 228.0)\n",
    "('go-player', 226.0)\n",
    "('podcast', 225.0)\n",
    "('regency', 224.0)\n",
    "('football-country-season', 223.0)\n",
    "('animanga-character', 222.0)\n",
    "('mythical-creature', 222.0)\n",
    "('song-contest-country', 221.0)\n",
    "('college-baseball-team', 217.0)\n",
    "('economy', 217.0)\n",
    "('tennis-tournament', 214.0)\n",
    "('wrestling-promotion', 213.0)\n",
    "('cycling-championship', 212.0)\n",
    "('individual-darts-tournament', 211.0)\n",
    "('clan', 211.0)\n",
    "('law-school', 210.0)\n",
    "('ski-jumper', 210.0)\n",
    "('frazione', 207.0)\n",
    "('artefact', 207.0)\n",
    "('rally', 205.0)\n",
    "('computer', 204.0)\n",
    "('organisation', 202.0)\n",
    "('family', 201.0)\n",
    "('field-hockey-player', 200.0)\n",
    "('hockey', 199.0)\n",
    "('document', 198.0)\n",
    "('brewery', 195.0)\n",
    "('defunct-tennis-tournament', 194.0)\n",
    "('ligament', 190.0)\n",
    "('exchange', 183.0)\n",
    "('first-lady', 182.0)\n",
    "('racecourse', 182.0)\n",
    "('valley', 180.0)\n",
    "('squash-tournament', 178.0)\n",
    "('pipeline', 176.0)\n",
    "('tornado-outbreak', 173.0)\n",
    "('synthesizer', 173.0)\n",
    "('card-game', 172.0)\n",
    "('comics-location', 171.0)\n",
    "('named-horse', 169.0)\n",
    "('video-game-series', 168.0)\n",
    "('rugby-tournament', 168.0)\n",
    "('motor-race', 165.0)\n",
    "('ecoregion', 165.0)\n",
    "('flood', 164.0)\n",
    "('cricket-tournament-main', 164.0)\n",
    "('artifact', 163.0)\n",
    "('playwright', 162.0)\n",
    "('volleyball-club', 162.0)\n",
    "('sport-club', 159.0)\n",
    "('laboratory', 158.0)\n",
    "('patriarch', 157.0)\n",
    "('occupation', 157.0)\n",
    "('meteorite', 157.0)\n",
    "('summit', 156.0)\n",
    "('dava', 156.0)\n",
    "('central-bank', 155.0)\n",
    "('sport-wrestler', 154.0)\n",
    "('rugby-league-football-competition', 153.0)\n",
    "('song-contest', 153.0)\n",
    "('national-volleyball-team', 152.0)\n",
    "('nuclear-weapons-test', 152.0)\n",
    "('toy', 150.0)\n",
    "('squash-championship', 150.0)\n",
    "('sport-tournament', 148.0)\n",
    "('skating-event', 148.0)\n",
    "('spacecraft', 147.0)\n",
    "('college-football-season', 147.0)\n",
    "('aviator', 143.0)\n",
    "('tennis-cup-team', 143.0)\n",
    "('chess-opening', 142.0)\n",
    "('residential-college', 140.0)\n",
    "('rugby-league-season', 139.0)\n",
    "('poultry-breed', 139.0)\n",
    "('ice-hockey-award', 138.0)\n",
    "('winter-storm', 138.0)\n",
    "('drug', 137.0)\n",
    "('cricket-club-season', 137.0)\n",
    "('rocket-stage', 136.0)\n",
    "('national-handball-team', 135.0)\n",
    "('house', 135.0)\n",
    "('wildfire', 135.0)\n",
    "('country-telephone-plan', 135.0)\n",
    "('convention-center', 134.0)\n",
    "('mosque', 134.0)\n",
    "('theologian', 134.0)\n",
    "('spy', 132.0)\n",
    "('trolleybus-system', 132.0)\n",
    "('nebula', 132.0)\n",
    "('college-marching-band', 130.0)\n",
    "('pirate', 130.0)\n",
    "('surfer', 129.0)\n",
    "('oilfield', 128.0)\n",
    "('waterlock', 128.0)\n",
    "('academic-division', 127.0)\n",
    "('sport-event', 127.0)\n",
    "('actor', 127.0)\n",
    "('telescope', 125.0)\n",
    "('dog-breed', 125.0)\n",
    "('polyhedron', 124.0)\n",
    "('college-ice-hockey-team', 124.0)\n",
    "('webcomic', 123.0)\n",
    "('fictional-location', 122.0)\n",
    "('pinball', 122.0)\n",
    "('geopolitical-organization', 121.0)\n",
    "('militant-organization', 121.0)\n",
    "('speedway-league', 121.0)\n",
    "('radar', 121.0)\n",
    "('haplogroup', 120.0)\n",
    "('seamount', 120.0)\n",
    "('architectural-practice', 120.0)\n",
    "('bus-company', 118.0)\n",
    "('students-union', 117.0)\n",
    "('college-soccer-team', 117.0)\n",
    "('college-basketball-team', 116.0)\n",
    "('theatre-group', 115.0)\n",
    "('ice-hockey-game', 114.0)\n",
    "('motorcycle-speedway-team', 112.0)\n",
    "('caste', 111.0)\n",
    "('department', 109.0)\n",
    "('comics-meta-series', 107.0)\n",
    "('international-baseball-tournament', 107.0)\n",
    "('photographic-lenses', 107.0)\n",
    "('national-baseball-team', 107.0)\n",
    "('state', 106.0)\n",
    "('governor-general', 106.0)\n",
    "('heritage-railway', 105.0)\n",
    "('media-franchise', 105.0)\n",
    "('motorsport-venue', 104.0)\n",
    "('water-park', 104.0)\n",
    "('national-political-convention', 104.0)\n",
    "('name-module', 103.0)\n",
    "('opera', 103.0)\n",
    "('former-monarchy', 103.0)\n",
    "('college-basketball-tournament', 103.0)\n",
    "('basketball-player', 102.0)\n",
    "('referendum', 102.0)\n",
    "('sheep-breed', 102.0)\n",
    "('mill-building', 99.0)\n",
    "('triathlete', 99.0)\n",
    "('team-golf-tournament', 99.0)\n",
    "('comic', 98.0)\n",
    "('rebbe', 96.0)\n",
    "('climber', 96.0)\n",
    "('gold-mine', 96.0)\n",
    "('chancellor', 95.0)\n",
    "('athletics-race', 95.0)\n",
    "('sporting-event-organization', 95.0)\n",
    "('pig-breed', 95.0)\n",
    "('leadership-election', 95.0)\n",
    "('equestrian', 94.0)\n",
    "('murderer', 93.0)\n",
    "('football-derby', 93.0)\n",
    "('medieval-text', 92.0)\n",
    "('banknote', 92.0)\n",
    "('nonhuman-protein', 92.0)\n",
    "('hot-spring', 92.0)\n",
    "('media', 92.0)\n",
    "('web-browser', 91.0)\n",
    "('surah', 91.0)\n",
    "('noble-house', 90.0)\n",
    "('mass-murderer', 89.0)\n",
    "('candidate', 89.0)\n",
    "('constellation', 88.0)\n",
    "('launch-pad', 87.0)\n",
    "('biathlete', 86.0)\n",
    "('premier', 86.0)\n",
    "('spacecraft-class', 86.0)\n",
    "('motorway-services', 86.0)\n",
    "('office-holder', 86.0)\n",
    "('government-budget', 85.0)\n",
    "('comics-species', 85.0)\n",
    "('manhwa', 84.0)\n",
    "('national-futsal-team', 84.0)\n",
    "('rugby-league-cup', 84.0)\n",
    "('power-transmission-line', 84.0)\n",
    "('national-field-hockey-team', 83.0)\n",
    "('vice-president', 83.0)\n",
    "('ballet-company', 82.0)\n",
    "('fragrance', 82.0)\n",
    "('bus-accident', 82.0)\n",
    "('floorball-club', 82.0)\n",
    "('rugby-league-representative-team', 82.0)\n",
    "('rugby-league-international-tournament', 82.0)\n",
    "('sport-horse', 81.0)\n",
    "('forest', 81.0)\n",
    "('national-hockey-team', 80.0)\n",
    "('rocket-engine', 79.0)\n",
    "('automobile-platform', 79.0)\n",
    "('pigeonbreed', 79.0)\n",
    "('rugby-league-football-match', 79.0)\n",
    "('lymph', 79.0)\n",
    "('athletics-competition', 78.0)\n",
    "('basketball-league-season', 77.0)\n",
    "('product', 76.0)\n",
    "('attraction', 76.0)\n",
    "('comics-character-and-title', 76.0)\n",
    "('field-hockey-club', 75.0)\n",
    "('stage-production', 75.0)\n",
    "('computer-virus', 75.0)\n",
    "('ballet', 74.0)\n",
    "('food', 74.0)\n",
    "('poem', 74.0)\n",
    "('connector', 73.0)\n",
    "('academic', 73.0)\n",
    "('parliament', 73.0)\n",
    "('pipe-band', 72.0)\n",
    "('summit-meeting', 72.0)\n",
    "('chess-biography', 71.0)\n",
    "('monarchy', 71.0)\n",
    "('research-institute', 71.0)\n",
    "('snooker-tournament', 70.0)\n",
    "('academic-conference', 69.0)\n",
    "('athletics-club', 69.0)\n",
    "('landform', 69.0)\n",
    "('sports-club', 68.0)\n",
    "('tram', 68.0)\n",
    "('technology-festival', 68.0)\n",
    "('legislative-session', 67.0)\n",
    "('aircraft', 67.0)\n",
    "('townlands', 66.0)\n",
    "('reality-talent-competition', 66.0)\n",
    "('electric-vehicle', 66.0)\n",
    "('college-softball-team', 66.0)\n",
    "('motorcycle-club', 65.0)\n",
    "('rugby-league-team-season', 64.0)\n",
    "('themed-area', 63.0)\n",
    "('cycling-team-season', 63.0)\n",
    "('fictional-spacecraft', 63.0)\n",
    "('tea', 62.0)\n",
    "('comics-elements', 62.0)\n",
    "('classical-composer', 62.0)\n",
    "('song-contest-national-year', 62.0)\n",
    "('ski-jumping-hill', 62.0)\n",
    "('laboratory-equipment', 61.0)\n",
    "('concentration-camp', 61.0)\n",
    "('comics-team-and-title', 61.0)\n",
    "('beer', 61.0)\n",
    "('handball-league', 60.0)\n",
    "('nhsc', 59.0)\n",
    "('sculpture', 59.0)\n",
    "('globular-cluster', 59.0)\n",
    "('cluster', 58.0)\n",
    "('lunar-mare', 58.0)\n",
    "('comics-set-index', 58.0)\n",
    "('congressional-candidate', 57.0)\n",
    "('piercing', 57.0)\n",
    "('disputed-islands', 57.0)\n",
    "('filesystem', 57.0)\n",
    "('shinty-club', 56.0)\n",
    "('software-license', 56.0)\n",
    "('factory', 56.0)\n",
    "('superhero', 56.0)\n",
    "('oil-refinery', 55.0)\n",
    "('national-sports-federations', 54.0)\n",
    "('aqueduct-navigable', 54.0)\n",
    "('cycling-season', 54.0)\n",
    "('railway-depot', 53.0)\n",
    "('knot', 53.0)\n",
    "('accounting-body', 51.0)\n",
    "('space-telescope', 51.0)\n",
    "('online-music-service', 51.0)\n",
    "('boxing-match', 51.0)\n",
    "('sports-division', 51.0)\n",
    "('encyclical', 51.0)\n",
    "('sports-announcer', 51.0)\n",
    "('algorithm', 51.0)\n",
    "('hurling-championship', 49.0)\n",
    "('country-demographics', 49.0)\n",
    "('tennis-player-season', 49.0)\n",
    "('manuscript', 49.0)\n",
    "('pier', 49.0)\n",
    "('gotra', 49.0)\n",
    "('diamond', 48.0)\n",
    "('hurricane-impact', 48.0)\n",
    "('hut', 48.0)\n",
    "('college-lacrosse-championship', 48.0)\n",
    "('tornado-single', 48.0)\n",
    "('sports-conference', 48.0)\n",
    "('swimming-venue', 47.0)\n",
    "('college-lacrosse-team', 47.0)\n",
    "('goat-breed', 47.0)\n",
    "('future-infrastructure-project', 47.0)\n",
    "('professional-inline-hockey-team', 47.0)\n",
    "('ferry-route', 47.0)\n",
    "('religion', 47.0)\n",
    "('rugby-league', 47.0)\n",
    "('national-motorcycle-speedway-team', 46.0)\n",
    "('cricket-series-begin', 45.0)\n",
    "('unit', 45.0)\n",
    "('choir', 45.0)\n",
    "('postage-stamp', 45.0)\n",
    "('koryu', 45.0)\n",
    "('particle', 45.0)\n",
    "('interbank-network', 45.0)\n",
    "('cattle-breed', 44.0)\n",
    "('university-school', 44.0)\n",
    "('folk-tale', 44.0)\n",
    "('project', 44.0)\n",
    "('international-hockey-competition', 44.0)\n",
    "('space-agency', 44.0)\n",
    "('cloud', 44.0)\n",
    "('programming-block', 44.0)\n",
    "('national-water-polo-team', 44.0)\n",
    "('fictional-country', 43.0)\n",
    "('international-floorball-competition', 43.0)\n",
    "('cross-country-championships', 43.0)\n",
    "('speedway-league-season', 43.0)\n",
    "('operational-plan', 42.0)\n",
    "('fictional-race', 42.0)\n",
    "('swimming-meet', 42.0)\n",
    "('tram-route', 41.0)\n",
    "('island', 41.0)\n",
    "('isotope', 41.0)\n",
    "('rail-company', 41.0)\n",
    "('water-transit', 41.0)\n",
    "('interval', 41.0)\n",
    "('meteorite-subdivision', 40.0)\n",
    "('snooker-season', 40.0)\n",
    "('climbing-route', 40.0)\n",
    "('neuron', 40.0)\n",
    "('region-symbols', 40.0)\n",
    "('industrial-process', 39.0)\n",
    "('bus-route', 39.0)\n",
    "('ambulance-company', 39.0)\n",
    "('martial-art-school', 39.0)\n",
    "('bottled-water', 38.0)\n",
    "('command-structure', 38.0)\n",
    "('video-game-character', 37.0)\n",
    "('comics-in-other-media', 37.0)\n",
    "('superfund', 36.0)\n",
    "('fictional-planet', 35.0)\n",
    "('curling-club', 35.0)\n",
    "('holocaust-event', 35.0)\n",
    "('darts-tournament', 35.0)\n",
    "('housing-project', 35.0)\n",
    "('martial-art-group', 35.0)\n",
    "('model-rail-scale', 35.0)\n",
    "('fictional-artifact', 34.0)\n",
    "('martyrs', 34.0)\n",
    "('dance', 33.0)\n",
    "('college-volleyball-team', 33.0)\n",
    "('concert', 33.0)\n",
    "('sailing-yacht', 33.0)\n",
    "('swimming-pool', 33.0)\n",
    "('computer-hardware', 33.0)\n",
    "('sport-supporter-group', 31.0)\n",
    "('whisky-distillery', 31.0)\n",
    "('space-station', 31.0)\n",
    "('military-attack', 31.0)\n",
    "('swim-team', 31.0)\n",
    "('bibliographic-database', 30.0)\n",
    "('oil-spill', 30.0)\n",
    "('geopolitical-organisation', 30.0)\n",
    "('international-softball-tournament', 30.0)\n",
    "('national-roller-hockey-team', 30.0)\n",
    "('sea', 30.0)\n",
    "('hockey-league', 30.0)\n",
    "('custom-computer', 30.0)\n",
    "('wheelchair-tennis-player', 30.0)\n",
    "('royal-house', 30.0)\n",
    "('drums-corps', 29.0)\n",
    "('national-netball-team', 29.0)\n",
    "('clothing-item', 29.0)\n",
    "('limited-overs-final', 29.0)\n",
    "('school-athletics', 29.0)\n",
    "('manhua', 29.0)\n",
    "('civil-servant', 28.0)\n",
    "('urban-feature', 28.0)\n",
    "('drug-class', 28.0)\n",
    "('historian', 28.0)\n",
    "('aerial-lift-line', 28.0)\n",
    "('television-family', 27.0)\n",
    "('typeface', 27.0)\n",
    "('bus', 27.0)\n",
    "('tennis-circuit-season', 27.0)\n",
    "('short-track-speed-skater', 27.0)\n",
    "('football-association', 27.0)\n",
    "('athletics-event', 26.0)\n",
    "('defense-minister', 26.0)\n",
    "('tool', 26.0)\n",
    "('speaker', 26.0)\n",
    "('theatre-festival', 26.0)\n",
    "('computer-hardware-bus', 26.0)\n",
    "('sports-award', 26.0)\n",
    "('examination', 25.0)\n",
    "('festival', 25.0)\n",
    "('machinima', 25.0)\n",
    "('mountaineer', 25.0)\n",
    "('index', 25.0)\n",
    "('storm', 25.0)\n",
    "('water-ride', 25.0)\n",
    "('gaming-group', 25.0)\n",
    "('census', 25.0)\n",
    "('comics-nationality', 25.0)\n",
    "('military-test-site', 25.0)\n",
    "('netball-team', 24.0)\n",
    "('basketball-tournament-at-games', 24.0)\n",
    "('skyscraper', 24.0)\n",
    "('calculator', 24.0)\n",
    "('astronomical-survey', 24.0)\n",
    "('deputy-prime-minister', 24.0)\n",
    "('swimming-association', 24.0)\n",
    "('machine', 23.0)\n",
    "('electronic-component', 23.0)\n",
    "('dual-roller-coaster', 23.0)\n",
    "('livery-company', 23.0)\n",
    "('horse-breed', 23.0)\n",
    "('eruption', 23.0)\n",
    "('basketball-game', 23.0)\n",
    "('mtgset', 23.0)\n",
    "('field-hockey-league-season', 23.0)\n",
    "('olive-cultivar', 22.0)\n",
    "('rare-stamps', 22.0)\n",
    "('college-wrestling-team', 22.0)\n",
    "('photographic-film', 22.0)\n",
    "('technology-standard', 22.0)\n",
    "('archaeological-culture', 22.0)\n",
    "('circus', 22.0)\n",
    "('storage-medium', 21.0)\n",
    "('wuxia-fiction-character', 21.0)\n",
    "('certification-mark', 21.0)\n",
    "('cricketer-tour-biography', 21.0)\n",
    "('aqueduct', 21.0)\n",
    "('presidential-library', 21.0)\n",
    "('paranormal-term', 20.0)\n",
    "('advertising', 20.0)\n",
    "('terrestrial-impact-site', 20.0)\n",
    "('campground', 20.0)\n",
    "('yacht-club', 20.0)\n",
    "('data-structure', 20.0)\n",
    "('retail-market', 20.0)\n",
    "('comedy-group', 20.0)\n",
    "('biography', 19.0)\n",
    "('holiday-camp', 19.0)\n",
    "('electricity-sector', 19.0)\n",
    "('genome', 19.0)\n",
    "('cycling-championships', 18.0)\n",
    "('single-nucleotide-polymorphism', 18.0)\n",
    "('country-geography', 18.0)\n",
    "('watch', 18.0)\n",
    "('space-shuttle', 18.0)\n",
    "('fictional-organisation', 18.0)\n",
    "('pictish-stone', 18.0)\n",
    "('standardref', 18.0)\n",
    "('surf-club', 18.0)\n",
    "('pretender', 18.0)\n",
    "('photographic-lens', 17.0)\n",
    "('musician', 17.0)\n",
    "('castle', 17.0)\n",
    "('tribe', 17.0)\n",
    "('hillclimb-venue', 17.0)\n",
    "('mancala', 17.0)\n",
    "('historical-era', 17.0)\n",
    "('tennis-player-season-2', 17.0)\n",
    "('continent', 17.0)\n",
    "('synchronized-skating-team', 17.0)\n",
    "('basketball-club-season', 17.0)\n",
    "('polygon', 17.0)\n",
    "('comics-set-and-title', 16.0)\n",
    "('rugby-league-team', 16.0)\n",
    "('distributed-computing-project', 16.0)\n",
    "('fictional-vehicle', 16.0)\n",
    "('computer-hardware-generic', 16.0)\n",
    "('legislative-district', 16.0)\n",
    "('whitewater-course', 16.0)\n",
    "('high-school', 15.0)\n",
    "('shipping-job', 15.0)\n",
    "('robot', 15.0)\n",
    "('boat-race', 15.0)\n",
    "('property-development', 15.0)\n",
    "('spree-killer', 15.0)\n",
    "('yoga-school', 15.0)\n",
    "('journalist', 15.0)\n",
    "('chipset', 15.0)\n",
    "('tornado', 14.0)\n",
    "('tennis-match', 14.0)\n",
    "('networking-protocol', 14.0)\n",
    "('artificial-fly', 14.0)\n",
    "('novel', 14.0)\n",
    "('spring', 14.0)\n",
    "('multichoice-referendum', 14.0)\n",
    "('zone', 14.0)\n",
    "('county', 13.0)\n",
    "('vacuum-tube', 13.0)\n",
    "('baseball-game', 13.0)\n",
    "('reactor', 13.0)\n",
    "('tennis-player', 13.0)\n",
    "('college-football-bowl-game', 13.0)\n",
    "('football-club-season2', 13.0)\n",
    "('film-movement', 12.0)\n",
    "('pope', 12.0)\n",
    "('historic-area', 12.0)\n",
    "('sports-centre', 12.0)\n",
    "('province', 12.0)\n",
    "('soap-opera-family', 12.0)\n",
    "('meteor-shower', 12.0)\n",
    "('actress', 12.0)\n",
    "('gunpowder-plot', 12.0)\n",
    "('college-swim-team', 12.0)\n",
    "('zodiac', 12.0)\n",
    "('cable', 11.0)\n",
    "('martial-arts-tournament', 11.0)\n",
    "('college-tennis-team', 11.0)\n",
    "('alternative-medicine', 11.0)\n",
    "('professional-bowler', 11.0)\n",
    "('softball-team', 11.0)\n",
    "('climbing-area', 11.0)\n",
    "('pandemic', 11.0)\n",
    "('first-minister', 11.0)\n",
    "('college-track-and-field-team', 11.0)\n",
    "('fictional-creature', 11.0)\n",
    "('supernova', 11.0)\n",
    "('statue', 11.0)\n",
    "('pelotari', 11.0)\n",
    "('intangible-heritage', 11.0)\n",
    "('basketball-official', 11.0)\n",
    "('bus-station', 10.0)\n",
    "('college-field-hockey-team', 10.0)\n",
    "('field-hockey-league', 10.0)\n",
    "('movie-quote', 10.0)\n",
    "('desalination-plant', 10.0)\n",
    "('bridge-type', 10.0)\n",
    "('business-park', 10.0)\n",
    "('speedway-grand-prix-event', 10.0)\n",
    "('hymnal', 10.0)\n",
    "('cricketer-biography', 10.0)\n",
    "('colour', 10.0)\n",
    "('highway-system', 10.0)\n",
    "('famine', 10.0)\n",
    "('clothing-type', 10.0)\n",
    "('college-golf-team', 10.0)\n",
    "('pseudoscience', 10.0)\n",
    "('expansion-draft', 10.0)\n",
    "('pulps-character', 10.0)\n",
    "('martial-art-form', 9.0)\n",
    "('mascot', 9.0)\n",
    "('school-marching-band', 9.0)\n",
    "('animal-breed', 9.0)\n",
    "('airline-alliance', 9.0)\n",
    "('dog-crossbreed', 9.0)\n",
    "('performing-art', 9.0)\n",
    "('college-gymnastics-team', 9.0)\n",
    "('animated-superhero', 9.0)\n",
    "('docks', 9.0)\n",
    "('tram-depot', 9.0)\n",
    "('space-station-module', 9.0)\n",
    "('computing-standard', 9.0)\n",
    "('video-game-online-service', 9.0)\n",
    "('motor-racing-team', 8.0)\n",
    "('sailing-competition', 8.0)\n",
    "('integer-sequence', 8.0)\n",
    "('band', 8.0)\n",
    "('director', 8.0)\n",
    "('nrl-club', 8.0)\n",
    "('bay', 8.0)\n",
    "('bullfighting-career', 8.0)\n",
    "('village', 8.0)\n",
    "('water-buffalo-breed', 8.0)\n",
    "('protocol', 8.0)\n",
    "('diving-equipment', 8.0)\n",
    "('furniture', 8.0)\n",
    "('college-cross-country-team', 8.0)\n",
    "('sport-overview', 8.0)\n",
    "('cycling-hill-climb', 8.0)\n",
    "('beer-style', 8.0)\n",
    "('fictional-business', 7.0)\n",
    "('botanical-product', 7.0)\n",
    "('heraldic-knot', 7.0)\n",
    "('mining', 7.0)\n",
    "('tree', 7.0)\n",
    "('donkey', 7.0)\n",
    "('night-vision-device', 7.0)\n",
    "('television-advert', 7.0)\n",
    "('deputy-first-minister', 7.0)\n",
    "('serial-publication', 7.0)\n",
    "('league-commissioner', 7.0)\n",
    "('television-show', 7.0)\n",
    "('railway-line', 7.0)\n",
    "('literary-genre', 7.0)\n",
    "('tv', 6.0)\n",
    "('lens-design', 6.0)\n",
    "('waterway', 6.0)\n",
    "('movie-camera', 6.0)\n",
    "('runestone', 6.0)\n",
    "('recurring-sailing-competition', 6.0)\n",
    "('private-school', 6.0)\n",
    "('executive-government', 6.0)\n",
    "('singer', 6.0)\n",
    "('rugby-match', 6.0)\n",
    "('motorsport-round', 6.0)\n",
    "('rail-franchise', 6.0)\n",
    "('combat-robot', 6.0)\n",
    "('telecommunications-network', 6.0)\n",
    "('wifi-network', 6.0)\n",
    "('rink-hockey-club', 5.0)\n",
    "('movie', 5.0)\n",
    "('software2', 5.0)\n",
    "('sports-draft', 5.0)\n",
    "('town', 5.0)\n",
    "('cardinal', 5.0)\n",
    "('military-aviation-unit', 5.0)\n",
    "('mobile-suit', 5.0)\n",
    "('gem', 5.0)\n",
    "('financial-index', 5.0)\n",
    "('bowl-series', 5.0)\n",
    "('region', 5.0)\n",
    "('national-football-team-season', 5.0)\n",
    "('fictional-element', 5.0)\n",
    "('photographer', 5.0)\n",
    "('theater', 5.0)\n",
    "('fieldbus-protocol', 5.0)\n",
    "('spacecraft-instrument', 5.0)\n",
    "('attraction-model', 5.0)\n",
    "('wargame', 5.0)\n",
    "('art-movement', 4.0)\n",
    "('sport-centre', 4.0)\n",
    "('hotspot-custom', 4.0)\n",
    "('official-football-team', 4.0)\n",
    "('phone', 4.0)\n",
    "('room', 4.0)\n",
    "('cricket-club', 4.0)\n",
    "('field-hockey', 4.0)\n",
    "('equestrian-championships', 4.0)\n",
    "('dance-company', 4.0)\n",
    "('comics-artificial-species', 4.0)\n",
    "('engineering-career', 4.0)\n",
    "('identifier', 4.0)\n",
    "('snowboarder', 4.0)\n",
    "('halftime-show', 4.0)\n",
    "('peninsulas', 4.0)\n",
    "('crown', 4.0)\n",
    "('doll', 4.0)\n",
    "('sports-series', 4.0)\n",
    "('peninsula', 4.0)\n",
    "('garden', 3.0)\n",
    "('comics-object-and-title', 3.0)\n",
    "('mobile-network', 3.0)\n",
    "('author', 3.0)\n",
    "('hostel', 3.0)\n",
    "('terrorist-organization', 3.0)\n",
    "('place', 3.0)\n",
    "('character-encoding', 3.0)\n",
    "('presidential-government', 3.0)\n",
    "('college-rowing-team', 3.0)\n",
    "('flash-series', 3.0)\n",
    "('magnetosphere', 3.0)\n",
    "('rugby-tour', 3.0)\n",
    "('feature-on-celestial-object', 3.0)\n",
    "('rebreather', 3.0)\n",
    "('fictional-ship', 3.0)\n",
    "('college-track-and-field', 3.0)\n",
    "('location', 3.0)\n",
    "('file-system', 3.0)\n",
    "('comics-species-and-title', 3.0)\n",
    "('military-operation', 3.0)\n",
    "('country-deforestation', 2.0)\n",
    "('year-in-country', 2.0)\n",
    "('videogame', 2.0)\n",
    "('tropical-cyclone', 2.0)\n",
    "('composer', 2.0)\n",
    "('dark-ride', 2.0)\n",
    "('goat', 2.0)\n",
    "('square', 2.0)\n",
    "('books', 2.0)\n",
    "('historical-continent', 2.0)\n",
    "('solar-eclipse', 2.0)\n",
    "('crater-data', 2.0)\n",
    "('television-series', 2.0)\n",
    "('drug-mechanism', 2.0)\n",
    "('miniseries', 2.0)\n",
    "('sports-in-region', 2.0)\n",
    "('knot-details', 2.0)\n",
    "('performer', 2.0)\n",
    "('film-director', 2.0)\n",
    "('football-biography-2', 2.0)\n",
    "('conference', 2.0)\n",
    "('controversial-invention', 2.0)\n",
    "('football-player', 2.0)\n",
    "('footballer', 2.0)\n",
    "('political-coalition', 2.0)\n",
    "('water-supply-and-sanitation', 2.0)\n",
    "('body-process', 2.0)\n",
    "('stausee', 2.0)\n",
    "('urban-development-project', 2.0)\n",
    "('aus-sport-club', 2.0)\n",
    "('residency-show', 1.0)\n",
    "('college-inline-hockey-team', 1.0)\n",
    "('military', 1.0)\n",
    "('planetary-system', 1.0)\n",
    "('missile', 1.0)\n",
    "('cometary-globule', 1.0)\n",
    "('caliph', 1.0)\n",
    "('horse-color', 1.0)\n",
    "('archaeological-site', 1.0)\n",
    "('open-cluster', 1.0)\n",
    "('badminton-team', 1.0)\n",
    "('television-station', 1.0)\n",
    "('space-mission', 1.0)\n",
    "('township', 1.0)\n",
    "('particular-church', 1.0)\n",
    "('cartoon-character', 1.0)\n",
    "('area', 1.0)\n",
    "('cricket-biography', 1.0)\n",
    "('mtgblockset', 1.0)\n",
    "('municipality', 1.0)\n",
    "('periodical', 1.0)\n",
    "('publication', 1.0)\n",
    "('doge', 1.0)\n",
    "('cartoon', 1.0)\n",
    "('sports-announcer-details', 1.0)\n",
    "('paranormal-creature', 1.0)\n",
    "('cricket-player', 1.0)\n",
    "('computer-peripheral', 1.0)\n",
    "('automobile-generation', 1.0)\n",
    "('film-actor', 1.0)\n",
    "('graphics-processing-unit', 1.0)\n",
    "('reservoir', 1.0)\n",
    "('tabletennis-player', 1.0)\n",
    "('radio-show2', 1.0)\n",
    "('internet-video', 1.0)\n",
    "('ice-hockey-team-season', 1.0)\n",
    "('country-languages', 1.0)\n",
    "('railway', 1.0)\n",
    "('journal-series', 1.0)\n",
    "('minister-office', 1.0)\n",
    "('poet', 1.0)\n",
    "('independent-baseball-team', 1.0)\n",
    "('church2', 1.0)\n",
    "('physician', 1.0)\n",
    "('pyramid', 1.0)\n",
    "('gunpowder-plotter', 1.0)\n",
    "('actor-voice', 1.0)\n",
    "('genetically-modified-organism', 1.0)\n",
    "('victim', 1.0)\n",
    "('people', 1.0)\n",
    "('firearm', 1.0)\n",
    "('college-ski-team', 1.0)\n",
    "('faunal-age', 1.0)\n",
    "('primeval-creature', 1.0)\n",
    "('visual-artist', 1.0)\n",
    "('cinema', 1.0)\n",
    "('military-post', 1.0)\n",
    "('subdivision', 1.0)\n",
    "```"
   ]
  },
  {
   "cell_type": "markdown",
   "metadata": {},
   "source": [
    "# Sample Subgraphs"
   ]
  },
  {
   "cell_type": "markdown",
   "metadata": {},
   "source": [
    "Import libraries and cleaned up graph as `G`, show the distribution of subgraphs."
   ]
  },
  {
   "cell_type": "code",
   "execution_count": 1,
   "metadata": {
    "collapsed": false
   },
   "outputs": [],
   "source": [
    "from wikimap import data, stats, graph"
   ]
  },
  {
   "cell_type": "code",
   "execution_count": 2,
   "metadata": {
    "collapsed": false
   },
   "outputs": [],
   "source": [
    "import networkx as nx"
   ]
  },
  {
   "cell_type": "code",
   "execution_count": 3,
   "metadata": {
    "collapsed": false
   },
   "outputs": [],
   "source": [
    "import matplotlib.pyplot as plt"
   ]
  },
  {
   "cell_type": "code",
   "execution_count": 4,
   "metadata": {
    "collapsed": false
   },
   "outputs": [],
   "source": [
    "G = data.read_graph(\"./wikimap/data-folder/wikimap-live.gpickle\")"
   ]
  },
  {
   "cell_type": "code",
   "execution_count": 5,
   "metadata": {
    "collapsed": false
   },
   "outputs": [
    {
     "name": "stdout",
     "output_type": "stream",
     "text": [
      "1 nodes: 1943 (37.32%) groups\n",
      "2 nodes: 2579 (49.54%) groups\n",
      "3 nodes: 376 (7.22%) groups\n",
      "4 nodes: 151 (2.9%) groups\n",
      "5 nodes: 56 (1.08%) groups\n",
      "6 nodes: 26 (0.5%) groups\n",
      "7 nodes: 16 (0.31%) groups\n",
      "8 nodes: 14 (0.27%) groups\n",
      "9 nodes: 12 (0.23%) groups\n",
      "10 nodes: 8 (0.15%) groups\n",
      "11 nodes: 1 (0.02%) groups\n",
      "12 nodes: 2 (0.04%) groups\n",
      "13 nodes: 5 (0.1%) groups\n",
      "14 nodes: 2 (0.04%) groups\n",
      "15 nodes: 1 (0.02%) groups\n",
      "17 nodes: 2 (0.04%) groups\n",
      "22 nodes: 1 (0.02%) groups\n",
      "23 nodes: 1 (0.02%) groups\n",
      "24 nodes: 1 (0.02%) groups\n",
      "25 nodes: 2 (0.04%) groups\n",
      "27 nodes: 1 (0.02%) groups\n",
      "28 nodes: 1 (0.02%) groups\n",
      "33 nodes: 1 (0.02%) groups\n",
      "66 nodes: 1 (0.02%) groups\n",
      "107 nodes: 1 (0.02%) groups\n",
      "158 nodes: 1 (0.02%) groups\n",
      "1002 nodes: 1 (0.02%) groups\n",
      "-----------------------------------------\n",
      "TOTAL: 11398 nodes in network, 5206 distinct groups\n"
     ]
    }
   ],
   "source": [
    "G.connected_component_statistics(printStats=True)"
   ]
  },
  {
   "cell_type": "markdown",
   "metadata": {},
   "source": [
    "One node groups are basically useless to us, so let's take a look first at a few two node groups."
   ]
  },
  {
   "cell_type": "markdown",
   "metadata": {},
   "source": [
    "## Note on Graphing"
   ]
  },
  {
   "cell_type": "markdown",
   "metadata": {},
   "source": [
    "Since `matplotlib` is such a large dependency, but only necessary for graphing networks, it is not included by default. To graph networks, including those in this notebook, simply install `matplotlib`:\n",
    "```Bash \n",
    "$ pip install matplotlib \n",
    "```"
   ]
  },
  {
   "cell_type": "markdown",
   "metadata": {},
   "source": [
    "## Two node groups"
   ]
  },
  {
   "cell_type": "code",
   "execution_count": 6,
   "metadata": {
    "collapsed": false
   },
   "outputs": [],
   "source": [
    "two_node_subgraphs = G.connected_components_with_size(2)"
   ]
  },
  {
   "cell_type": "markdown",
   "metadata": {},
   "source": [
    "These graphs have a simple structure: just two nodes connected by an edge. Unfortunately, directionality is lost in the above command, but that is okay for our purposes. Let's just see what nodes there are in a few groups."
   ]
  },
  {
   "cell_type": "code",
   "execution_count": 7,
   "metadata": {
    "collapsed": false
   },
   "outputs": [
    {
     "data": {
      "text/plain": [
       "['wusopen', \"us women's open\"]"
      ]
     },
     "execution_count": 7,
     "metadata": {},
     "output_type": "execute_result"
    }
   ],
   "source": [
    "two_node_subgraphs[0].nodes()"
   ]
  },
  {
   "cell_type": "code",
   "execution_count": 8,
   "metadata": {
    "collapsed": false
   },
   "outputs": [
    {
     "data": {
      "text/plain": [
       "['cartridge weight', 'shell weight']"
      ]
     },
     "execution_count": 8,
     "metadata": {},
     "output_type": "execute_result"
    }
   ],
   "source": [
    "two_node_subgraphs[1].nodes()"
   ]
  },
  {
   "cell_type": "markdown",
   "metadata": {},
   "source": [
    "Hm... let's see what is the rendering state for these nodes."
   ]
  },
  {
   "cell_type": "code",
   "execution_count": 9,
   "metadata": {
    "collapsed": false
   },
   "outputs": [
    {
     "data": {
      "text/plain": [
       "'unrend'"
      ]
     },
     "execution_count": 9,
     "metadata": {},
     "output_type": "execute_result"
    }
   ],
   "source": [
    "G.rendering_of_graph_node('wusopen')"
   ]
  },
  {
   "cell_type": "code",
   "execution_count": 10,
   "metadata": {
    "collapsed": false
   },
   "outputs": [
    {
     "data": {
      "text/plain": [
       "'rend'"
      ]
     },
     "execution_count": 10,
     "metadata": {},
     "output_type": "execute_result"
    }
   ],
   "source": [
    "G.rendering_of_graph_node(\"us women's open\")"
   ]
  },
  {
   "cell_type": "code",
   "execution_count": 11,
   "metadata": {
    "collapsed": false
   },
   "outputs": [
    {
     "data": {
      "text/plain": [
       "['golfer']"
      ]
     },
     "execution_count": 11,
     "metadata": {},
     "output_type": "execute_result"
    }
   ],
   "source": [
    "G.infoboxes_of_pair('wusopen', \"us women's open\")"
   ]
  },
  {
   "cell_type": "code",
   "execution_count": 12,
   "metadata": {
    "collapsed": false
   },
   "outputs": [
    {
     "data": {
      "text/plain": [
       "'unrend'"
      ]
     },
     "execution_count": 12,
     "metadata": {},
     "output_type": "execute_result"
    }
   ],
   "source": [
    "G.rendering_of_graph_node('cartridge weight')"
   ]
  },
  {
   "cell_type": "code",
   "execution_count": 13,
   "metadata": {
    "collapsed": false
   },
   "outputs": [
    {
     "data": {
      "text/plain": [
       "'rend'"
      ]
     },
     "execution_count": 13,
     "metadata": {},
     "output_type": "execute_result"
    }
   ],
   "source": [
    "G.rendering_of_graph_node('shell weight')"
   ]
  },
  {
   "cell_type": "code",
   "execution_count": 14,
   "metadata": {
    "collapsed": false
   },
   "outputs": [
    {
     "data": {
      "text/plain": [
       "['firearm', 'weapon']"
      ]
     },
     "execution_count": 14,
     "metadata": {},
     "output_type": "execute_result"
    }
   ],
   "source": [
    "G.infoboxes_of_pair('cartridge weight', \"shell weight\")"
   ]
  },
  {
   "cell_type": "markdown",
   "metadata": {},
   "source": [
    "Looks like two node subgraphs are just simple unrend ==> rend mappings. Some are valuable such as the above \"cartridge weight\" and \"shell weight\"."
   ]
  },
  {
   "cell_type": "markdown",
   "metadata": {},
   "source": [
    "## Three node subgraphs"
   ]
  },
  {
   "cell_type": "code",
   "execution_count": 15,
   "metadata": {
    "collapsed": false
   },
   "outputs": [],
   "source": [
    "three_node_subgraphs = G.connected_components_with_size(3)"
   ]
  },
  {
   "cell_type": "code",
   "execution_count": 16,
   "metadata": {
    "collapsed": false
   },
   "outputs": [
    {
     "data": {
      "text/plain": [
       "['town or city', 'town', 'location town']"
      ]
     },
     "execution_count": 16,
     "metadata": {},
     "output_type": "execute_result"
    }
   ],
   "source": [
    "three_node_subgraphs[0].nodes()"
   ]
  },
  {
   "cell_type": "code",
   "execution_count": 20,
   "metadata": {
    "collapsed": false
   },
   "outputs": [
    {
     "data": {
      "image/png": "[encoded data removed]",
      "text/plain": [
       "<matplotlib.figure.Figure at 0x1165d8cd0>"
      ]
     },
     "metadata": {},
     "output_type": "display_data"
    }
   ],
   "source": [
    "nx.draw(three_node_subgraphs[0], with_labels=True)"
   ]
  },
  {
   "cell_type": "markdown",
   "metadata": {},
   "source": [
    "So \"metering\" is the hub between \"exposure metering\" and \"share of household metering\". BTW, edges are bi-directional directionality is eliminated when selecting a subgraph."
   ]
  },
  {
   "cell_type": "code",
   "execution_count": 21,
   "metadata": {
    "collapsed": false
   },
   "outputs": [
    {
     "data": {
      "text/plain": [
       "['towers', 'weak struct towers', 'robust struct towers']"
      ]
     },
     "execution_count": 21,
     "metadata": {},
     "output_type": "execute_result"
    }
   ],
   "source": [
    "three_node_subgraphs[1].nodes()"
   ]
  },
  {
   "cell_type": "code",
   "execution_count": 22,
   "metadata": {
    "collapsed": false
   },
   "outputs": [
    {
     "data": {
      "text/plain": [
       "['num users', 'users', 'active users']"
      ]
     },
     "execution_count": 22,
     "metadata": {},
     "output_type": "execute_result"
    }
   ],
   "source": [
    "three_node_subgraphs[2].nodes()"
   ]
  },
  {
   "cell_type": "code",
   "execution_count": 23,
   "metadata": {
    "collapsed": false
   },
   "outputs": [
    {
     "data": {
      "image/png": "[encoded data removed]",
      "text/plain": [
       "<matplotlib.figure.Figure at 0x11666a350>"
      ]
     },
     "metadata": {},
     "output_type": "display_data"
    }
   ],
   "source": [
    "nx.draw(three_node_subgraphs[2], with_labels=True)"
   ]
  },
  {
   "cell_type": "code",
   "execution_count": 24,
   "metadata": {
    "collapsed": false
   },
   "outputs": [
    {
     "data": {
      "text/plain": [
       "['faunal-age']"
      ]
     },
     "execution_count": 24,
     "metadata": {},
     "output_type": "execute_result"
    }
   ],
   "source": [
    "G.infoboxes_of_pair(\"type fauna\", \"principal\")"
   ]
  },
  {
   "cell_type": "code",
   "execution_count": 25,
   "metadata": {
    "collapsed": false
   },
   "outputs": [
    {
     "data": {
      "text/plain": [
       "['motor-racing-team']"
      ]
     },
     "execution_count": 25,
     "metadata": {},
     "output_type": "execute_result"
    }
   ],
   "source": [
    "G.infoboxes_of_pair(\"principal\", \"team principal\")"
   ]
  },
  {
   "cell_type": "code",
   "execution_count": 26,
   "metadata": {
    "collapsed": false
   },
   "outputs": [
    {
     "data": {
      "text/plain": [
       "['name origin', 'origin of name', 'etymology']"
      ]
     },
     "execution_count": 26,
     "metadata": {},
     "output_type": "execute_result"
    }
   ],
   "source": [
    "three_node_subgraphs[3].nodes()"
   ]
  },
  {
   "cell_type": "code",
   "execution_count": 27,
   "metadata": {
    "collapsed": false
   },
   "outputs": [
    {
     "data": {
      "image/png": "[encoded data removed]",
      "text/plain": [
       "<matplotlib.figure.Figure at 0x1167a41d0>"
      ]
     },
     "metadata": {},
     "output_type": "display_data"
    }
   ],
   "source": [
    "nx.draw(three_node_subgraphs[3], with_labels=True)"
   ]
  },
  {
   "cell_type": "code",
   "execution_count": 28,
   "metadata": {
    "collapsed": false
   },
   "outputs": [
    {
     "data": {
      "text/plain": [
       "['badminton-event']"
      ]
     },
     "execution_count": 28,
     "metadata": {},
     "output_type": "execute_result"
    }
   ],
   "source": [
    "G.infoboxes_of_pair(\"ms\", \"men's singles\")"
   ]
  },
  {
   "cell_type": "code",
   "execution_count": 29,
   "metadata": {
    "collapsed": false
   },
   "outputs": [
    {
     "data": {
      "text/plain": [
       "['badminton-event']"
      ]
     },
     "execution_count": 29,
     "metadata": {},
     "output_type": "execute_result"
    }
   ],
   "source": [
    "G.infoboxes_of_pair(\"country ms\", \"men's singles\")"
   ]
  },
  {
   "cell_type": "code",
   "execution_count": 30,
   "metadata": {
    "collapsed": false
   },
   "outputs": [
    {
     "data": {
      "text/plain": [
       "'unrend'"
      ]
     },
     "execution_count": 30,
     "metadata": {},
     "output_type": "execute_result"
    }
   ],
   "source": [
    "G.rendering_of_graph_node(\"country ms\")"
   ]
  },
  {
   "cell_type": "code",
   "execution_count": 31,
   "metadata": {
    "collapsed": false
   },
   "outputs": [
    {
     "data": {
      "text/plain": [
       "'rend'"
      ]
     },
     "execution_count": 31,
     "metadata": {},
     "output_type": "execute_result"
    }
   ],
   "source": [
    "G.rendering_of_graph_node(\"men's singles\")"
   ]
  },
  {
   "cell_type": "code",
   "execution_count": 32,
   "metadata": {
    "collapsed": false
   },
   "outputs": [
    {
     "data": {
      "text/plain": [
       "'unrend'"
      ]
     },
     "execution_count": 32,
     "metadata": {},
     "output_type": "execute_result"
    }
   ],
   "source": [
    "G.rendering_of_graph_node(\"ms\")"
   ]
  },
  {
   "cell_type": "code",
   "execution_count": 33,
   "metadata": {
    "collapsed": false
   },
   "outputs": [
    {
     "data": {
      "text/plain": [
       "['text', 'web la', 'web en']"
      ]
     },
     "execution_count": 33,
     "metadata": {},
     "output_type": "execute_result"
    }
   ],
   "source": [
    "three_node_subgraphs[4].nodes()"
   ]
  },
  {
   "cell_type": "code",
   "execution_count": 34,
   "metadata": {
    "collapsed": false
   },
   "outputs": [
    {
     "data": {
      "text/plain": [
       "['potassium mg', 'k', 'potassium']"
      ]
     },
     "execution_count": 34,
     "metadata": {},
     "output_type": "execute_result"
    }
   ],
   "source": [
    "three_node_subgraphs[5].nodes()"
   ]
  },
  {
   "cell_type": "code",
   "execution_count": 35,
   "metadata": {
    "collapsed": false
   },
   "outputs": [
    {
     "data": {
      "text/plain": [
       "['msrp-currency', 'msrp-date', 'msrp']"
      ]
     },
     "execution_count": 35,
     "metadata": {},
     "output_type": "execute_result"
    }
   ],
   "source": [
    "three_node_subgraphs[6].nodes()"
   ]
  },
  {
   "cell_type": "code",
   "execution_count": 36,
   "metadata": {
    "collapsed": false
   },
   "outputs": [
    {
     "data": {
      "text/plain": [
       "['provideragency', 'services provided by', 'provider agency']"
      ]
     },
     "execution_count": 36,
     "metadata": {},
     "output_type": "execute_result"
    }
   ],
   "source": [
    "three_node_subgraphs[7].nodes()"
   ]
  },
  {
   "cell_type": "code",
   "execution_count": 37,
   "metadata": {
    "collapsed": false
   },
   "outputs": [
    {
     "data": {
      "image/png": "[encoded data removed]",
      "text/plain": [
       "<matplotlib.figure.Figure at 0x1164cd150>"
      ]
     },
     "metadata": {},
     "output_type": "display_data"
    }
   ],
   "source": [
    "nx.draw(three_node_subgraphs[7], with_labels=True)"
   ]
  },
  {
   "cell_type": "code",
   "execution_count": 40,
   "metadata": {
    "collapsed": false
   },
   "outputs": [
    {
     "data": {
      "text/plain": [
       "['yearenddoublesranking', 'yearendsinglesranking', 'year-end ranking']"
      ]
     },
     "execution_count": 40,
     "metadata": {},
     "output_type": "execute_result"
    }
   ],
   "source": [
    "three_node_subgraphs[8].nodes()"
   ]
  },
  {
   "cell_type": "code",
   "execution_count": 41,
   "metadata": {
    "collapsed": false
   },
   "outputs": [
    {
     "data": {
      "text/plain": [
       "['office name', 'officename', '!!!!!officetype!!!!!!!!!!office_type!!!!!s']"
      ]
     },
     "execution_count": 41,
     "metadata": {},
     "output_type": "execute_result"
    }
   ],
   "source": [
    "three_node_subgraphs[9].nodes()"
   ]
  },
  {
   "cell_type": "code",
   "execution_count": 42,
   "metadata": {
    "collapsed": false
   },
   "outputs": [
    {
     "data": {
      "text/plain": [
       "['wimbledondoublesjuniorresult', 'wimbledonjuniorresult', 'wimbledon junior']"
      ]
     },
     "execution_count": 42,
     "metadata": {},
     "output_type": "execute_result"
    }
   ],
   "source": [
    "three_node_subgraphs[10].nodes()"
   ]
  },
  {
   "cell_type": "code",
   "execution_count": 43,
   "metadata": {
    "collapsed": false
   },
   "outputs": [
    {
     "data": {
      "image/png": "[encoded data removed]",
      "text/plain": [
       "<matplotlib.figure.Figure at 0x11641fad0>"
      ]
     },
     "metadata": {},
     "output_type": "display_data"
    }
   ],
   "source": [
    "nx.draw(three_node_subgraphs[10], with_labels=True)"
   ]
  },
  {
   "cell_type": "code",
   "execution_count": 44,
   "metadata": {
    "collapsed": false
   },
   "outputs": [
    {
     "data": {
      "text/plain": [
       "['orbits per day', 'orbits daily', 'orbits day']"
      ]
     },
     "execution_count": 44,
     "metadata": {},
     "output_type": "execute_result"
    }
   ],
   "source": [
    "three_node_subgraphs[11].nodes()"
   ]
  },
  {
   "cell_type": "code",
   "execution_count": 45,
   "metadata": {
    "collapsed": false
   },
   "outputs": [
    {
     "data": {
      "image/png": "[encoded data removed]",
      "text/plain": [
       "<matplotlib.figure.Figure at 0x116ef0b90>"
      ]
     },
     "metadata": {},
     "output_type": "display_data"
    }
   ],
   "source": [
    "nx.draw(three_node_subgraphs[11], with_labels=True)"
   ]
  },
  {
   "cell_type": "code",
   "execution_count": 46,
   "metadata": {
    "collapsed": false
   },
   "outputs": [
    {
     "data": {
      "text/plain": [
       "'unrend'"
      ]
     },
     "execution_count": 46,
     "metadata": {},
     "output_type": "execute_result"
    }
   ],
   "source": [
    "G.rendering_of_graph_node(\"provideragency\")"
   ]
  },
  {
   "cell_type": "code",
   "execution_count": 47,
   "metadata": {
    "collapsed": false
   },
   "outputs": [
    {
     "data": {
      "text/plain": [
       "'rend'"
      ]
     },
     "execution_count": 47,
     "metadata": {},
     "output_type": "execute_result"
    }
   ],
   "source": [
    "G.rendering_of_graph_node(\"services provided by\")"
   ]
  },
  {
   "cell_type": "code",
   "execution_count": 48,
   "metadata": {
    "collapsed": false
   },
   "outputs": [
    {
     "data": {
      "text/plain": [
       "'unrend'"
      ]
     },
     "execution_count": 48,
     "metadata": {},
     "output_type": "execute_result"
    }
   ],
   "source": [
    "G.rendering_of_graph_node(\"provider agency\")"
   ]
  },
  {
   "cell_type": "markdown",
   "metadata": {},
   "source": [
    "So \"services provided by\" is the hub between \"provideragency\" and \"provider agency\". Interesting that \"provider agency\" is unrend -- looks like I actually did a good job of cleaning up nodes!"
   ]
  },
  {
   "cell_type": "markdown",
   "metadata": {},
   "source": [
    "## Four node subgraphs"
   ]
  },
  {
   "cell_type": "code",
   "execution_count": 49,
   "metadata": {
    "collapsed": false
   },
   "outputs": [],
   "source": [
    "four_node_subgraphs = G.connected_components_with_size(4)"
   ]
  },
  {
   "cell_type": "code",
   "execution_count": 50,
   "metadata": {
    "collapsed": false
   },
   "outputs": [
    {
     "data": {
      "text/plain": [
       "['team principal', 'type fauna', '!!!!!principal_label!!!!!', 'principal']"
      ]
     },
     "execution_count": 50,
     "metadata": {},
     "output_type": "execute_result"
    }
   ],
   "source": [
    "four_node_subgraphs[0].nodes()"
   ]
  },
  {
   "cell_type": "code",
   "execution_count": 51,
   "metadata": {
    "collapsed": false
   },
   "outputs": [
    {
     "data": {
      "text/plain": [
       "['known', 'known for', 'signature wine', 'knownfor']"
      ]
     },
     "execution_count": 51,
     "metadata": {},
     "output_type": "execute_result"
    }
   ],
   "source": [
    "four_node_subgraphs[1].nodes()"
   ]
  },
  {
   "cell_type": "code",
   "execution_count": 52,
   "metadata": {
    "collapsed": false
   },
   "outputs": [
    {
     "data": {
      "image/png": "[encoded data removed]",
      "text/plain": [
       "<matplotlib.figure.Figure at 0x116aa65d0>"
      ]
     },
     "metadata": {},
     "output_type": "display_data"
    }
   ],
   "source": [
    "nx.draw(four_node_subgraphs[1], with_labels=True)"
   ]
  },
  {
   "cell_type": "code",
   "execution_count": 53,
   "metadata": {
    "collapsed": false
   },
   "outputs": [
    {
     "data": {
      "text/plain": [
       "['comic yr', 'comic pub', 'comic yrend', '!!!!!comic!!!!!']"
      ]
     },
     "execution_count": 53,
     "metadata": {},
     "output_type": "execute_result"
    }
   ],
   "source": [
    "four_node_subgraphs[2].nodes()"
   ]
  },
  {
   "cell_type": "code",
   "execution_count": 54,
   "metadata": {
    "collapsed": false
   },
   "outputs": [
    {
     "data": {
      "text/plain": [
       "['preview', 'preview date', 'preview version release date', 'preview version']"
      ]
     },
     "execution_count": 54,
     "metadata": {},
     "output_type": "execute_result"
    }
   ],
   "source": [
    "four_node_subgraphs[3].nodes()"
   ]
  },
  {
   "cell_type": "code",
   "execution_count": 55,
   "metadata": {
    "collapsed": false
   },
   "outputs": [
    {
     "data": {
      "text/plain": [
       "['thesis year', 'thesis url', 'thesis title', 'thesis']"
      ]
     },
     "execution_count": 55,
     "metadata": {},
     "output_type": "execute_result"
    }
   ],
   "source": [
    "four_node_subgraphs[4].nodes()"
   ]
  },
  {
   "cell_type": "code",
   "execution_count": 56,
   "metadata": {
    "collapsed": false
   },
   "outputs": [
    {
     "data": {
      "text/plain": [
       "['number of issues', 'origissues', 'issues', 'controversy']"
      ]
     },
     "execution_count": 56,
     "metadata": {},
     "output_type": "execute_result"
    }
   ],
   "source": [
    "four_node_subgraphs[5].nodes()"
   ]
  },
  {
   "cell_type": "code",
   "execution_count": 57,
   "metadata": {
    "collapsed": false
   },
   "outputs": [
    {
     "data": {
      "text/plain": [
       "['security class', 'classifications', 'main classification', 'classification']"
      ]
     },
     "execution_count": 57,
     "metadata": {},
     "output_type": "execute_result"
    }
   ],
   "source": [
    "four_node_subgraphs[6].nodes()"
   ]
  },
  {
   "cell_type": "code",
   "execution_count": 58,
   "metadata": {
    "collapsed": false
   },
   "outputs": [
    {
     "data": {
      "text/plain": [
       "['t20umpired', 't20 umpired', 'umpt20debutyr', 'umpt20lastyr']"
      ]
     },
     "execution_count": 58,
     "metadata": {},
     "output_type": "execute_result"
    }
   ],
   "source": [
    "four_node_subgraphs[7].nodes()"
   ]
  },
  {
   "cell_type": "code",
   "execution_count": 59,
   "metadata": {
    "collapsed": false
   },
   "outputs": [
    {
     "data": {
      "text/plain": [
       "['ship speed', 'speed', 'average speed', 'operating speed']"
      ]
     },
     "execution_count": 59,
     "metadata": {},
     "output_type": "execute_result"
    }
   ],
   "source": [
    "four_node_subgraphs[8].nodes()"
   ]
  },
  {
   "cell_type": "code",
   "execution_count": 60,
   "metadata": {
    "collapsed": false
   },
   "outputs": [
    {
     "data": {
      "text/plain": [
       "['total launches', 'known launches', 'tlaunches', 'launches']"
      ]
     },
     "execution_count": 60,
     "metadata": {},
     "output_type": "execute_result"
    }
   ],
   "source": [
    "four_node_subgraphs[9].nodes()"
   ]
  },
  {
   "cell_type": "code",
   "execution_count": 61,
   "metadata": {
    "collapsed": false
   },
   "outputs": [
    {
     "data": {
      "image/png": "[encoded data removed]",
      "text/plain": [
       "<matplotlib.figure.Figure at 0x1164f3b50>"
      ]
     },
     "metadata": {},
     "output_type": "display_data"
    }
   ],
   "source": [
    "nx.draw(four_node_subgraphs[9], with_labels=True)"
   ]
  },
  {
   "cell_type": "markdown",
   "metadata": {},
   "source": [
    "## Eight node subgraphs"
   ]
  },
  {
   "cell_type": "code",
   "execution_count": 62,
   "metadata": {
    "collapsed": false
   },
   "outputs": [],
   "source": [
    "eight_node_subgraphs = G.connected_components_with_size(8)"
   ]
  },
  {
   "cell_type": "code",
   "execution_count": 63,
   "metadata": {
    "collapsed": false
   },
   "outputs": [
    {
     "data": {
      "text/plain": [
       "['defunct',\n",
       " 'ceased operation',\n",
       " 'year folded',\n",
       " 'deactivated',\n",
       " 'folded',\n",
       " 'ceased',\n",
       " 'yeardeactivated',\n",
       " 'ceased operations']"
      ]
     },
     "execution_count": 63,
     "metadata": {},
     "output_type": "execute_result"
    }
   ],
   "source": [
    "eight_node_subgraphs[0].nodes()"
   ]
  },
  {
   "cell_type": "code",
   "execution_count": 64,
   "metadata": {
    "collapsed": false
   },
   "outputs": [
    {
     "data": {
      "image/png": "[encoded data removed]",
      "text/plain": [
       "<matplotlib.figure.Figure at 0x1165f8b10>"
      ]
     },
     "metadata": {},
     "output_type": "display_data"
    }
   ],
   "source": [
    "nx.draw(eight_node_subgraphs[0], with_labels=True)"
   ]
  },
  {
   "cell_type": "code",
   "execution_count": 65,
   "metadata": {
    "collapsed": false
   },
   "outputs": [
    {
     "data": {
      "text/plain": [
       "['designation3 date',\n",
       " 'designation4 date',\n",
       " 'designation2 date',\n",
       " 'designated',\n",
       " 'designated as nhl',\n",
       " 'designation5 date',\n",
       " 'designation1 date',\n",
       " 'designated date']"
      ]
     },
     "execution_count": 65,
     "metadata": {},
     "output_type": "execute_result"
    }
   ],
   "source": [
    "eight_node_subgraphs[1].nodes()"
   ]
  },
  {
   "cell_type": "code",
   "execution_count": 66,
   "metadata": {
    "collapsed": false
   },
   "outputs": [
    {
     "data": {
      "image/png": "[encoded data removed]",
      "text/plain": [
       "<matplotlib.figure.Figure at 0x114b53490>"
      ]
     },
     "metadata": {},
     "output_type": "display_data"
    }
   ],
   "source": [
    "nx.draw(eight_node_subgraphs[1], with_labels=True)"
   ]
  },
  {
   "cell_type": "code",
   "execution_count": 67,
   "metadata": {
    "collapsed": false
   },
   "outputs": [
    {
     "data": {
      "text/plain": [
       "'rend'"
      ]
     },
     "execution_count": 67,
     "metadata": {},
     "output_type": "execute_result"
    }
   ],
   "source": [
    "G.rendering_of_graph_node(\"identifiers\")"
   ]
  },
  {
   "cell_type": "code",
   "execution_count": 68,
   "metadata": {
    "collapsed": false
   },
   "outputs": [
    {
     "data": {
      "text/plain": [
       "'unrend'"
      ]
     },
     "execution_count": 68,
     "metadata": {},
     "output_type": "execute_result"
    }
   ],
   "source": [
    "G.rendering_of_graph_node(\"lid\")"
   ]
  },
  {
   "cell_type": "code",
   "execution_count": 69,
   "metadata": {
    "collapsed": false
   },
   "outputs": [
    {
     "data": {
      "text/plain": [
       "'unrend'"
      ]
     },
     "execution_count": 69,
     "metadata": {},
     "output_type": "execute_result"
    }
   ],
   "source": [
    "G.rendering_of_graph_node(\"iata\")"
   ]
  },
  {
   "cell_type": "code",
   "execution_count": 70,
   "metadata": {
    "collapsed": false
   },
   "outputs": [
    {
     "data": {
      "text/plain": [
       "'unrend'"
      ]
     },
     "execution_count": 70,
     "metadata": {},
     "output_type": "execute_result"
    }
   ],
   "source": [
    "G.rendering_of_graph_node(\"icao\")"
   ]
  },
  {
   "cell_type": "code",
   "execution_count": 71,
   "metadata": {
    "collapsed": false
   },
   "outputs": [
    {
     "data": {
      "text/plain": [
       "'unrend'"
      ]
     },
     "execution_count": 71,
     "metadata": {},
     "output_type": "execute_result"
    }
   ],
   "source": [
    "G.rendering_of_graph_node(\"wmo\")"
   ]
  },
  {
   "cell_type": "code",
   "execution_count": 72,
   "metadata": {
    "collapsed": false
   },
   "outputs": [
    {
     "data": {
      "text/plain": [
       "'unrend'"
      ]
     },
     "execution_count": 72,
     "metadata": {},
     "output_type": "execute_result"
    }
   ],
   "source": [
    "G.rendering_of_graph_node(\"faa\")"
   ]
  },
  {
   "cell_type": "code",
   "execution_count": 73,
   "metadata": {
    "collapsed": false
   },
   "outputs": [
    {
     "data": {
      "text/plain": [
       "'unrend'"
      ]
     },
     "execution_count": 73,
     "metadata": {},
     "output_type": "execute_result"
    }
   ],
   "source": [
    "G.rendering_of_graph_node(\"tc\")"
   ]
  },
  {
   "cell_type": "code",
   "execution_count": 74,
   "metadata": {
    "collapsed": false
   },
   "outputs": [
    {
     "data": {
      "text/plain": [
       "'unrend'"
      ]
     },
     "execution_count": 74,
     "metadata": {},
     "output_type": "execute_result"
    }
   ],
   "source": [
    "G.rendering_of_graph_node(\"gps\")"
   ]
  },
  {
   "cell_type": "markdown",
   "metadata": {},
   "source": [
    "Well at least we know that those non-sense nodes are all unrend! I should probably ignore unrend entirely."
   ]
  },
  {
   "cell_type": "code",
   "execution_count": 75,
   "metadata": {
    "collapsed": false
   },
   "outputs": [
    {
     "data": {
      "text/plain": [
       "['current title',\n",
       " 'reprint',\n",
       " 'title',\n",
       " 'championship titles',\n",
       " 'titles',\n",
       " 'career title',\n",
       " '!!!!!titleyears!!!!!',\n",
       " 'title on the line']"
      ]
     },
     "execution_count": 75,
     "metadata": {},
     "output_type": "execute_result"
    }
   ],
   "source": [
    "eight_node_subgraphs[2].nodes()"
   ]
  },
  {
   "cell_type": "code",
   "execution_count": 76,
   "metadata": {
    "collapsed": false
   },
   "outputs": [
    {
     "data": {
      "image/png": "[encoded data removed]",
      "text/plain": [
       "<matplotlib.figure.Figure at 0x11651ab90>"
      ]
     },
     "metadata": {},
     "output_type": "display_data"
    }
   ],
   "source": [
    "nx.draw(eight_node_subgraphs[2], with_labels=True)"
   ]
  },
  {
   "cell_type": "code",
   "execution_count": 77,
   "metadata": {
    "collapsed": false
   },
   "outputs": [
    {
     "data": {
      "text/plain": [
       "['cause',\n",
       " 'date of death',\n",
       " 'place of death',\n",
       " 'death cause',\n",
       " 'death place',\n",
       " 'cause of death',\n",
       " 'death date',\n",
       " 'died']"
      ]
     },
     "execution_count": 77,
     "metadata": {},
     "output_type": "execute_result"
    }
   ],
   "source": [
    "eight_node_subgraphs[3].nodes()"
   ]
  },
  {
   "cell_type": "code",
   "execution_count": 78,
   "metadata": {
    "collapsed": false
   },
   "outputs": [
    {
     "data": {
      "image/png": "[encoded data removed]",
      "text/plain": [
       "<matplotlib.figure.Figure at 0x116eb1a90>"
      ]
     },
     "metadata": {},
     "output_type": "display_data"
    }
   ],
   "source": [
    "nx.draw(eight_node_subgraphs[3], with_labels=True)"
   ]
  },
  {
   "cell_type": "code",
   "execution_count": 79,
   "metadata": {
    "collapsed": false
   },
   "outputs": [
    {
     "data": {
      "text/plain": [
       "['bridge-type']"
      ]
     },
     "execution_count": 79,
     "metadata": {},
     "output_type": "execute_result"
    }
   ],
   "source": [
    "G.infoboxes_of_pair(\"sibling names\", \"related\")"
   ]
  },
  {
   "cell_type": "code",
   "execution_count": 80,
   "metadata": {
    "collapsed": false
   },
   "outputs": [
    {
     "data": {
      "text/plain": [
       "['awards and prizes',\n",
       " 'notable awards',\n",
       " 'awards and prizes and listings',\n",
       " 'awards won',\n",
       " 'civilian awards',\n",
       " 'awards',\n",
       " 'music awards',\n",
       " 'ren awards']"
      ]
     },
     "execution_count": 80,
     "metadata": {},
     "output_type": "execute_result"
    }
   ],
   "source": [
    "eight_node_subgraphs[4].nodes()"
   ]
  },
  {
   "cell_type": "code",
   "execution_count": 81,
   "metadata": {
    "collapsed": false
   },
   "outputs": [
    {
     "data": {
      "image/png": "[encoded data removed]",
      "text/plain": [
       "<matplotlib.figure.Figure at 0x116ebb050>"
      ]
     },
     "metadata": {},
     "output_type": "display_data"
    }
   ],
   "source": [
    "nx.draw(eight_node_subgraphs[4], with_labels=True)"
   ]
  },
  {
   "cell_type": "markdown",
   "metadata": {},
   "source": [
    "## Thirteen node subgraphs"
   ]
  },
  {
   "cell_type": "code",
   "execution_count": 82,
   "metadata": {
    "collapsed": false
   },
   "outputs": [],
   "source": [
    "thirteen_node_subgraphs = G.connected_components_with_size(13)"
   ]
  },
  {
   "cell_type": "code",
   "execution_count": 83,
   "metadata": {
    "collapsed": false
   },
   "outputs": [
    {
     "data": {
      "text/plain": [
       "['cnrr',\n",
       " 'nkrr',\n",
       " 'rr',\n",
       " 'rrho',\n",
       " 'rrgye',\n",
       " 'revised romanization',\n",
       " 'rra',\n",
       " 'revisedromanization',\n",
       " 'rrja',\n",
       " 'rrph',\n",
       " 'rrstage',\n",
       " 'skrr',\n",
       " 'rrborn']"
      ]
     },
     "execution_count": 83,
     "metadata": {},
     "output_type": "execute_result"
    }
   ],
   "source": [
    "thirteen_node_subgraphs[0].nodes()"
   ]
  },
  {
   "cell_type": "code",
   "execution_count": 84,
   "metadata": {
    "collapsed": false
   },
   "outputs": [
    {
     "data": {
      "text/plain": [
       "['listed weight',\n",
       " 'wet weight',\n",
       " 'weight',\n",
       " 'billed weight',\n",
       " 'weight gain loss',\n",
       " 'weight footnote',\n",
       " 'maleweight',\n",
       " 'current weight divisions',\n",
       " 'dry weight',\n",
       " 'rated at',\n",
       " 'male weight',\n",
       " 'curb weight',\n",
       " 'weight g']"
      ]
     },
     "execution_count": 84,
     "metadata": {},
     "output_type": "execute_result"
    }
   ],
   "source": [
    "thirteen_node_subgraphs[1].nodes()"
   ]
  },
  {
   "cell_type": "code",
   "execution_count": 85,
   "metadata": {
    "collapsed": false
   },
   "outputs": [
    {
     "data": {
      "image/png": "[encoded data removed]",
      "text/plain": [
       "<matplotlib.figure.Figure at 0x116379290>"
      ]
     },
     "metadata": {},
     "output_type": "display_data"
    }
   ],
   "source": [
    "nx.draw(thirteen_node_subgraphs[1], with_labels=True)"
   ]
  },
  {
   "cell_type": "markdown",
   "metadata": {},
   "source": [
    "## Fourteen node subgraphs"
   ]
  },
  {
   "cell_type": "code",
   "execution_count": 86,
   "metadata": {
    "collapsed": false
   },
   "outputs": [],
   "source": [
    "fourteen_node_subgraphs = G.connected_components_with_size(14)"
   ]
  },
  {
   "cell_type": "code",
   "execution_count": 87,
   "metadata": {
    "collapsed": false
   },
   "outputs": [
    {
     "data": {
      "text/plain": [
       "['Population (!!!!!popyear!!!!!)!!!!!population_footnotes!!!!!',\n",
       " 'total population',\n",
       " 'sizepopulation',\n",
       " 'citizen voting age',\n",
       " 'population as of',\n",
       " 'populationdate',\n",
       " 'Population (!!!!!population_year!!!!!)  * Voting age  * Citizen voting age',\n",
       " 'voting age',\n",
       " 'population - total - catholics',\n",
       " 'catholics percent',\n",
       " 'size population',\n",
       " 'size of population',\n",
       " 'catholics',\n",
       " 'population']"
      ]
     },
     "execution_count": 87,
     "metadata": {},
     "output_type": "execute_result"
    }
   ],
   "source": [
    "fourteen_node_subgraphs[0].nodes()"
   ]
  },
  {
   "cell_type": "code",
   "execution_count": 88,
   "metadata": {
    "collapsed": false
   },
   "outputs": [
    {
     "data": {
      "text/plain": [
       "['prospect league',\n",
       " 'currentclub',\n",
       " '!!!!!league!!!!! team (P) Cur. team Former teams',\n",
       " 'team members',\n",
       " 'ru currentteam',\n",
       " '!!!!!league!!!!! team',\n",
       " 'currentteam',\n",
       " 'currentcoachteam',\n",
       " 'current team',\n",
       " 'team',\n",
       " 'current club',\n",
       " 'prospect team',\n",
       " 'notable entrants',\n",
       " 'former teams']"
      ]
     },
     "execution_count": 88,
     "metadata": {},
     "output_type": "execute_result"
    }
   ],
   "source": [
    "fourteen_node_subgraphs[1].nodes()"
   ]
  },
  {
   "cell_type": "markdown",
   "metadata": {},
   "source": [
    "## Fifteen node subgraphs"
   ]
  },
  {
   "cell_type": "code",
   "execution_count": 89,
   "metadata": {
    "collapsed": false
   },
   "outputs": [],
   "source": [
    "fifteen_node_subgraphs = G.connected_components_with_size(15)"
   ]
  },
  {
   "cell_type": "code",
   "execution_count": 90,
   "metadata": {
    "collapsed": false
   },
   "outputs": [
    {
     "data": {
      "text/plain": [
       "['later work',\n",
       " 'other characteristics',\n",
       " 'other info',\n",
       " 'primary alcohol by volume',\n",
       " 'other outcome',\n",
       " 'laterwork',\n",
       " 'other-information',\n",
       " 'othernationalistic',\n",
       " 'other work',\n",
       " 'other information',\n",
       " 'other type fauna',\n",
       " 'other notes',\n",
       " 'otherlithology',\n",
       " 'other',\n",
       " 'otherwins']"
      ]
     },
     "execution_count": 90,
     "metadata": {},
     "output_type": "execute_result"
    }
   ],
   "source": [
    "fifteen_node_subgraphs[0].nodes()"
   ]
  },
  {
   "cell_type": "code",
   "execution_count": 91,
   "metadata": {
    "collapsed": false
   },
   "outputs": [
    {
     "data": {
      "image/png": "[encoded data removed]",
      "text/plain": [
       "<matplotlib.figure.Figure at 0x1164b0550>"
      ]
     },
     "metadata": {},
     "output_type": "display_data"
    }
   ],
   "source": [
    "nx.draw(fifteen_node_subgraphs[0], with_labels=True)"
   ]
  },
  {
   "cell_type": "markdown",
   "metadata": {},
   "source": [
    "## 33 node subgraph"
   ]
  },
  {
   "cell_type": "code",
   "execution_count": 97,
   "metadata": {
    "collapsed": false
   },
   "outputs": [],
   "source": [
    "fourfour_node_subgraphs = G.connected_components_with_size(33)"
   ]
  },
  {
   "cell_type": "code",
   "execution_count": 98,
   "metadata": {
    "collapsed": false
   },
   "outputs": [
    {
     "data": {
      "text/plain": [
       "['members',\n",
       " 'membership num',\n",
       " 'highest frequencies',\n",
       " 'crew members',\n",
       " 'teamsstart',\n",
       " 'lifetime',\n",
       " 'Membership (!!!!!membership_year!!!!!)',\n",
       " 'staff',\n",
       " 'teamsfinish',\n",
       " 'Membership  (!!!!!membership_year!!!!!)',\n",
       " 'notable members',\n",
       " 'crews',\n",
       " 'employee',\n",
       " 'staff writers',\n",
       " 'num employees',\n",
       " 'numemployees',\n",
       " 'plan membership',\n",
       " 'num staff',\n",
       " 'num members',\n",
       " 'nummembers',\n",
       " 'notable',\n",
       " 'membership',\n",
       " 'members year',\n",
       " 'membership est',\n",
       " 'staff writer',\n",
       " 'current members',\n",
       " 'notable martyrs',\n",
       " '!!!!!members_label!!!!!',\n",
       " 'employees',\n",
       " 'memberships',\n",
       " 'num employees year',\n",
       " '!!!!!membership_type!!!!!',\n",
       " 'number of employees']"
      ]
     },
     "execution_count": 98,
     "metadata": {},
     "output_type": "execute_result"
    }
   ],
   "source": [
    "fourfour_node_subgraphs[0].nodes()"
   ]
  },
  {
   "cell_type": "code",
   "execution_count": 106,
   "metadata": {
    "collapsed": false
   },
   "outputs": [
    {
     "data": {
      "image/png": "[encoded data removed]",
      "text/plain": [
       "<matplotlib.figure.Figure at 0x1189bae50>"
      ]
     },
     "metadata": {},
     "output_type": "display_data"
    }
   ],
   "source": [
    "nx.draw(fourfour_node_subgraphs[0], with_labels=True)"
   ]
  },
  {
   "cell_type": "markdown",
   "metadata": {},
   "source": [
    "## Largest subgraph"
   ]
  },
  {
   "cell_type": "code",
   "execution_count": 107,
   "metadata": {
    "collapsed": false
   },
   "outputs": [],
   "source": [
    "max_size = max(G.connected_component_lengths())"
   ]
  },
  {
   "cell_type": "code",
   "execution_count": 108,
   "metadata": {
    "collapsed": false
   },
   "outputs": [
    {
     "name": "stdout",
     "output_type": "stream",
     "text": [
      "Size of largest subgraph: 1002 nodes\n"
     ]
    }
   ],
   "source": [
    "print \"Size of largest subgraph: \" + str(max_size) + \" nodes\""
   ]
  },
  {
   "cell_type": "code",
   "execution_count": 109,
   "metadata": {
    "collapsed": false
   },
   "outputs": [],
   "source": [
    "max_graph = G.connected_components_with_size(max_size)[0]"
   ]
  },
  {
   "cell_type": "code",
   "execution_count": 110,
   "metadata": {
    "collapsed": false
   },
   "outputs": [
    {
     "data": {
      "text/plain": [
       "['',\n",
       " 'coach',\n",
       " 'founder',\n",
       " 'All-time series (!!!!!league!!!!! only)',\n",
       " 'serviceyears',\n",
       " 'first played',\n",
       " 'parentopening',\n",
       " 'last tournament',\n",
       " 'first published in',\n",
       " 'founded',\n",
       " 'manager',\n",
       " 'bus owner',\n",
       " 'track no',\n",
       " 'chair',\n",
       " 'captain',\n",
       " 'aliases',\n",
       " 'regulated by',\n",
       " 'homeworld',\n",
       " 'birthplace',\n",
       " 'ship commissioned',\n",
       " 'womens-tenure',\n",
       " 'related fields',\n",
       " 'population note',\n",
       " 'most recent',\n",
       " 'date taken',\n",
       " 'participants',\n",
       " 'languages',\n",
       " 'year established',\n",
       " 'power rating',\n",
       " 'homepage',\n",
       " 'competing nations',\n",
       " 'coor',\n",
       " 'ship capacity',\n",
       " 'episode creator',\n",
       " 'host country',\n",
       " 'external link',\n",
       " 'hostcity',\n",
       " 'life span',\n",
       " 'literally',\n",
       " 'coach losses',\n",
       " 'full name',\n",
       " 'invent-name',\n",
       " 'birth rate',\n",
       " 'key people',\n",
       " 'last meeting date',\n",
       " 'formation place',\n",
       " 'venue',\n",
       " 'coord ref',\n",
       " 'no of competitors',\n",
       " 'spectator capacity',\n",
       " 'planet coords',\n",
       " 'wc appearances',\n",
       " 'founder name',\n",
       " 'artist',\n",
       " 'tea time',\n",
       " 'neighborhood',\n",
       " 'leaders',\n",
       " 'disciplines',\n",
       " 'main venue',\n",
       " 'implementation language',\n",
       " 'first built',\n",
       " 'licensee',\n",
       " 'construction dates',\n",
       " 'design',\n",
       " 'main stadium',\n",
       " 'synchroname',\n",
       " 'latest release date',\n",
       " 'established',\n",
       " 'parent company',\n",
       " 'nearest settlement',\n",
       " 'section',\n",
       " 'formedmonthday',\n",
       " 'written by',\n",
       " 'current',\n",
       " 'version',\n",
       " 'femaleheight',\n",
       " 'capital',\n",
       " 'international',\n",
       " 'effective since',\n",
       " 'first appeared',\n",
       " 'confirmacion place',\n",
       " 'area footnotes',\n",
       " 'location of document',\n",
       " 'betreiber',\n",
       " 'local authority',\n",
       " 'full',\n",
       " 'national water and sanitation company',\n",
       " 'latest version',\n",
       " 'commissioning date',\n",
       " 'inauguration',\n",
       " 'founded place',\n",
       " 'power therm elec',\n",
       " 'class ab power output',\n",
       " 'to date',\n",
       " 'region or state',\n",
       " 'first release',\n",
       " 'groups',\n",
       " 'address',\n",
       " 'active',\n",
       " 'decom',\n",
       " 'invented',\n",
       " 'Number of !!!!!sport!!!!! clubs',\n",
       " 'publisher',\n",
       " 'host city',\n",
       " 'copyright',\n",
       " 'notable locations',\n",
       " 'premiere location',\n",
       " 'founding location',\n",
       " 'total power',\n",
       " 'webcite',\n",
       " 'planned retirement',\n",
       " 'last release',\n",
       " 'goldw',\n",
       " 'associated people',\n",
       " '!!!!!languages_type!!!!!',\n",
       " 'altname',\n",
       " 'formation',\n",
       " 'residents',\n",
       " 'produced by',\n",
       " 'winning coach',\n",
       " 'used by',\n",
       " 'location country',\n",
       " 'south website',\n",
       " 'festival date',\n",
       " 'fiscal year',\n",
       " 'names',\n",
       " 'read online',\n",
       " 'common name',\n",
       " 'stateabb',\n",
       " 'num branches',\n",
       " 'use',\n",
       " 'from',\n",
       " 'regional affiliation',\n",
       " 'time in space',\n",
       " 'pref',\n",
       " 'release dates',\n",
       " 'sports',\n",
       " 'current headquarters',\n",
       " 'head coach',\n",
       " 'last aired',\n",
       " 'location-dir',\n",
       " 'manager visitor',\n",
       " 'current season',\n",
       " 'minor teams',\n",
       " 'leader party',\n",
       " 'ship name',\n",
       " 'company',\n",
       " 'periodculture',\n",
       " 'studio albums',\n",
       " 'flag',\n",
       " 'coords ref',\n",
       " 'commissioned',\n",
       " 'current head',\n",
       " 'paralympicteams',\n",
       " 'symbol type article',\n",
       " 'year of formation',\n",
       " 'sub-confederations',\n",
       " 'final award',\n",
       " 'created',\n",
       " 'first holder',\n",
       " 'team manager',\n",
       " 'firstapp',\n",
       " 'official website',\n",
       " 'latest meeting',\n",
       " 'head union',\n",
       " 'demolition date',\n",
       " 'inscription',\n",
       " 'mint website',\n",
       " 'alternate names',\n",
       " 'additional names',\n",
       " 'first ep',\n",
       " 'zone appearances',\n",
       " 'author of publication',\n",
       " 'states',\n",
       " 'owned by',\n",
       " 'leader name',\n",
       " 'divefounded',\n",
       " 'location city',\n",
       " 'language footnote',\n",
       " 'firstappearance',\n",
       " 'end',\n",
       " 'competitors women',\n",
       " 'nearest town',\n",
       " 'years offered',\n",
       " 'competition date',\n",
       " '!!!!!chairperson_label!!!!!',\n",
       " 'other name',\n",
       " 'currentowner',\n",
       " 'chief executive',\n",
       " 'writers',\n",
       " 'notable aliases',\n",
       " 'construction completed',\n",
       " 'ancestor',\n",
       " 'establishment',\n",
       " 'area of operations',\n",
       " 'orig lang',\n",
       " 'wsa year',\n",
       " 'designer',\n",
       " 'gov body',\n",
       " 'blank emblem type',\n",
       " 'menscoach',\n",
       " '<!!!!!Prev!!!!! *',\n",
       " 'active ingredients',\n",
       " 'location place',\n",
       " 'stadium capacity',\n",
       " '!!!!!stdtitle!!!!!',\n",
       " 'lastmo',\n",
       " 'swimfounded',\n",
       " 'olympicteams',\n",
       " 'date of premiere',\n",
       " 'president',\n",
       " 'therapeutic use',\n",
       " 'years of service',\n",
       " 'wpfounded',\n",
       " 'introduced',\n",
       " 'branches',\n",
       " 'debuting countries',\n",
       " 'symbol type',\n",
       " 'first event',\n",
       " 'start note',\n",
       " 'dst note',\n",
       " 'headquarters',\n",
       " 'coordinates footnotes',\n",
       " 'alias',\n",
       " 'alternative designations',\n",
       " 'fromdate',\n",
       " 'tenure',\n",
       " 'official language form',\n",
       " 'publishing country',\n",
       " 'began',\n",
       " 'executed',\n",
       " 'producer',\n",
       " 'res surface',\n",
       " 'ecclesiastical province',\n",
       " 'language of origin',\n",
       " 'ended',\n",
       " 'synonyms',\n",
       " 'keypeople',\n",
       " 'managers',\n",
       " 'ship in service',\n",
       " 'developer',\n",
       " 'geolocate',\n",
       " 'areas affected',\n",
       " '01 gold',\n",
       " '!!!!!flag_type!!!!!',\n",
       " 'last service',\n",
       " 'coordinates',\n",
       " 'birthname',\n",
       " 'latd',\n",
       " 'founding guru',\n",
       " 'gold troy oz',\n",
       " 'latitude',\n",
       " 'date aired',\n",
       " '!!!!!coachtitle!!!!!',\n",
       " '!!!!!ceotag!!!!!',\n",
       " 'affected',\n",
       " 'web address',\n",
       " 'ceo',\n",
       " 'parent school',\n",
       " 'plant commission',\n",
       " 'start year',\n",
       " 'location-city',\n",
       " 'nation',\n",
       " 'hq location city',\n",
       " 'created by',\n",
       " 'online service',\n",
       " 'most appearances',\n",
       " 'important associated figures',\n",
       " 'silver',\n",
       " 'manager home',\n",
       " 'decommissioned',\n",
       " 'name',\n",
       " 'designed by',\n",
       " 'place premiered',\n",
       " 'debut',\n",
       " 'water source',\n",
       " 'obverse designer',\n",
       " 'decommission',\n",
       " 'alternativa place',\n",
       " 'original release',\n",
       " 'area ref',\n",
       " 'zodiac symbol',\n",
       " 'hq city',\n",
       " 'managed by',\n",
       " 'oscoor',\n",
       " 'area - maximum',\n",
       " 'operated by',\n",
       " 'first service',\n",
       " 'ship operator',\n",
       " 'date const',\n",
       " 'series',\n",
       " 'producedby',\n",
       " 'notable characters',\n",
       " 'operator',\n",
       " 'web site',\n",
       " 'year',\n",
       " 'issuing authority website',\n",
       " 'education required',\n",
       " 'coat of arms',\n",
       " 'stage surface',\n",
       " 'websitetitle',\n",
       " 'alt names',\n",
       " 'releasedate',\n",
       " 'commission date',\n",
       " 'currently held by',\n",
       " 'first flight',\n",
       " 'first edition',\n",
       " 'homecaptain',\n",
       " 'team captain',\n",
       " 'international affiliation',\n",
       " 'mens-tenure',\n",
       " 'operating area',\n",
       " 'female height',\n",
       " 'home world',\n",
       " 'supports',\n",
       " 'land area',\n",
       " 'foundation',\n",
       " 'country-origin',\n",
       " 'worldsteams',\n",
       " 'plant lat d',\n",
       " '!!!!!capital_type!!!!!',\n",
       " 'existed',\n",
       " '!!!!!resultyears!!!!!',\n",
       " 'chief exec',\n",
       " 'launch site',\n",
       " 'base',\n",
       " 'date max area',\n",
       " 'launchdate',\n",
       " 'poweroutput',\n",
       " 'epicenter',\n",
       " 'date closed',\n",
       " 'arena name',\n",
       " 'owners',\n",
       " 'service',\n",
       " 'language',\n",
       " 'launch',\n",
       " 'construction started',\n",
       " 'prenomen hiero',\n",
       " 'loctext',\n",
       " 'region ts',\n",
       " 'active region',\n",
       " 'place',\n",
       " 'coordinates ts',\n",
       " 'full case name',\n",
       " 'football stadium',\n",
       " 'awaycaptain',\n",
       " 'teammates',\n",
       " 'first',\n",
       " 'origin',\n",
       " 'bus operator',\n",
       " 'inflation source date',\n",
       " 'active personnel',\n",
       " 'owned',\n",
       " 'class c power output',\n",
       " 'lat',\n",
       " 'ship decommissioned',\n",
       " 'from date',\n",
       " 'owner',\n",
       " '!!!!!country_type!!!!!',\n",
       " 'common languages',\n",
       " 'utc',\n",
       " 'base color',\n",
       " 'city',\n",
       " 'management',\n",
       " 'major teams',\n",
       " 'introduction',\n",
       " 'origin lat d',\n",
       " 'supporting character of',\n",
       " 'maidenname',\n",
       " 'origin time',\n",
       " 'worst case performance',\n",
       " 'golden hiero',\n",
       " 'element of stories featuring',\n",
       " 'convention',\n",
       " 'pub series',\n",
       " 'final',\n",
       " 'south operator',\n",
       " 'original language',\n",
       " 'pageurl',\n",
       " 'transmitter coordinates',\n",
       " 'latest release',\n",
       " 'pub date',\n",
       " 'park',\n",
       " 'first series',\n",
       " 'appears in',\n",
       " 'first date',\n",
       " 'released',\n",
       " 'psa year',\n",
       " 'authors',\n",
       " 'location signed',\n",
       " 'translation',\n",
       " 'prefecture',\n",
       " 'holder',\n",
       " '- abolished',\n",
       " 'plant name',\n",
       " 'inventor',\n",
       " 'aka',\n",
       " 'last appearance',\n",
       " 'obverse design',\n",
       " 'utc offset',\n",
       " '* !!!!!leader_title!!!!!',\n",
       " 'latest release version',\n",
       " 'orbital period',\n",
       " 'fullname',\n",
       " 'ship launched',\n",
       " 'published',\n",
       " 'date created',\n",
       " 'area note',\n",
       " 'reverse design',\n",
       " 'decommission date',\n",
       " 'invented by',\n",
       " 'topics',\n",
       " 'locations',\n",
       " 'varsity teams',\n",
       " 'largest cities',\n",
       " 'demolished date',\n",
       " 'current region',\n",
       " 'oly appearances',\n",
       " 'origin coordinates',\n",
       " 'start date',\n",
       " 'borough',\n",
       " 'femaleweight',\n",
       " 'nextseason',\n",
       " 'silverw',\n",
       " '!!!!!coach_title!!!!!',\n",
       " 'date of formation',\n",
       " 'date',\n",
       " 'built',\n",
       " 'date of introduction source',\n",
       " 'available in',\n",
       " 'fr total population estimate year',\n",
       " 'official languages',\n",
       " 'cylinder head alloy',\n",
       " 'canton',\n",
       " 'official language in',\n",
       " 'date-built',\n",
       " 'country represented',\n",
       " 'demolished',\n",
       " 'chairman',\n",
       " 'ground coordinates',\n",
       " 'clan affiliations',\n",
       " 'coachcount',\n",
       " 'silverm',\n",
       " 'version date',\n",
       " 'nahestadt',\n",
       " 'closing date',\n",
       " 'province',\n",
       " 'Average electricity use (!!!!!useyear!!!!!)',\n",
       " 'branchto',\n",
       " 'ring name',\n",
       " 'ship owner',\n",
       " 'franchise dates',\n",
       " 'men teams',\n",
       " 'translated name',\n",
       " 'max area',\n",
       " 'os grid ref',\n",
       " 'also called',\n",
       " 'hq location country',\n",
       " 'time zones',\n",
       " 'printer website',\n",
       " 'debutmo',\n",
       " 'final holder',\n",
       " 'reverse designer',\n",
       " 'creationdate',\n",
       " 'synonym',\n",
       " 'silver troy oz',\n",
       " 'goldm',\n",
       " '!!!!!leader_type!!!!!',\n",
       " 'url',\n",
       " 'closed date',\n",
       " 'totalarea',\n",
       " 'wpname',\n",
       " 'women teams',\n",
       " '02 silver',\n",
       " 'date released',\n",
       " 'total of teams',\n",
       " '!!!!!CEO_title!!!!!',\n",
       " 'location state',\n",
       " 'formation year',\n",
       " 'number of teams',\n",
       " 'first episode',\n",
       " 'site area',\n",
       " 'surface area',\n",
       " 'gold',\n",
       " 'runemaster',\n",
       " 'visitor',\n",
       " 'country or region',\n",
       " 'country of origin',\n",
       " 'discovered',\n",
       " 'availability by country',\n",
       " 'air dates',\n",
       " 'headquarters location',\n",
       " 'first new world',\n",
       " 'o start',\n",
       " 'home page',\n",
       " '!!!!!mgrtitle!!!!!',\n",
       " 'availability',\n",
       " 'seating-capacity',\n",
       " 'ground',\n",
       " 'coach ties',\n",
       " 'transdate',\n",
       " 'based',\n",
       " 'nicknames',\n",
       " 'en alt title',\n",
       " 'lat degrees',\n",
       " 'sizeland',\n",
       " 'inaugurated',\n",
       " 'athletics nicknames',\n",
       " 'developers',\n",
       " 'mens',\n",
       " 'webpage',\n",
       " 'names list',\n",
       " 'region of origin',\n",
       " 'subsection',\n",
       " 'alternative name',\n",
       " 'nation from',\n",
       " 'member party',\n",
       " 'coor pinpoint',\n",
       " 'production company',\n",
       " 'home venue',\n",
       " '!!!!!event_type!!!!!',\n",
       " 'north operator',\n",
       " 'settlements',\n",
       " 'swimname',\n",
       " 'notable people',\n",
       " 'first awarded',\n",
       " 'year active',\n",
       " 'last new world',\n",
       " 'clans',\n",
       " 'years',\n",
       " 'service branches',\n",
       " 'closure',\n",
       " 'no of teams',\n",
       " 'original state',\n",
       " 'no of nations',\n",
       " 'countries',\n",
       " 'spokesperson',\n",
       " 'hq state',\n",
       " 'began operations',\n",
       " 'coord',\n",
       " 'teams',\n",
       " 'sports fielded',\n",
       " 'place of birth',\n",
       " 'official language',\n",
       " 'powerout',\n",
       " 'release',\n",
       " 'propellant capacity',\n",
       " 'home era',\n",
       " 'creator',\n",
       " 'official site',\n",
       " 'available',\n",
       " 'place of origin',\n",
       " 'final result',\n",
       " 'locale',\n",
       " 'prevfounded',\n",
       " 'other title',\n",
       " 'gridreference',\n",
       " 'end note',\n",
       " 'mcurrent',\n",
       " 'lifespan',\n",
       " 'operated',\n",
       " 'close',\n",
       " 'sport',\n",
       " 'available f',\n",
       " 'year founded',\n",
       " 'capacity',\n",
       " 'languageorigin',\n",
       " 'lat long',\n",
       " 'away',\n",
       " '!!!!!firstlabel!!!!!',\n",
       " 'state',\n",
       " 'coach wins',\n",
       " 'closed',\n",
       " 'significant design',\n",
       " 'author',\n",
       " 'first aired',\n",
       " 'discovery',\n",
       " '- created',\n",
       " 'publishers',\n",
       " 'parent',\n",
       " 'publishing city',\n",
       " 'last flight',\n",
       " 'solar site area',\n",
       " '!!!!!region_label!!!!!',\n",
       " 'tea origin',\n",
       " 'year of invention',\n",
       " 'ranked',\n",
       " 'other designations',\n",
       " 'design effort',\n",
       " 'formed month day',\n",
       " 'group',\n",
       " 'original owner',\n",
       " 'cities',\n",
       " '!!!!!chairman_label!!!!!',\n",
       " 'engine date',\n",
       " 'bronze',\n",
       " 'competitors men',\n",
       " 'last',\n",
       " 'home ground',\n",
       " 'residence',\n",
       " 'region',\n",
       " 'ballpark',\n",
       " 'formedyear',\n",
       " '!!!!!region_type!!!!!',\n",
       " 'nonfiction topics',\n",
       " 'home arena',\n",
       " 'synchrofounded',\n",
       " 'lyrics date',\n",
       " 'designations',\n",
       " 'founded by',\n",
       " 'coined by',\n",
       " 'north website',\n",
       " 'other names',\n",
       " 'formed year',\n",
       " '!!!!!party_label!!!!!',\n",
       " 'telescope area',\n",
       " 'date premiered',\n",
       " 'winning time',\n",
       " 'appeared',\n",
       " 'first publication',\n",
       " 'discontinued',\n",
       " 'first tournament',\n",
       " 'ancestor names',\n",
       " 'venues',\n",
       " 'leader title',\n",
       " 'transpublisher',\n",
       " 'retail availability',\n",
       " 'cultivar group',\n",
       " 'arena location',\n",
       " 'alt name',\n",
       " 'nationality',\n",
       " 'certifying agency',\n",
       " 'Flag of !!!!!common_name!!!!!',\n",
       " 'parent body',\n",
       " 'introduction os',\n",
       " 'configuration',\n",
       " '!!!!!chair_label!!!!!',\n",
       " 'resort',\n",
       " 'date of birth',\n",
       " 'built in',\n",
       " 'instituted',\n",
       " 'grid reference',\n",
       " 'current operator',\n",
       " 'stadium',\n",
       " 'destination countries',\n",
       " 'time spent in space',\n",
       " '!!!!!ownertitle!!!!!',\n",
       " 'engine',\n",
       " 'arena',\n",
       " '03 bronze',\n",
       " '- coordinates',\n",
       " 'total site area',\n",
       " 'park section',\n",
       " 'final release',\n",
       " 'formed',\n",
       " 'dates',\n",
       " 'founders',\n",
       " 'west website',\n",
       " 'date of equipping',\n",
       " 'also known as',\n",
       " 'location founded',\n",
       " 'rescuename',\n",
       " 'branchfrom',\n",
       " 'Installed capacity (!!!!!capacityyear!!!!!)',\n",
       " 'wcurrent',\n",
       " 'active as of',\n",
       " 'introduced in',\n",
       " \"men's coach\",\n",
       " 'appearance',\n",
       " 'last launch',\n",
       " 'nomen hiero',\n",
       " 'captained by',\n",
       " 'num teams',\n",
       " 'online services',\n",
       " 'hq location',\n",
       " 'country',\n",
       " 'east os grid reference',\n",
       " 'areatotal',\n",
       " 'robust struct built',\n",
       " 'power output',\n",
       " 'period in office',\n",
       " 'west operator',\n",
       " 'first release date',\n",
       " 'nations',\n",
       " 'site',\n",
       " 'surface',\n",
       " 'nebty hiero',\n",
       " 'debuthead',\n",
       " 'finalists',\n",
       " 'launch date',\n",
       " 'plant operator',\n",
       " 'female weight',\n",
       " 'publication date',\n",
       " 'agency',\n",
       " 'coa',\n",
       " 'memorial',\n",
       " 'linename',\n",
       " 'power consumption',\n",
       " 'orbitalperiod',\n",
       " 'original run',\n",
       " 'prov',\n",
       " 'track owner',\n",
       " 'writer',\n",
       " 'coach year',\n",
       " 'west os grid reference',\n",
       " 'party',\n",
       " '!!!!!owntitle!!!!!',\n",
       " 'events',\n",
       " 'inventors',\n",
       " 'finish',\n",
       " 'fire captain',\n",
       " 'abolition',\n",
       " 'premiere',\n",
       " 'appearances',\n",
       " 'gbgridref',\n",
       " 'last meeting result',\n",
       " '!!!!!captaintitle!!!!!',\n",
       " 'wpheadcoach',\n",
       " 'bronzew',\n",
       " 'divename',\n",
       " 'producers',\n",
       " 'pen name',\n",
       " 'ownership',\n",
       " 'o end',\n",
       " 'nickname',\n",
       " 'official names',\n",
       " 'cityvillage',\n",
       " 'available for military service',\n",
       " 'country ts',\n",
       " 'swimheadcoach',\n",
       " 'mostrecent',\n",
       " 'coordinates note',\n",
       " 'introduction date',\n",
       " 'lat d',\n",
       " 'first launch',\n",
       " 'launched',\n",
       " 'organization',\n",
       " 'creators',\n",
       " 'location ts',\n",
       " 'commodore',\n",
       " 'based in',\n",
       " 'geographic coordinates',\n",
       " 'introdate',\n",
       " 'mastersname',\n",
       " 'major cities',\n",
       " '!!!!!leadershiptitle!!!!!',\n",
       " 'end point',\n",
       " 'related scientific disciplines',\n",
       " 'coach start',\n",
       " 'premiere date',\n",
       " 'home stadium',\n",
       " 'to',\n",
       " 'original work',\n",
       " 'web',\n",
       " 'webapp',\n",
       " 'retirement',\n",
       " 'south os grid reference',\n",
       " 'first year',\n",
       " 'common nicknames',\n",
       " 'seating capacity',\n",
       " 'year of completion',\n",
       " 'othernames',\n",
       " 'source',\n",
       " 'construction began',\n",
       " 'yearsactive',\n",
       " 'parents',\n",
       " 'location',\n",
       " 'origlanguage',\n",
       " 'full title',\n",
       " 'usage',\n",
       " 'burned area',\n",
       " 'osgraw',\n",
       " '!!!!!teams_label!!!!!',\n",
       " 'associations',\n",
       " 'Medals Ranked !!!!!rank!!!!!th',\n",
       " 'time zone',\n",
       " '!!!!!prev!!!!! (!!!!!prev_no!!!!!)',\n",
       " 'prime mover',\n",
       " 'broadcast from',\n",
       " 'period',\n",
       " 'commonname',\n",
       " 'years active',\n",
       " 'coached by',\n",
       " 'last date',\n",
       " 'birth',\n",
       " 'original source',\n",
       " 'birth date',\n",
       " 'current owner',\n",
       " 'final edition',\n",
       " 'trans capacity',\n",
       " 'wind site area',\n",
       " 'birth place',\n",
       " 'first season',\n",
       " 'release date',\n",
       " 'homescore',\n",
       " 'version release date',\n",
       " 'data sources',\n",
       " 'coords',\n",
       " 'headcoach',\n",
       " '!!!!!home!!!!!',\n",
       " 'principal venue',\n",
       " 'prog lang',\n",
       " 'birth name',\n",
       " '!!!!!chrtitle!!!!!',\n",
       " 'burn time',\n",
       " 'date established',\n",
       " 'political party',\n",
       " 'earliest publications',\n",
       " 'original author',\n",
       " 'people',\n",
       " 'yearconstruction',\n",
       " 'footage',\n",
       " 'journey time',\n",
       " 'spill date',\n",
       " 'last event',\n",
       " 'parent unit',\n",
       " 'founded at',\n",
       " 'effective region',\n",
       " 'broadcast area',\n",
       " 'launch location',\n",
       " 'duration',\n",
       " 'home',\n",
       " 'orbit period',\n",
       " 'nations participating',\n",
       " 'born',\n",
       " 'tea names',\n",
       " 'first recorded',\n",
       " 'national side',\n",
       " 'altoffsp',\n",
       " '!!!!!head_name!!!!!',\n",
       " 'debutyr',\n",
       " 'ancestor arts',\n",
       " 'discontinuation place',\n",
       " 'mass number',\n",
       " 'monarchy abolished',\n",
       " 'discontinuation',\n",
       " 'mastersfounded',\n",
       " 'geographic origin',\n",
       " 'rescuefounded',\n",
       " 'leader',\n",
       " 'first award',\n",
       " 'programming language',\n",
       " 'destruction date',\n",
       " 'flight origin',\n",
       " 'bauzeit',\n",
       " 'plant decommission',\n",
       " 'power',\n",
       " 'coach end',\n",
       " 'name, symbol',\n",
       " 'transponder capacity',\n",
       " 'chiefexec',\n",
       " 'ground capacity',\n",
       " 'leadership',\n",
       " 'Coat of arms of !!!!!name!!!!! Coat of arms',\n",
       " 'arena coord',\n",
       " 'lyrics',\n",
       " 'parent range',\n",
       " 'diveheadcoach',\n",
       " 'managing agency',\n",
       " 'confederations',\n",
       " 'flourished',\n",
       " 'origins',\n",
       " 'east website',\n",
       " 'creators series',\n",
       " 'internationalspan',\n",
       " 'ended service',\n",
       " 'discontinuation date',\n",
       " 'exposure latitude',\n",
       " 'primemover',\n",
       " 'bronzem',\n",
       " 'end year',\n",
       " 'year start',\n",
       " 'womens',\n",
       " 'first flight aircraft',\n",
       " 'coordinates ref',\n",
       " 'memorials',\n",
       " 'winner-origin',\n",
       " 'end date',\n",
       " 'discovery date',\n",
       " 'collecting area',\n",
       " '!!!!!coordinate_title!!!!!',\n",
       " 'first primeval',\n",
       " 'stop',\n",
       " 'termini',\n",
       " 'artists',\n",
       " 'earlier spellings',\n",
       " '!!!!!head_label!!!!!',\n",
       " 'in service',\n",
       " 'alternative names',\n",
       " 'synchroheadcoach',\n",
       " 'important events',\n",
       " 'alt title',\n",
       " 'area',\n",
       " 'museum',\n",
       " 'apps',\n",
       " 'stateterritory',\n",
       " 'tour captain',\n",
       " 'captains',\n",
       " 'start',\n",
       " 'current affiliation date',\n",
       " 'planet landing',\n",
       " 'lage',\n",
       " 'area of origin',\n",
       " 'last primeval',\n",
       " 'engine power',\n",
       " 'geographical range',\n",
       " 'lang',\n",
       " 'head',\n",
       " 'only',\n",
       " 'continents',\n",
       " 'inauguration date',\n",
       " 'start point',\n",
       " 'first release version',\n",
       " 'east operator',\n",
       " 'founding year',\n",
       " 'construction',\n",
       " 'alternate name',\n",
       " 'engine decommissioned',\n",
       " 'mastersheadcoach',\n",
       " 'os grid reference',\n",
       " 'first appearance',\n",
       " '!!!!!gold!!!!!',\n",
       " 'geographic distribution',\n",
       " 'initial release',\n",
       " 'language count',\n",
       " 'final winner',\n",
       " 'morenicks',\n",
       " 'official',\n",
       " 'clubs',\n",
       " 'city of license',\n",
       " 'arearank',\n",
       " 'rescueheadcoach',\n",
       " 'founded date',\n",
       " 'current-owner',\n",
       " 'first released',\n",
       " 'branched from',\n",
       " 'sc operator',\n",
       " 'year end',\n",
       " 'telescope name',\n",
       " '!!!!!countrytag!!!!!',\n",
       " 'administrative centre',\n",
       " 'todate',\n",
       " 'gridref',\n",
       " 'source of milk',\n",
       " 'major events',\n",
       " 'imam',\n",
       " 'location region',\n",
       " 'alter ego',\n",
       " 'developed by',\n",
       " 'written in',\n",
       " 'timezone',\n",
       " 'year closed',\n",
       " 'constructed',\n",
       " 'firstmo',\n",
       " 'parent institution',\n",
       " 'covered area',\n",
       " 'current owners',\n",
       " 'dates of operation',\n",
       " 'competitors',\n",
       " 'event',\n",
       " 'website',\n",
       " 'nick',\n",
       " 'weak struct built',\n",
       " 'teammanager',\n",
       " 'north os grid reference',\n",
       " 'nat',\n",
       " '!!!!!years!!!!!',\n",
       " 'construct start',\n",
       " '!!!!!leader_title!!!!!',\n",
       " 'ship nickname',\n",
       " '- Previous season !!!!!prevseason!!!!!',\n",
       " 'whytetype',\n",
       " 'pseudonym',\n",
       " 'elements',\n",
       " 'final date',\n",
       " 'yesorretiredyear',\n",
       " 'early forms',\n",
       " 'symbol',\n",
       " '!!!!!lastevent!!!!!',\n",
       " 'main producers',\n",
       " '- origin',\n",
       " 'altnames',\n",
       " 'osgridref',\n",
       " 'year built',\n",
       " 'est',\n",
       " 'formation date',\n",
       " 'invented year',\n",
       " 'wordname',\n",
       " 'organelle-year',\n",
       " 'munwebpage',\n",
       " 'present location',\n",
       " 'coaching career',\n",
       " 'opm protein',\n",
       " 'chairperson',\n",
       " 'studio',\n",
       " 'point of origin',\n",
       " 'folk tale name',\n",
       " 'first flight date',\n",
       " '- !!!!!prevseason!!!!!',\n",
       " 'countryflag',\n",
       " ...]"
      ]
     },
     "execution_count": 110,
     "metadata": {},
     "output_type": "execute_result"
    }
   ],
   "source": [
    "max_graph.nodes()"
   ]
  },
  {
   "cell_type": "code",
   "execution_count": 111,
   "metadata": {
    "collapsed": false
   },
   "outputs": [
    {
     "data": {
      "image/png": "[encoded data removed]",
      "text/plain": [
       "<matplotlib.figure.Figure at 0x1189af950>"
      ]
     },
     "metadata": {},
     "output_type": "display_data"
    }
   ],
   "source": [
    "nx.draw(max_graph, with_labels=True)"
   ]
  },
  {
   "cell_type": "markdown",
   "metadata": {},
   "source": [
    "Enough said."
   ]
  }
 ],
 "metadata": {
  "kernelspec": {
   "display_name": "Python 2",
   "language": "python",
   "name": "python2"
  },
  "language_info": {
   "codemirror_mode": {
    "name": "ipython",
    "version": 2
   },
   "file_extension": ".py",
   "mimetype": "text/x-python",
   "name": "python",
   "nbconvert_exporter": "python",
   "pygments_lexer": "ipython2",
   "version": "2.7.10"
  }
 },
 "nbformat": 4,
 "nbformat_minor": 0
}
